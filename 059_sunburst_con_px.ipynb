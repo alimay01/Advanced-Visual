{
  "cells": [
    {
      "cell_type": "code",
      "source": [
        "from google.colab import drive\n",
        "drive.mount('/content/drive')"
      ],
      "metadata": {
        "colab": {
          "base_uri": "https://localhost:8080/"
        },
        "id": "4INKI3vefzoc",
        "outputId": "b7c61f4a-4a5a-49f9-ddd2-e04305f163b7"
      },
      "id": "4INKI3vefzoc",
      "execution_count": 2,
      "outputs": [
        {
          "output_type": "stream",
          "name": "stdout",
          "text": [
            "Mounted at /content/drive\n"
          ]
        }
      ]
    },
    {
      "cell_type": "code",
      "execution_count": 1,
      "id": "fe2379b2",
      "metadata": {
        "id": "fe2379b2"
      },
      "outputs": [],
      "source": [
        "import pandas as pd\n",
        "import plotly.express as px\n",
        "import numpy as np"
      ]
    },
    {
      "cell_type": "code",
      "execution_count": 3,
      "id": "e7a4d32d",
      "metadata": {
        "id": "e7a4d32d"
      },
      "outputs": [],
      "source": [
        "datosCoches = pd.read_pickle(\"/content/drive/MyDrive/Colab Notebooks/datos_vehiculos_2016.pkl\")"
      ]
    },
    {
      "cell_type": "code",
      "execution_count": 4,
      "id": "3ae60837",
      "metadata": {
        "colab": {
          "base_uri": "https://localhost:8080/"
        },
        "id": "3ae60837",
        "outputId": "b488b607-6526-430d-8ff1-95437959663e"
      },
      "outputs": [
        {
          "output_type": "execute_result",
          "data": {
            "text/plain": [
              "(4490, 20)"
            ]
          },
          "metadata": {},
          "execution_count": 4
        }
      ],
      "source": [
        "datosCoches.shape"
      ]
    },
    {
      "cell_type": "code",
      "execution_count": 5,
      "id": "93600491",
      "metadata": {
        "colab": {
          "base_uri": "https://localhost:8080/",
          "height": 414
        },
        "id": "93600491",
        "outputId": "9d25f379-8014-4bf7-a8d0-30cd6b21f514"
      },
      "outputs": [
        {
          "output_type": "execute_result",
          "data": {
            "text/plain": [
              "       Manufacturer  Model  EngineCapacity FuelType  MetricUrbanCold  \\\n",
              "count          4490   4490     4490.000000     4490      4459.000000   \n",
              "unique           44    450             NaN        7              NaN   \n",
              "top             BMW  Coupe             NaN   Diesel              NaN   \n",
              "freq            607    260             NaN     2274              NaN   \n",
              "mean            NaN    NaN     1991.111804      NaN         6.925252   \n",
              "std             NaN    NaN      828.057573      NaN         2.800404   \n",
              "min             NaN    NaN      647.000000      NaN         0.000000   \n",
              "25%             NaN    NaN     1499.000000      NaN         5.200000   \n",
              "50%             NaN    NaN     1968.000000      NaN         6.100000   \n",
              "75%             NaN    NaN     1997.000000      NaN         7.700000   \n",
              "max             NaN    NaN     6752.000000      NaN        25.600000   \n",
              "\n",
              "        MetricExtraUrban  MetricCombined  ImperialUrbanCold  \\\n",
              "count        4459.000000     4490.000000        4459.000000   \n",
              "unique               NaN             NaN                NaN   \n",
              "top                  NaN             NaN                NaN   \n",
              "freq                 NaN             NaN                NaN   \n",
              "mean            4.790491        5.549042          45.364230   \n",
              "std             1.224893        1.794549          12.962089   \n",
              "min             0.000000        0.600000           0.000000   \n",
              "25%             4.000000        4.400000          36.700000   \n",
              "50%             4.500000        5.100000          46.300000   \n",
              "75%             5.300000        6.100000          54.300000   \n",
              "max            11.800000       16.300000          97.400000   \n",
              "\n",
              "        ImperialExtraUrban  ImperialCombined       CO2gkm  FuelCost12000Miles  \\\n",
              "count          4459.000000       4490.000000  4490.000000         4490.000000   \n",
              "unique                 NaN               NaN          NaN                 NaN   \n",
              "top                    NaN               NaN          NaN                 NaN   \n",
              "freq                   NaN               NaN          NaN                 NaN   \n",
              "mean             62.014891         55.120445   135.823163         1086.980401   \n",
              "std              12.771535         15.869631    39.732306          348.519954   \n",
              "min               0.000000         17.300000    13.000000          117.000000   \n",
              "25%              53.300000         46.300000   112.000000          867.000000   \n",
              "50%              62.800000         55.400000   127.000000          999.500000   \n",
              "75%              70.600000         64.200000   149.000000         1202.000000   \n",
              "max             104.600000        470.800000   380.000000         3185.000000   \n",
              "\n",
              "        EuroStandard  NoiseLeveldBA  EmissionsCOmgkm  THCEmissionsmgkm  \\\n",
              "count         4490.0    4490.000000      4490.000000       2230.000000   \n",
              "unique           NaN            NaN              NaN               NaN   \n",
              "top              NaN            NaN              NaN               NaN   \n",
              "freq             NaN            NaN              NaN               NaN   \n",
              "mean             6.0      71.302249       260.113007         41.636726   \n",
              "std              0.0       1.969812       143.096498         14.819350   \n",
              "min              6.0      66.000000        10.000000          4.000000   \n",
              "25%              6.0      70.000000       156.000000         33.000000   \n",
              "50%              6.0      71.000000       230.000000         41.000000   \n",
              "75%              6.0      73.000000       329.000000         49.000000   \n",
              "max              6.0      76.000000       913.000000        412.000000   \n",
              "\n",
              "        EmissionsNOxmgkm  THC+NOxEmissionsmgkm  ParticulatesNo_mgkm    Tipo  \n",
              "count        4490.000000           2289.000000          2293.000000    4490  \n",
              "unique               NaN                   NaN                  NaN       3  \n",
              "top                  NaN                   NaN                  NaN  Diesel  \n",
              "freq                 NaN                   NaN                  NaN    2274  \n",
              "mean           37.138886             80.458934             0.300039     NaN  \n",
              "std            18.805169             22.962894             0.331194     NaN  \n",
              "min             1.000000             19.000000             0.000000     NaN  \n",
              "25%            23.000000             66.000000             0.060000     NaN  \n",
              "50%            36.000000             81.000000             0.180000     NaN  \n",
              "75%            52.000000             97.000000             0.480000     NaN  \n",
              "max           169.000000            163.000000             3.050000     NaN  "
            ],
            "text/html": [
              "\n",
              "  <div id=\"df-09be0678-864f-4dfb-aacc-e05f61fb2e43\" class=\"colab-df-container\">\n",
              "    <div>\n",
              "<style scoped>\n",
              "    .dataframe tbody tr th:only-of-type {\n",
              "        vertical-align: middle;\n",
              "    }\n",
              "\n",
              "    .dataframe tbody tr th {\n",
              "        vertical-align: top;\n",
              "    }\n",
              "\n",
              "    .dataframe thead th {\n",
              "        text-align: right;\n",
              "    }\n",
              "</style>\n",
              "<table border=\"1\" class=\"dataframe\">\n",
              "  <thead>\n",
              "    <tr style=\"text-align: right;\">\n",
              "      <th></th>\n",
              "      <th>Manufacturer</th>\n",
              "      <th>Model</th>\n",
              "      <th>EngineCapacity</th>\n",
              "      <th>FuelType</th>\n",
              "      <th>MetricUrbanCold</th>\n",
              "      <th>MetricExtraUrban</th>\n",
              "      <th>MetricCombined</th>\n",
              "      <th>ImperialUrbanCold</th>\n",
              "      <th>ImperialExtraUrban</th>\n",
              "      <th>ImperialCombined</th>\n",
              "      <th>CO2gkm</th>\n",
              "      <th>FuelCost12000Miles</th>\n",
              "      <th>EuroStandard</th>\n",
              "      <th>NoiseLeveldBA</th>\n",
              "      <th>EmissionsCOmgkm</th>\n",
              "      <th>THCEmissionsmgkm</th>\n",
              "      <th>EmissionsNOxmgkm</th>\n",
              "      <th>THC+NOxEmissionsmgkm</th>\n",
              "      <th>ParticulatesNo_mgkm</th>\n",
              "      <th>Tipo</th>\n",
              "    </tr>\n",
              "  </thead>\n",
              "  <tbody>\n",
              "    <tr>\n",
              "      <th>count</th>\n",
              "      <td>4490</td>\n",
              "      <td>4490</td>\n",
              "      <td>4490.000000</td>\n",
              "      <td>4490</td>\n",
              "      <td>4459.000000</td>\n",
              "      <td>4459.000000</td>\n",
              "      <td>4490.000000</td>\n",
              "      <td>4459.000000</td>\n",
              "      <td>4459.000000</td>\n",
              "      <td>4490.000000</td>\n",
              "      <td>4490.000000</td>\n",
              "      <td>4490.000000</td>\n",
              "      <td>4490.0</td>\n",
              "      <td>4490.000000</td>\n",
              "      <td>4490.000000</td>\n",
              "      <td>2230.000000</td>\n",
              "      <td>4490.000000</td>\n",
              "      <td>2289.000000</td>\n",
              "      <td>2293.000000</td>\n",
              "      <td>4490</td>\n",
              "    </tr>\n",
              "    <tr>\n",
              "      <th>unique</th>\n",
              "      <td>44</td>\n",
              "      <td>450</td>\n",
              "      <td>NaN</td>\n",
              "      <td>7</td>\n",
              "      <td>NaN</td>\n",
              "      <td>NaN</td>\n",
              "      <td>NaN</td>\n",
              "      <td>NaN</td>\n",
              "      <td>NaN</td>\n",
              "      <td>NaN</td>\n",
              "      <td>NaN</td>\n",
              "      <td>NaN</td>\n",
              "      <td>NaN</td>\n",
              "      <td>NaN</td>\n",
              "      <td>NaN</td>\n",
              "      <td>NaN</td>\n",
              "      <td>NaN</td>\n",
              "      <td>NaN</td>\n",
              "      <td>NaN</td>\n",
              "      <td>3</td>\n",
              "    </tr>\n",
              "    <tr>\n",
              "      <th>top</th>\n",
              "      <td>BMW</td>\n",
              "      <td>Coupe</td>\n",
              "      <td>NaN</td>\n",
              "      <td>Diesel</td>\n",
              "      <td>NaN</td>\n",
              "      <td>NaN</td>\n",
              "      <td>NaN</td>\n",
              "      <td>NaN</td>\n",
              "      <td>NaN</td>\n",
              "      <td>NaN</td>\n",
              "      <td>NaN</td>\n",
              "      <td>NaN</td>\n",
              "      <td>NaN</td>\n",
              "      <td>NaN</td>\n",
              "      <td>NaN</td>\n",
              "      <td>NaN</td>\n",
              "      <td>NaN</td>\n",
              "      <td>NaN</td>\n",
              "      <td>NaN</td>\n",
              "      <td>Diesel</td>\n",
              "    </tr>\n",
              "    <tr>\n",
              "      <th>freq</th>\n",
              "      <td>607</td>\n",
              "      <td>260</td>\n",
              "      <td>NaN</td>\n",
              "      <td>2274</td>\n",
              "      <td>NaN</td>\n",
              "      <td>NaN</td>\n",
              "      <td>NaN</td>\n",
              "      <td>NaN</td>\n",
              "      <td>NaN</td>\n",
              "      <td>NaN</td>\n",
              "      <td>NaN</td>\n",
              "      <td>NaN</td>\n",
              "      <td>NaN</td>\n",
              "      <td>NaN</td>\n",
              "      <td>NaN</td>\n",
              "      <td>NaN</td>\n",
              "      <td>NaN</td>\n",
              "      <td>NaN</td>\n",
              "      <td>NaN</td>\n",
              "      <td>2274</td>\n",
              "    </tr>\n",
              "    <tr>\n",
              "      <th>mean</th>\n",
              "      <td>NaN</td>\n",
              "      <td>NaN</td>\n",
              "      <td>1991.111804</td>\n",
              "      <td>NaN</td>\n",
              "      <td>6.925252</td>\n",
              "      <td>4.790491</td>\n",
              "      <td>5.549042</td>\n",
              "      <td>45.364230</td>\n",
              "      <td>62.014891</td>\n",
              "      <td>55.120445</td>\n",
              "      <td>135.823163</td>\n",
              "      <td>1086.980401</td>\n",
              "      <td>6.0</td>\n",
              "      <td>71.302249</td>\n",
              "      <td>260.113007</td>\n",
              "      <td>41.636726</td>\n",
              "      <td>37.138886</td>\n",
              "      <td>80.458934</td>\n",
              "      <td>0.300039</td>\n",
              "      <td>NaN</td>\n",
              "    </tr>\n",
              "    <tr>\n",
              "      <th>std</th>\n",
              "      <td>NaN</td>\n",
              "      <td>NaN</td>\n",
              "      <td>828.057573</td>\n",
              "      <td>NaN</td>\n",
              "      <td>2.800404</td>\n",
              "      <td>1.224893</td>\n",
              "      <td>1.794549</td>\n",
              "      <td>12.962089</td>\n",
              "      <td>12.771535</td>\n",
              "      <td>15.869631</td>\n",
              "      <td>39.732306</td>\n",
              "      <td>348.519954</td>\n",
              "      <td>0.0</td>\n",
              "      <td>1.969812</td>\n",
              "      <td>143.096498</td>\n",
              "      <td>14.819350</td>\n",
              "      <td>18.805169</td>\n",
              "      <td>22.962894</td>\n",
              "      <td>0.331194</td>\n",
              "      <td>NaN</td>\n",
              "    </tr>\n",
              "    <tr>\n",
              "      <th>min</th>\n",
              "      <td>NaN</td>\n",
              "      <td>NaN</td>\n",
              "      <td>647.000000</td>\n",
              "      <td>NaN</td>\n",
              "      <td>0.000000</td>\n",
              "      <td>0.000000</td>\n",
              "      <td>0.600000</td>\n",
              "      <td>0.000000</td>\n",
              "      <td>0.000000</td>\n",
              "      <td>17.300000</td>\n",
              "      <td>13.000000</td>\n",
              "      <td>117.000000</td>\n",
              "      <td>6.0</td>\n",
              "      <td>66.000000</td>\n",
              "      <td>10.000000</td>\n",
              "      <td>4.000000</td>\n",
              "      <td>1.000000</td>\n",
              "      <td>19.000000</td>\n",
              "      <td>0.000000</td>\n",
              "      <td>NaN</td>\n",
              "    </tr>\n",
              "    <tr>\n",
              "      <th>25%</th>\n",
              "      <td>NaN</td>\n",
              "      <td>NaN</td>\n",
              "      <td>1499.000000</td>\n",
              "      <td>NaN</td>\n",
              "      <td>5.200000</td>\n",
              "      <td>4.000000</td>\n",
              "      <td>4.400000</td>\n",
              "      <td>36.700000</td>\n",
              "      <td>53.300000</td>\n",
              "      <td>46.300000</td>\n",
              "      <td>112.000000</td>\n",
              "      <td>867.000000</td>\n",
              "      <td>6.0</td>\n",
              "      <td>70.000000</td>\n",
              "      <td>156.000000</td>\n",
              "      <td>33.000000</td>\n",
              "      <td>23.000000</td>\n",
              "      <td>66.000000</td>\n",
              "      <td>0.060000</td>\n",
              "      <td>NaN</td>\n",
              "    </tr>\n",
              "    <tr>\n",
              "      <th>50%</th>\n",
              "      <td>NaN</td>\n",
              "      <td>NaN</td>\n",
              "      <td>1968.000000</td>\n",
              "      <td>NaN</td>\n",
              "      <td>6.100000</td>\n",
              "      <td>4.500000</td>\n",
              "      <td>5.100000</td>\n",
              "      <td>46.300000</td>\n",
              "      <td>62.800000</td>\n",
              "      <td>55.400000</td>\n",
              "      <td>127.000000</td>\n",
              "      <td>999.500000</td>\n",
              "      <td>6.0</td>\n",
              "      <td>71.000000</td>\n",
              "      <td>230.000000</td>\n",
              "      <td>41.000000</td>\n",
              "      <td>36.000000</td>\n",
              "      <td>81.000000</td>\n",
              "      <td>0.180000</td>\n",
              "      <td>NaN</td>\n",
              "    </tr>\n",
              "    <tr>\n",
              "      <th>75%</th>\n",
              "      <td>NaN</td>\n",
              "      <td>NaN</td>\n",
              "      <td>1997.000000</td>\n",
              "      <td>NaN</td>\n",
              "      <td>7.700000</td>\n",
              "      <td>5.300000</td>\n",
              "      <td>6.100000</td>\n",
              "      <td>54.300000</td>\n",
              "      <td>70.600000</td>\n",
              "      <td>64.200000</td>\n",
              "      <td>149.000000</td>\n",
              "      <td>1202.000000</td>\n",
              "      <td>6.0</td>\n",
              "      <td>73.000000</td>\n",
              "      <td>329.000000</td>\n",
              "      <td>49.000000</td>\n",
              "      <td>52.000000</td>\n",
              "      <td>97.000000</td>\n",
              "      <td>0.480000</td>\n",
              "      <td>NaN</td>\n",
              "    </tr>\n",
              "    <tr>\n",
              "      <th>max</th>\n",
              "      <td>NaN</td>\n",
              "      <td>NaN</td>\n",
              "      <td>6752.000000</td>\n",
              "      <td>NaN</td>\n",
              "      <td>25.600000</td>\n",
              "      <td>11.800000</td>\n",
              "      <td>16.300000</td>\n",
              "      <td>97.400000</td>\n",
              "      <td>104.600000</td>\n",
              "      <td>470.800000</td>\n",
              "      <td>380.000000</td>\n",
              "      <td>3185.000000</td>\n",
              "      <td>6.0</td>\n",
              "      <td>76.000000</td>\n",
              "      <td>913.000000</td>\n",
              "      <td>412.000000</td>\n",
              "      <td>169.000000</td>\n",
              "      <td>163.000000</td>\n",
              "      <td>3.050000</td>\n",
              "      <td>NaN</td>\n",
              "    </tr>\n",
              "  </tbody>\n",
              "</table>\n",
              "</div>\n",
              "    <div class=\"colab-df-buttons\">\n",
              "\n",
              "  <div class=\"colab-df-container\">\n",
              "    <button class=\"colab-df-convert\" onclick=\"convertToInteractive('df-09be0678-864f-4dfb-aacc-e05f61fb2e43')\"\n",
              "            title=\"Convert this dataframe to an interactive table.\"\n",
              "            style=\"display:none;\">\n",
              "\n",
              "  <svg xmlns=\"http://www.w3.org/2000/svg\" height=\"24px\" viewBox=\"0 -960 960 960\">\n",
              "    <path d=\"M120-120v-720h720v720H120Zm60-500h600v-160H180v160Zm220 220h160v-160H400v160Zm0 220h160v-160H400v160ZM180-400h160v-160H180v160Zm440 0h160v-160H620v160ZM180-180h160v-160H180v160Zm440 0h160v-160H620v160Z\"/>\n",
              "  </svg>\n",
              "    </button>\n",
              "\n",
              "  <style>\n",
              "    .colab-df-container {\n",
              "      display:flex;\n",
              "      gap: 12px;\n",
              "    }\n",
              "\n",
              "    .colab-df-convert {\n",
              "      background-color: #E8F0FE;\n",
              "      border: none;\n",
              "      border-radius: 50%;\n",
              "      cursor: pointer;\n",
              "      display: none;\n",
              "      fill: #1967D2;\n",
              "      height: 32px;\n",
              "      padding: 0 0 0 0;\n",
              "      width: 32px;\n",
              "    }\n",
              "\n",
              "    .colab-df-convert:hover {\n",
              "      background-color: #E2EBFA;\n",
              "      box-shadow: 0px 1px 2px rgba(60, 64, 67, 0.3), 0px 1px 3px 1px rgba(60, 64, 67, 0.15);\n",
              "      fill: #174EA6;\n",
              "    }\n",
              "\n",
              "    .colab-df-buttons div {\n",
              "      margin-bottom: 4px;\n",
              "    }\n",
              "\n",
              "    [theme=dark] .colab-df-convert {\n",
              "      background-color: #3B4455;\n",
              "      fill: #D2E3FC;\n",
              "    }\n",
              "\n",
              "    [theme=dark] .colab-df-convert:hover {\n",
              "      background-color: #434B5C;\n",
              "      box-shadow: 0px 1px 3px 1px rgba(0, 0, 0, 0.15);\n",
              "      filter: drop-shadow(0px 1px 2px rgba(0, 0, 0, 0.3));\n",
              "      fill: #FFFFFF;\n",
              "    }\n",
              "  </style>\n",
              "\n",
              "    <script>\n",
              "      const buttonEl =\n",
              "        document.querySelector('#df-09be0678-864f-4dfb-aacc-e05f61fb2e43 button.colab-df-convert');\n",
              "      buttonEl.style.display =\n",
              "        google.colab.kernel.accessAllowed ? 'block' : 'none';\n",
              "\n",
              "      async function convertToInteractive(key) {\n",
              "        const element = document.querySelector('#df-09be0678-864f-4dfb-aacc-e05f61fb2e43');\n",
              "        const dataTable =\n",
              "          await google.colab.kernel.invokeFunction('convertToInteractive',\n",
              "                                                    [key], {});\n",
              "        if (!dataTable) return;\n",
              "\n",
              "        const docLinkHtml = 'Like what you see? Visit the ' +\n",
              "          '<a target=\"_blank\" href=https://colab.research.google.com/notebooks/data_table.ipynb>data table notebook</a>'\n",
              "          + ' to learn more about interactive tables.';\n",
              "        element.innerHTML = '';\n",
              "        dataTable['output_type'] = 'display_data';\n",
              "        await google.colab.output.renderOutput(dataTable, element);\n",
              "        const docLink = document.createElement('div');\n",
              "        docLink.innerHTML = docLinkHtml;\n",
              "        element.appendChild(docLink);\n",
              "      }\n",
              "    </script>\n",
              "  </div>\n",
              "\n",
              "\n",
              "<div id=\"df-4a822e20-09f2-466c-8980-55feea99b706\">\n",
              "  <button class=\"colab-df-quickchart\" onclick=\"quickchart('df-4a822e20-09f2-466c-8980-55feea99b706')\"\n",
              "            title=\"Suggest charts\"\n",
              "            style=\"display:none;\">\n",
              "\n",
              "<svg xmlns=\"http://www.w3.org/2000/svg\" height=\"24px\"viewBox=\"0 0 24 24\"\n",
              "     width=\"24px\">\n",
              "    <g>\n",
              "        <path d=\"M19 3H5c-1.1 0-2 .9-2 2v14c0 1.1.9 2 2 2h14c1.1 0 2-.9 2-2V5c0-1.1-.9-2-2-2zM9 17H7v-7h2v7zm4 0h-2V7h2v10zm4 0h-2v-4h2v4z\"/>\n",
              "    </g>\n",
              "</svg>\n",
              "  </button>\n",
              "\n",
              "<style>\n",
              "  .colab-df-quickchart {\n",
              "      --bg-color: #E8F0FE;\n",
              "      --fill-color: #1967D2;\n",
              "      --hover-bg-color: #E2EBFA;\n",
              "      --hover-fill-color: #174EA6;\n",
              "      --disabled-fill-color: #AAA;\n",
              "      --disabled-bg-color: #DDD;\n",
              "  }\n",
              "\n",
              "  [theme=dark] .colab-df-quickchart {\n",
              "      --bg-color: #3B4455;\n",
              "      --fill-color: #D2E3FC;\n",
              "      --hover-bg-color: #434B5C;\n",
              "      --hover-fill-color: #FFFFFF;\n",
              "      --disabled-bg-color: #3B4455;\n",
              "      --disabled-fill-color: #666;\n",
              "  }\n",
              "\n",
              "  .colab-df-quickchart {\n",
              "    background-color: var(--bg-color);\n",
              "    border: none;\n",
              "    border-radius: 50%;\n",
              "    cursor: pointer;\n",
              "    display: none;\n",
              "    fill: var(--fill-color);\n",
              "    height: 32px;\n",
              "    padding: 0;\n",
              "    width: 32px;\n",
              "  }\n",
              "\n",
              "  .colab-df-quickchart:hover {\n",
              "    background-color: var(--hover-bg-color);\n",
              "    box-shadow: 0 1px 2px rgba(60, 64, 67, 0.3), 0 1px 3px 1px rgba(60, 64, 67, 0.15);\n",
              "    fill: var(--button-hover-fill-color);\n",
              "  }\n",
              "\n",
              "  .colab-df-quickchart-complete:disabled,\n",
              "  .colab-df-quickchart-complete:disabled:hover {\n",
              "    background-color: var(--disabled-bg-color);\n",
              "    fill: var(--disabled-fill-color);\n",
              "    box-shadow: none;\n",
              "  }\n",
              "\n",
              "  .colab-df-spinner {\n",
              "    border: 2px solid var(--fill-color);\n",
              "    border-color: transparent;\n",
              "    border-bottom-color: var(--fill-color);\n",
              "    animation:\n",
              "      spin 1s steps(1) infinite;\n",
              "  }\n",
              "\n",
              "  @keyframes spin {\n",
              "    0% {\n",
              "      border-color: transparent;\n",
              "      border-bottom-color: var(--fill-color);\n",
              "      border-left-color: var(--fill-color);\n",
              "    }\n",
              "    20% {\n",
              "      border-color: transparent;\n",
              "      border-left-color: var(--fill-color);\n",
              "      border-top-color: var(--fill-color);\n",
              "    }\n",
              "    30% {\n",
              "      border-color: transparent;\n",
              "      border-left-color: var(--fill-color);\n",
              "      border-top-color: var(--fill-color);\n",
              "      border-right-color: var(--fill-color);\n",
              "    }\n",
              "    40% {\n",
              "      border-color: transparent;\n",
              "      border-right-color: var(--fill-color);\n",
              "      border-top-color: var(--fill-color);\n",
              "    }\n",
              "    60% {\n",
              "      border-color: transparent;\n",
              "      border-right-color: var(--fill-color);\n",
              "    }\n",
              "    80% {\n",
              "      border-color: transparent;\n",
              "      border-right-color: var(--fill-color);\n",
              "      border-bottom-color: var(--fill-color);\n",
              "    }\n",
              "    90% {\n",
              "      border-color: transparent;\n",
              "      border-bottom-color: var(--fill-color);\n",
              "    }\n",
              "  }\n",
              "</style>\n",
              "\n",
              "  <script>\n",
              "    async function quickchart(key) {\n",
              "      const quickchartButtonEl =\n",
              "        document.querySelector('#' + key + ' button');\n",
              "      quickchartButtonEl.disabled = true;  // To prevent multiple clicks.\n",
              "      quickchartButtonEl.classList.add('colab-df-spinner');\n",
              "      try {\n",
              "        const charts = await google.colab.kernel.invokeFunction(\n",
              "            'suggestCharts', [key], {});\n",
              "      } catch (error) {\n",
              "        console.error('Error during call to suggestCharts:', error);\n",
              "      }\n",
              "      quickchartButtonEl.classList.remove('colab-df-spinner');\n",
              "      quickchartButtonEl.classList.add('colab-df-quickchart-complete');\n",
              "    }\n",
              "    (() => {\n",
              "      let quickchartButtonEl =\n",
              "        document.querySelector('#df-4a822e20-09f2-466c-8980-55feea99b706 button');\n",
              "      quickchartButtonEl.style.display =\n",
              "        google.colab.kernel.accessAllowed ? 'block' : 'none';\n",
              "    })();\n",
              "  </script>\n",
              "</div>\n",
              "    </div>\n",
              "  </div>\n"
            ]
          },
          "metadata": {},
          "execution_count": 5
        }
      ],
      "source": [
        "datosCoches.describe(include = 'all')"
      ]
    },
    {
      "cell_type": "markdown",
      "id": "dc842e89",
      "metadata": {
        "id": "dc842e89"
      },
      "source": [
        "### El gráfico anterior indica, mediante un diagrama de barras verticales, el número de vehículos de cada marca/fabricante en el Reino Unido durante el año 2016, ordenados de mayor a menor incidencia en el parque automovilístico del país.\n",
        "--------------------------"
      ]
    },
    {
      "cell_type": "code",
      "execution_count": 6,
      "id": "c67e82bb",
      "metadata": {
        "scrolled": false,
        "id": "c67e82bb"
      },
      "outputs": [],
      "source": [
        "vehiculosXcombustible = pd.value_counts(datosCoches['FuelType'],\n",
        "                                        sort = True)\n"
      ]
    },
    {
      "cell_type": "code",
      "execution_count": 7,
      "id": "5a2fa7b3",
      "metadata": {
        "colab": {
          "base_uri": "https://localhost:8080/",
          "height": 567
        },
        "id": "5a2fa7b3",
        "outputId": "e4afe410-5ced-422d-c3df-bef260e09341"
      },
      "outputs": [
        {
          "output_type": "display_data",
          "data": {
            "text/html": [
              "<html>\n",
              "<head><meta charset=\"utf-8\" /></head>\n",
              "<body>\n",
              "    <div>            <script src=\"https://cdnjs.cloudflare.com/ajax/libs/mathjax/2.7.5/MathJax.js?config=TeX-AMS-MML_SVG\"></script><script type=\"text/javascript\">if (window.MathJax && window.MathJax.Hub && window.MathJax.Hub.Config) {window.MathJax.Hub.Config({SVG: {font: \"STIX-Web\"}});}</script>                <script type=\"text/javascript\">window.PlotlyConfig = {MathJaxConfig: 'local'};</script>\n",
              "        <script charset=\"utf-8\" src=\"https://cdn.plot.ly/plotly-2.24.1.min.js\"></script>                <div id=\"a9d6c7ec-3366-468a-b6c7-d9de6e847444\" class=\"plotly-graph-div\" style=\"height:550px; width:950px;\"></div>            <script type=\"text/javascript\">                                    window.PLOTLYENV=window.PLOTLYENV || {};                                    if (document.getElementById(\"a9d6c7ec-3366-468a-b6c7-d9de6e847444\")) {                    Plotly.newPlot(                        \"a9d6c7ec-3366-468a-b6c7-d9de6e847444\",                        [{\"branchvalues\":\"total\",\"customdata\":[[124.36399064692128],[124.1969696969697],[97.02749140893471],[121.22865013774104],[119.69166387679947],[148.55762987012986],[120.08333333333333],[125.46165084002922],[135.0630797773655],[104.03256936067551],[105.34248788368336],[148.2164948453608],[126.48772045492007],[132.71225974995335],[113.916015625],[107.51942186088527],[102.23739237392374],[246.50912778904666],[150.74419387411646],[151.10636277302945],[145.68669772748882],[174.61700048851978],[97.78235294117647],[135.73029045643153],[138.7565374211001],[117.34634146341463],[107.76780185758514],[119.38977635782747],[104.16025641025641],[114.21929824561404],[106.55172413793103],[249.0],[249.0],[249.0],[184.0500200080032],[275.0],[275.0],[275.0],[275.0],[275.0],[147.94042343673067],[169.76809453471196],[195.1773674039081],[220.75339114965533],[131.06056466302368],[122.68700878409616],[113.29276773296245],[113.90921690921691],[127.53758300132802],[121.89871244635194],[126.69118006352309],[121.39532619279454],[154.62398703403565],[153.91078838174275],[148.79281685960225],[156.24463519313304],[144.239510908655],[139.66698633421242],[165.12941176470588],[198.67424524785687],[217.5103448275862],[135.5278810408922],[123.59205190592051],[126.26550079491255],[161.0],[157.0],[143.31955150665732],[329.4812170133499],[118.47751605995717],[121.5231866825208],[124.41039236479321],[122.97823066234368],[143.1454802259887],[144.05610098176717],[119.85236768802228],[120.70401106500691],[132.1707480711171],[132.88196065355118],[141.57142857142858],[144.05610098176717],[132.49453978159127],[119.44270656239374],[133.58785942492014],[113.75],[143.90887850467288],[152.0994623655914],[124.59839357429719],[108.33704974271012],[129.92661481230977],[370.0],[96.01041666666667],[118.84175993824778],[121.66026410564226],[133.08706677937448],[129.8957871396896],[296.0],[118.59318423855166],[194.25696594427245],[128.50513581374116],[122.36719624076974],[94.93139841688654],[99.5021645021645],[108.45370370370371],[105.16387559808612],[98.4841997961264],[110.70091185410334],[114.50218340611353],[137.77906976744185],[140.8172514619883],[186.05],[183.81782945736435],[149.86320109439126],[94.0],[91.9400544959128],[132.67471410419313],[136.85330073349633],[131.26143790849673],[114.0],[132.74353448275863],[132.6867924528302],[164.70445344129556],[173.49464138499587],[111.00152207001523],[166.80980980980982],[159.6269592476489],[165.47806354009077],[178.9250883392226],[128.875],[161.3239875389408],[152.05777777777777],[227.40272108843538],[199.61703470031546],[95.69291338582677],[101.3596837944664],[137.5540765391015],[138.33664596273292],[113.64090909090909],[100.9959349593496],[252.0793650793651],[337.12314540059344],[123.60560747663551],[127.38602941176471],[119.15481434864695],[120.36734693877551],[164.16638005159072],[146.11986137667304],[158.1801573369742],[139.4548736462094],[124.26256983240224],[325.0],[325.0],[100.668],[92.0],[330.0],[240.614406779661],[164.24276729559747],[151.02857142857144],[138.21315468940315],[150.15456989247312],[177.75628794449264],[178.80348004094165],[124.54385964912281],[134.05279034690798],[136.15613382899627],[150.51495016611295],[159.58441558441558],[199.0],[234.0],[269.0],[255.0],[211.0],[203.0],[234.0],[269.0],[103.01392757660167],[102.74098961514966],[114.23321799307959],[111.46896551724137],[254.0],[300.06960950764005],[158.85475504322767],[294.69125214408234],[266.21382842509604],[136.29129540781358],[132.77735849056603],[155.0],[182.96338983050848],[251.6324435318275],[260.0],[142.3583138173302],[112.15],[143.69141531322506],[179.80613668061366],[275.0],[261.0],[199.90136054421768],[328.0030487804878],[123.55244029075804],[118.43240223463687],[124.42494226327945],[118.91088725300271],[115.89532079112398],[112.17715019255456],[126.91332263242376],[121.97741273100615],[121.97741273100615],[121.39933444259567],[290.0],[167.0],[102.87104622871047],[107.81535269709543],[115.03256846780162],[111.7976011994003],[120.93788819875776],[142.7856525496975],[116.0028818443804],[113.59611992945327],[174.9882005899705],[166.41795665634675],[193.50520833333334],[327.0],[269.8421052631579],[244.4172767203514],[143.87587523870147],[142.1904090267983],[270.5822550831793],[264.3601895734597],[115.27203482045702],[164.53799392097264],[132.88813559322034],[146.33561643835617],[114.0],[115.0],[117.73962804005723],[152.89023051591658],[140.89973142345568],[142.31443755535872],[226.79017857142858],[192.68512110726644],[122.25996908809891],[125.35253189022033],[123.16988653787182],[132.50125944584383],[164.0],[112.10030395136778],[199.12562814070353],[208.12019230769232],[113.46050168476226],[114.66763848396502],[112.48711656441718],[128.821374508023],[121.37273991655077],[151.65230460921845],[151.82492581602375],[144.26829268292684],[150.80666666666667],[194.1366006256517],[107.46529080675423],[113.69333333333333],[119.66596417281349],[120.55833333333334],[121.45289256198348],[113.19365337672905],[174.0],[141.98716119828816],[129.125],[120.44654088050315],[105.93333333333334],[102.94647201946472],[99.50251256281408],[138.99265246142542],[130.48660714285714],[140.3343023255814],[140.99132947976878],[342.0],[257.88028169014086],[124.26256983240224],[124.26256983240224],[131.5171102661597],[134.74968071519797],[122.82223183391004],[119.03973214285715],[139.0],[126.01986754966887],[108.18075117370893],[109.23433874709977],[113.42136498516321],[110.75565610859728],[117.70334412081985],[140.78336162988114],[119.85250338294993],[117.64876033057851],[142.95500135538086],[174.83981693363845],[105.93333333333334],[120.83014416775885],[119.72127937336815],[155.3268817204301],[146.8839590443686],[44.0],[211.00581818181817],[109.83095723014257],[121.86005560704356],[133.59176029962546],[114.47972142564522],[112.71975051975052],[347.50215827338127],[112.52466367713005],[114.15452688904017],[107.05567226890756],[49.0],[99.38926174496645],[73.12328767123287],[90.52486187845304],[124.02295081967213],[128.125],[137.55193420651844],[129.17425483131348],[163.92924791086352],[137.81275551921505],[163.6204620462046],[177.687306501548],[127.15459525258673],[218.23584905660377],[123.95378151260505],[277.0],[157.0],[127.78164556962025],[168.0],[251.0],[115.01739130434783],[210.4442456768038],[157.53773584905662],[232.8111510791367],[149.19807186678352],[224.67776917118513],[104.30658105939006],[103.53634894991923],[300.0],[300.0],[189.13227513227514],[112.17734724292102],[111.31400966183575],[234.28432432432433],[201.25255972696246],[171.66204162537164],[156.53993610223642],[150.6345514950166],[149.36684782608697],[113.97891231964483],[118.47581903276131],[130.35135135135135],[121.74897119341564],[223.6163753449862],[230.7036379769299],[141.5447284345048],[151.68119891008175],[126.27503974562798],[107.17840375586854],[112.10030395136778],[166.83783783783784],[126.69539078156312],[134.17323481116586],[241.55072463768116],[165.41051567239637],[138.3918007265179],[145.87769784172662],[120.99691643539933],[118.73964110929853],[130.22243713733076],[152.48863636363637],[222.0],[142.84308131241085],[103.16796875],[121.22620689655173],[123.44805194805195],[121.23841059602648],[101.5615763546798],[162.81572481572482],[159.8160200250313],[150.78318584070797],[155.7066381156317],[154.5566343042071],[160.04630788485608],[158.448798988622],[163.76970160673298],[160.6629680998613],[145.04541484716157],[194.97175866495508],[103.67796610169492],[103.89825406381698],[164.51367781155014],[343.0],[343.0],[116.07868131868132],[110.01909150757076],[115.0750307503075],[117.3139240506329],[114.67394468704512],[309.0064829821718],[309.0064829821718],[124.20161290322581],[298.0],[298.0],[332.0],[132.6943793911007],[119.0],[145.46180555555554],[152.05],[118.26808510638298],[102.38762214983713],[242.0],[327.0],[130.45454545454547],[133.57677902621722],[128.74095796676443],[145.36212854181065],[145.36212854181065],[258.0],[167.4170168067227],[258.0],[185.94803149606298],[139.84948453608249],[136.53751537515376],[138.6],[154.16145833333334],[159.92027972027972],[139.79823594266813],[123.0],[172.15162907268171],[129.0],[198.1750219876869],[140.42268041237114],[151.06637168141592],[97.94175438596491],[130.76524859046643],[180.9962382445141],[138.64097148891236],[147.34548611111111],[115.56795889771135],[111.3202416918429],[97.51282051282051],[98.50761421319797],[95.54450261780104],[41.45161290322581],[116.74291938997821],[113.82405745062836],[110.0],[134.06201550387595],[127.08672086720867],[119.46638655462185],[211.92890995260663],[133.22784810126583],[122.52764761012183],[138.82306684141545],[129.12627986348122],[316.1771595900439],[141.52797571727976],[307.0787436407874],[144.36145094492312],[217.00181708055723],[107.70717035611165],[124.15130023640661],[110.70774437587099],[329.4812170133499],[124.37810861106412],[136.92519900602284],[136.5475522967436],[140.83377023901312],[137.68793173506705],[187.59424724602204],[128.4637589549094],[334.8484848484849],[200.23342340469756],[149.78789538545803],[222.0],[209.4281045751634],[124.93986184477855],[157.34368615934628],[136.57035765895955],[163.36351958895312],[268.2842323651452],[142.76629213483147],[108.6190745452832],[209.0568500435077],[119.91036274607775],[338.1527931927488],[122.07987517429122],[117.41961346295363],[97.28149100257069],[165.41621112158342],[162.87510644337212],[126.00913705583757],[126.39121171770972],[129.00162343937228],[125.41516870133616],[158.7479830964272],[123.09276097836047],[147.44345293729893]],\"domain\":{\"x\":[0.0,1.0],\"y\":[0.0,1.0]},\"hovertemplate\":\"labels=%{label}\\u003cbr\\u003eCO2gkm_sum=%{value}\\u003cbr\\u003eparent=%{parent}\\u003cbr\\u003eid=%{id}\\u003cbr\\u003eCO2 - G\\u002fKM=%{color}\\u003cextra\\u003e\\u003c\\u002fextra\\u003e\",\"ids\":[\"Marcas\\u002fFabricantes\\u002fBMW\\u002f1 Series 3-door F21, From September 2012\",\"Marcas\\u002fFabricantes\\u002fBMW\\u002f1 Series 5-door F20, From September 2011\",\"Marcas\\u002fFabricantes\\u002fPEUGEOT\\u002f108\",\"Marcas\\u002fFabricantes\\u002fBMW\\u002f2 Series Active Tourer F45, From March 2016\",\"Marcas\\u002fFabricantes\\u002fBMW\\u002f2 Series Active Tourer F45, From September 2014\",\"Marcas\\u002fFabricantes\\u002fBMW\\u002f2 Series Convertible F23, From February 2015\",\"Marcas\\u002fFabricantes\\u002fBMW\\u002f2 Series Convertible F23, From July 2015\",\"Marcas\\u002fFabricantes\\u002fBMW\\u002f2 Series Gran Tourer F46, From June 2015\",\"Marcas\\u002fFabricantes\\u002fBMW\\u002f2 Series Gran Tourer F46, From March 2016\",\"Marcas\\u002fFabricantes\\u002fPEUGEOT\\u002f2008\",\"Marcas\\u002fFabricantes\\u002fPEUGEOT\\u002f208\",\"Marcas\\u002fFabricantes\\u002fBMW\\u002f3 Series Gran Turismo F34, From June 2013\",\"Marcas\\u002fFabricantes\\u002fBMW\\u002f3 Series Saloon F30, From February 2012\",\"Marcas\\u002fFabricantes\\u002fBMW\\u002f3 Series Touring F31, from September 2012\",\"Marcas\\u002fFabricantes\\u002fPEUGEOT\\u002f3008\",\"Marcas\\u002fFabricantes\\u002fPEUGEOT\\u002f308\",\"Marcas\\u002fFabricantes\\u002fPEUGEOT\\u002f308 SW\",\"Marcas\\u002fFabricantes\\u002fNISSAN\\u002f370Z Euro6, 2016\",\"Marcas\\u002fFabricantes\\u002fBMW\\u002f4 Series Convertible F33, From March 2014\",\"Marcas\\u002fFabricantes\\u002fBMW\\u002f4 Series Convertible F33, From March 2016\",\"Marcas\\u002fFabricantes\\u002fBMW\\u002f5 Series F10\\u002fF11, From March 2010\",\"Marcas\\u002fFabricantes\\u002fBMW\\u002f5 Series Gran Turismo F07, From October 2009\",\"Marcas\\u002fFabricantes\\u002fFIAT\\u002f500 & 500C, September 2015 onwards\",\"Marcas\\u002fFabricantes\\u002fFIAT\\u002f500 X, 2015 onwards\",\"Marcas\\u002fFabricantes\\u002fABARTH\\u002f500, 2012 onwards\",\"Marcas\\u002fFabricantes\\u002fPEUGEOT\\u002f5008\",\"Marcas\\u002fFabricantes\\u002fFIAT\\u002f500L MPW, August 2013 onwards\",\"Marcas\\u002fFabricantes\\u002fFIAT\\u002f500L, from 2013 onwards\",\"Marcas\\u002fFabricantes\\u002fPEUGEOT\\u002f508\",\"Marcas\\u002fFabricantes\\u002fPEUGEOT\\u002f508 RXH\",\"Marcas\\u002fFabricantes\\u002fPEUGEOT\\u002f508 SW\",\"Marcas\\u002fFabricantes\\u002fMcLaren\\u002f540C\",\"Marcas\\u002fFabricantes\\u002fMcLaren\\u002f570GT\",\"Marcas\\u002fFabricantes\\u002fMcLaren\\u002f570S\",\"Marcas\\u002fFabricantes\\u002fBMW\\u002f6 Series F12\\u002fF13, March 2011\",\"Marcas\\u002fFabricantes\\u002fMcLaren\\u002f625C, MY2015\",\"Marcas\\u002fFabricantes\\u002fMcLaren\\u002f650S Can-Am\",\"Marcas\\u002fFabricantes\\u002fMcLaren\\u002f650S Le Mans, MY2015\",\"Marcas\\u002fFabricantes\\u002fMcLaren\\u002f650S, MY2015\",\"Marcas\\u002fFabricantes\\u002fMcLaren\\u002f675LT, MY2016\",\"Marcas\\u002fFabricantes\\u002fBMW\\u002f7 Series G11\\u002fG12, From October 2015\",\"Marcas\\u002fFabricantes\\u002fPORSCHE\\u002f718\",\"Marcas\\u002fFabricantes\\u002fPORSCHE\\u002f911 (991 II)\",\"Marcas\\u002fFabricantes\\u002fPORSCHE\\u002f911 (991)\",\"Marcas\\u002fFabricantes\\u002fMERCEDES-BENZ\\u002fA-Class, Model Year 2016\",\"Marcas\\u002fFabricantes\\u002fMERCEDES-BENZ\\u002fA-Class, Model Year 2017\",\"Marcas\\u002fFabricantes\\u002fAUDI\\u002fA1\",\"Marcas\\u002fFabricantes\\u002fAUDI\\u002fA1 Sportback\",\"Marcas\\u002fFabricantes\\u002fAUDI\\u002fA3 Cabriolet\",\"Marcas\\u002fFabricantes\\u002fAUDI\\u002fA3 Hatchback\",\"Marcas\\u002fFabricantes\\u002fAUDI\\u002fA3 Saloon\",\"Marcas\\u002fFabricantes\\u002fAUDI\\u002fA3 Sportback\",\"Marcas\\u002fFabricantes\\u002fAUDI\\u002fA4 Allroad\",\"Marcas\\u002fFabricantes\\u002fAUDI\\u002fA5 Cabriolet\",\"Marcas\\u002fFabricantes\\u002fAUDI\\u002fA5 Sportback\",\"Marcas\\u002fFabricantes\\u002fAUDI\\u002fA6 Allroad\",\"Marcas\\u002fFabricantes\\u002fAUDI\\u002fA6 Avant\",\"Marcas\\u002fFabricantes\\u002fAUDI\\u002fA6 Saloon\",\"Marcas\\u002fFabricantes\\u002fAUDI\\u002fA7 Sportback\",\"Marcas\\u002fFabricantes\\u002fAUDI\\u002fA8\",\"Marcas\\u002fFabricantes\\u002fMERCEDES-BENZ\\u002fAMG GT, Model Year 2016\",\"Marcas\\u002fFabricantes\\u002fMITSUBISHI\\u002fASX\",\"Marcas\\u002fFabricantes\\u002fVAUXHALL\\u002fAdam 3 Door Hatchback, Model Year 2015\",\"Marcas\\u002fFabricantes\\u002fVAUXHALL\\u002fAdam 3 Door Hatchback, Model Year 2016\",\"Marcas\\u002fFabricantes\\u002fALFA ROMEO\\u002fAlfa 4C Spider, September 2015 on\",\"Marcas\\u002fFabricantes\\u002fALFA ROMEO\\u002fAlfa 4C, April 2014 on\",\"Marcas\\u002fFabricantes\\u002fSEAT\\u002fAlhambra\",\"Marcas\\u002fFabricantes\\u002fFERRARI\\u002fAll Models\",\"Marcas\\u002fFabricantes\\u002fFORD\\u002fAll New C-Max, Model Year Post 2016\\u00bc\",\"Marcas\\u002fFabricantes\\u002fFORD\\u002fAll New C-Max, Model Year Pre 2016\\u00bc\",\"Marcas\\u002fFabricantes\\u002fFORD\\u002fAll New Focus, Model Year Post 2016\\u00bd\",\"Marcas\\u002fFabricantes\\u002fFORD\\u002fAll New Focus, Model Year Pre 2016\\u00bd\",\"Marcas\\u002fFabricantes\\u002fFORD\\u002fAll New Galaxy, Model Year Post 2016\\u00be\",\"Marcas\\u002fFabricantes\\u002fFORD\\u002fAll New Galaxy, Model Year Pre 2016\\u00be\",\"Marcas\\u002fFabricantes\\u002fFORD\\u002fAll New Grand C-Max, Model Year Post 2016\\u00bc\",\"Marcas\\u002fFabricantes\\u002fFORD\\u002fAll New Grand C-Max, Model Year Pre 2016\\u00bc\",\"Marcas\\u002fFabricantes\\u002fFORD\\u002fAll New Mondeo, Model Year Post 2016\\u00be\",\"Marcas\\u002fFabricantes\\u002fFORD\\u002fAll New Mondeo, Model Year Pre 2016\\u00be\",\"Marcas\\u002fFabricantes\\u002fFORD\\u002fAll New S-MAX, Model Year Post 2016\\u00be\",\"Marcas\\u002fFabricantes\\u002fFORD\\u002fAll New S-MAX, Model Year Pre 2016\\u00be\",\"Marcas\\u002fFabricantes\\u002fVAUXHALL\\u002fAstra 5 Door Hatchback, Model Year 2015\",\"Marcas\\u002fFabricantes\\u002fVAUXHALL\\u002fAstra 5 Door Hatchback, Model Year 2016\",\"Marcas\\u002fFabricantes\\u002fVAUXHALL\\u002fAstra 5 Door Sports Tourer, Model Year 2015\",\"Marcas\\u002fFabricantes\\u002fVAUXHALL\\u002fAstra 5 Door Sports Tourer, Model Year 2016\",\"Marcas\\u002fFabricantes\\u002fVAUXHALL\\u002fAstra GTC, Model Year 2015\",\"Marcas\\u002fFabricantes\\u002fVAUXHALL\\u002fAstra GTC, Model Year 2016\",\"Marcas\\u002fFabricantes\\u002fSEAT\\u002fAteca\",\"Marcas\\u002fFabricantes\\u002fTOYOTA\\u002fAuris, MY2015\",\"Marcas\\u002fFabricantes\\u002fTOYOTA\\u002fAvensis, MY2015\",\"Marcas\\u002fFabricantes\\u002fLAMBORGHINI\\u002fAventador\",\"Marcas\\u002fFabricantes\\u002fTOYOTA\\u002fAygo, MY2015\",\"Marcas\\u002fFabricantes\\u002fMERCEDES-BENZ\\u002fB-Class, Model Year 2016\",\"Marcas\\u002fFabricantes\\u002fFORD\\u002fB-MAX, Model Year Post 2015\\u00be\",\"Marcas\\u002fFabricantes\\u002fVOLKSWAGEN\\u002fBeetle\",\"Marcas\\u002fFabricantes\\u002fVOLKSWAGEN\\u002fBeetle Cabriolet\",\"Marcas\\u002fFabricantes\\u002fBENTLEY MOTORS\\u002fBentayga, MY2017\",\"Marcas\\u002fFabricantes\\u002fCITROEN\\u002fBerlingo Multispace\",\"Marcas\\u002fFabricantes\\u002fPORSCHE\\u002fBoxster\",\"Marcas\\u002fFabricantes\\u002fMERCEDES-BENZ\\u002fC-Class Estate, Model Year 2016\",\"Marcas\\u002fFabricantes\\u002fMERCEDES-BENZ\\u002fC-Class Saloon, Model Year 2016\",\"Marcas\\u002fFabricantes\\u002fCITROEN\\u002fC1\",\"Marcas\\u002fFabricantes\\u002fCITROEN\\u002fC3\",\"Marcas\\u002fFabricantes\\u002fCITROEN\\u002fC3 Picasso\",\"Marcas\\u002fFabricantes\\u002fCITROEN\\u002fC4\",\"Marcas\\u002fFabricantes\\u002fCITROEN\\u002fC4 Cactus\",\"Marcas\\u002fFabricantes\\u002fCITROEN\\u002fC4 Picasso\",\"Marcas\\u002fFabricantes\\u002fCITROEN\\u002fC5 Tourer\",\"Marcas\\u002fFabricantes\\u002fMERCEDES-BENZ\\u002fCLA Shooting Brake, Model Year 2016\",\"Marcas\\u002fFabricantes\\u002fMERCEDES-BENZ\\u002fCLA Shooting Brake, Model Year 2017\",\"Marcas\\u002fFabricantes\\u002fMERCEDES-BENZ\\u002fCLS Shooting Brake, Model Year 2016\",\"Marcas\\u002fFabricantes\\u002fMERCEDES-BENZ\\u002fCLS Shooting Brake, Model Year 2017\",\"Marcas\\u002fFabricantes\\u002fHONDA\\u002fCR-V, Model Year 2015\",\"Marcas\\u002fFabricantes\\u002fLEXUS\\u002fCT, MY2015\",\"Marcas\\u002fFabricantes\\u002fLEXUS\\u002fCT200h, MY2016\",\"Marcas\\u002fFabricantes\\u002fMAZDA\\u002fCX-3\",\"Marcas\\u002fFabricantes\\u002fMAZDA\\u002fCX-5\",\"Marcas\\u002fFabricantes\\u002fVOLKSWAGEN C.V.\\u002fCaddy Life\",\"Marcas\\u002fFabricantes\\u002fVOLKSWAGEN C.V.\\u002fCaddy Life BlueMotion\",\"Marcas\\u002fFabricantes\\u002fVOLKSWAGEN C.V.\\u002fCaddy Maxi Life\",\"Marcas\\u002fFabricantes\\u002fVOLKSWAGEN C.V.\\u002fCaddy Maxi Window Van\",\"Marcas\\u002fFabricantes\\u002fVOLKSWAGEN C.V.\\u002fCalifornia Beach\",\"Marcas\\u002fFabricantes\\u002fVOLKSWAGEN C.V.\\u002fCalifornia Ocean\",\"Marcas\\u002fFabricantes\\u002fRENAULT\\u002fCaptur Euro6, 2015\",\"Marcas\\u002fFabricantes\\u002fVOLKSWAGEN C.V.\\u002fCaravelle Executive Short Wheelbase\",\"Marcas\\u002fFabricantes\\u002fVOLKSWAGEN C.V.\\u002fCaravelle Generation Six\",\"Marcas\\u002fFabricantes\\u002fVOLKSWAGEN C.V.\\u002fCaravelle SE Long Wheelbase\",\"Marcas\\u002fFabricantes\\u002fVOLKSWAGEN C.V.\\u002fCaravelle SE Short Wheelbase\",\"Marcas\\u002fFabricantes\\u002fKIA\\u002fCarens\",\"Marcas\\u002fFabricantes\\u002fVAUXHALL\\u002fCascada, Model Year 2015\",\"Marcas\\u002fFabricantes\\u002fVAUXHALL\\u002fCascada, Model Year 2016\",\"Marcas\\u002fFabricantes\\u002fPORSCHE\\u002fCayenne\",\"Marcas\\u002fFabricantes\\u002fPORSCHE\\u002fCayman\",\"Marcas\\u002fFabricantes\\u002fSUZUKI\\u002fCelerio\",\"Marcas\\u002fFabricantes\\u002fSKODA\\u002fCitigo\",\"Marcas\\u002fFabricantes\\u002fHONDA\\u002fCivic Hatchback, Model Year 2015\",\"Marcas\\u002fFabricantes\\u002fHONDA\\u002fCivic Tourer, Model Year 2015\",\"Marcas\\u002fFabricantes\\u002fRENAULT\\u002fClio Euro6, 2015\",\"Marcas\\u002fFabricantes\\u002fRENAULT\\u002fClio Sport Tourer Euro6, 2015\",\"Marcas\\u002fFabricantes\\u002fBENTLEY MOTORS\\u002fContinental\",\"Marcas\\u002fFabricantes\\u002fBENTLEY MOTORS\\u002fContinental, MY2016\",\"Marcas\\u002fFabricantes\\u002fVAUXHALL\\u002fCorsa 3 Door Hatchback, Model Year 2015\",\"Marcas\\u002fFabricantes\\u002fVAUXHALL\\u002fCorsa 3 Door Hatchback, Model Year 2016\",\"Marcas\\u002fFabricantes\\u002fVAUXHALL\\u002fCorsa 5 Door Hatchback, Model Year 2015\",\"Marcas\\u002fFabricantes\\u002fVAUXHALL\\u002fCorsa 5 Door Hatchback, Model Year 2016\",\"Marcas\\u002fFabricantes\\u002fAUDI\\u002fCoupe\",\"Marcas\\u002fFabricantes\\u002fBMW\\u002fCoupe\",\"Marcas\\u002fFabricantes\\u002fMERCEDES-BENZ\\u002fCoupe\",\"Marcas\\u002fFabricantes\\u002fMINI\\u002fCoupe\",\"Marcas\\u002fFabricantes\\u002fRENAULT\\u002fCoupe\",\"Marcas\\u002fFabricantes\\u002fASTON MARTIN LAGONDA\\u002fDB9 GT, MY2016\",\"Marcas\\u002fFabricantes\\u002fASTON MARTIN LAGONDA\\u002fDB9 MY2015, from May 2014\",\"Marcas\\u002fFabricantes\\u002fDS\\u002fDS3\",\"Marcas\\u002fFabricantes\\u002fDS\\u002fDS3 Cabriolet\",\"Marcas\\u002fFabricantes\\u002fRolls Royce\\u002fDawn\",\"Marcas\\u002fFabricantes\\u002fLAND ROVER\\u002fDiscovery 16MY\",\"Marcas\\u002fFabricantes\\u002fLAND ROVER\\u002fDiscovery Sport 16MY\",\"Marcas\\u002fFabricantes\\u002fFIAT\\u002fDoblo, 2015 onwards\",\"Marcas\\u002fFabricantes\\u002fDACIA\\u002fDuster Euro6, 2015\",\"Marcas\\u002fFabricantes\\u002fMERCEDES-BENZ\\u002fE-Class Cabriolet, Model Year 2016\",\"Marcas\\u002fFabricantes\\u002fMERCEDES-BENZ\\u002fE-Class Estate, Model Year 2016\",\"Marcas\\u002fFabricantes\\u002fMERCEDES-BENZ\\u002fE-Class Saloon, Model Year 2016\",\"Marcas\\u002fFabricantes\\u002fMERCEDES-BENZ\\u002fE-Class Saloon, Model Year 2017\",\"Marcas\\u002fFabricantes\\u002fFORD\\u002fEcoSport, Model Year Post 2016\\u00be\",\"Marcas\\u002fFabricantes\\u002fFORD\\u002fEcoSport, Model Year Pre 2016\\u00be\",\"Marcas\\u002fFabricantes\\u002fFORD\\u002fEdge, Model Year Post 2016\",\"Marcas\\u002fFabricantes\\u002fJAGUAR\\u002fF-PACE, 17MY\",\"Marcas\\u002fFabricantes\\u002fJAGUAR\\u002fF-TYPE Automatic RWD, 16MY\",\"Marcas\\u002fFabricantes\\u002fJAGUAR\\u002fF-TYPE Manual RWD, 16MY\",\"Marcas\\u002fFabricantes\\u002fJAGUAR\\u002fF-TYPE R Automatic AWD, 16MY\",\"Marcas\\u002fFabricantes\\u002fJAGUAR\\u002fF-TYPE R Automatic RWD, 16MY\",\"Marcas\\u002fFabricantes\\u002fJAGUAR\\u002fF-TYPE S Automatic AWD, 16MY\",\"Marcas\\u002fFabricantes\\u002fJAGUAR\\u002fF-TYPE S Automatic RWD, 16MY\",\"Marcas\\u002fFabricantes\\u002fJAGUAR\\u002fF-TYPE S Manual RWD, 16MY\",\"Marcas\\u002fFabricantes\\u002fJAGUAR\\u002fF-TYPE SVR Automatic AWD, 17MY\",\"Marcas\\u002fFabricantes\\u002fSKODA\\u002fFabia Estate\",\"Marcas\\u002fFabricantes\\u002fSKODA\\u002fFabia Hatchback\",\"Marcas\\u002fFabricantes\\u002fFORD\\u002fFiesta, Model Year Post 2017\",\"Marcas\\u002fFabricantes\\u002fFORD\\u002fFiesta, Model Year Pre 2017\",\"Marcas\\u002fFabricantes\\u002fBENTLEY MOTORS\\u002fFlying Spur, MY2015\",\"Marcas\\u002fFabricantes\\u002fBENTLEY MOTORS\\u002fFlying Spur, MY2017\",\"Marcas\\u002fFabricantes\\u002fSUBARU\\u002fForester AWD, From 2015 MY\",\"Marcas\\u002fFabricantes\\u002fMERCEDES-BENZ\\u002fG-Class, Model Year 2017\",\"Marcas\\u002fFabricantes\\u002fMERCEDES-BENZ\\u002fGL-Class, Model Year 2016\",\"Marcas\\u002fFabricantes\\u002fMERCEDES-BENZ\\u002fGLA Class, Model Year 2016\",\"Marcas\\u002fFabricantes\\u002fMERCEDES-BENZ\\u002fGLC, Model Year 2016\",\"Marcas\\u002fFabricantes\\u002fMERCEDES-BENZ\\u002fGLE Estate, Model Year 2016\",\"Marcas\\u002fFabricantes\\u002fMERCEDES-BENZ\\u002fGLE Estate, Model Year 2016\\u00bd\",\"Marcas\\u002fFabricantes\\u002fMERCEDES-BENZ\\u002fGLS, Model Year 2017\",\"Marcas\\u002fFabricantes\\u002fLEXUS\\u002fGS F, MY2016\",\"Marcas\\u002fFabricantes\\u002fLEXUS\\u002fGS, MY2014\",\"Marcas\\u002fFabricantes\\u002fLEXUS\\u002fGS300h, MY2016\",\"Marcas\\u002fFabricantes\\u002fLEXUS\\u002fGS450h, MY2016\",\"Marcas\\u002fFabricantes\\u002fTOYOTA\\u002fGT86, MY2016\",\"Marcas\\u002fFabricantes\\u002fNISSAN\\u002fGTR Euro6, 2016\",\"Marcas\\u002fFabricantes\\u002fHYUNDAI\\u002fGenesis\",\"Marcas\\u002fFabricantes\\u002fMASERATI\\u002fGhibli\",\"Marcas\\u002fFabricantes\\u002fRolls Royce\\u002fGhost\",\"Marcas\\u002fFabricantes\\u002fALFA ROMEO\\u002fGiulietta\",\"Marcas\\u002fFabricantes\\u002fVOLKSWAGEN\\u002fGolf\",\"Marcas\\u002fFabricantes\\u002fVOLKSWAGEN\\u002fGolf Cabriolet\",\"Marcas\\u002fFabricantes\\u002fVOLKSWAGEN\\u002fGolf Estate\",\"Marcas\\u002fFabricantes\\u002fVOLKSWAGEN\\u002fGolf SV\",\"Marcas\\u002fFabricantes\\u002fCITROEN\\u002fGrand C4 Picasso\",\"Marcas\\u002fFabricantes\\u002fRENAULT\\u002fGrand Scenic Euro6, 2015\",\"Marcas\\u002fFabricantes\\u002fFORD\\u002fGrand Tourneo Connect, Model Year Post 2016\\u00bc\",\"Marcas\\u002fFabricantes\\u002fFORD\\u002fGrand Tourneo Connect, Model Year Pre 2016\\u00bc\",\"Marcas\\u002fFabricantes\\u002fHONDA\\u002fHR-V, Model Year 2016\",\"Marcas\\u002fFabricantes\\u002fLAMBORGHINI\\u002fHuracan\",\"Marcas\\u002fFabricantes\\u002fLEXUS\\u002fIS, MY2015\",\"Marcas\\u002fFabricantes\\u002fLEXUS\\u002fIS300h, MY2016\",\"Marcas\\u002fFabricantes\\u002fSEAT\\u002fIbiza 5 door\",\"Marcas\\u002fFabricantes\\u002fSEAT\\u002fIbiza SC\",\"Marcas\\u002fFabricantes\\u002fSEAT\\u002fIbiza ST\",\"Marcas\\u002fFabricantes\\u002fVAUXHALL\\u002fInsignia 5 Door Hatchback, Model Year 2015\",\"Marcas\\u002fFabricantes\\u002fVAUXHALL\\u002fInsignia 5 Door Hatchback, Model Year 2016\",\"Marcas\\u002fFabricantes\\u002fVAUXHALL\\u002fInsignia 5 Door Sports Tourer, Model Year 2016\",\"Marcas\\u002fFabricantes\\u002fHONDA\\u002fJazz, Model Year 2016\",\"Marcas\\u002fFabricantes\\u002fCHRYSLER JEEP\\u002fJeep Cherokee, MY 2015\",\"Marcas\\u002fFabricantes\\u002fCHRYSLER JEEP\\u002fJeep Cherokee, MY2016\",\"Marcas\\u002fFabricantes\\u002fCHRYSLER JEEP\\u002fJeep Compass, MY 2015\",\"Marcas\\u002fFabricantes\\u002fCHRYSLER JEEP\\u002fJeep Grand Cherokee, MY 2014\",\"Marcas\\u002fFabricantes\\u002fCHRYSLER JEEP\\u002fJeep Grand Cherokee, MY 2015\",\"Marcas\\u002fFabricantes\\u002fCHRYSLER JEEP\\u002fJeep Grand Cherokee, MY2016\",\"Marcas\\u002fFabricantes\\u002fCHRYSLER JEEP\\u002fJeep Renegade, MY2015\",\"Marcas\\u002fFabricantes\\u002fCHRYSLER JEEP\\u002fJeep Renegade, MY2016\",\"Marcas\\u002fFabricantes\\u002fCHRYSLER JEEP\\u002fJeep Wrangler, MY 2015\",\"Marcas\\u002fFabricantes\\u002fCHRYSLER JEEP\\u002fJeep Wrangler, MY 2016\",\"Marcas\\u002fFabricantes\\u002fVOLKSWAGEN\\u002fJetta\",\"Marcas\\u002fFabricantes\\u002fSUZUKI\\u002fJimny\",\"Marcas\\u002fFabricantes\\u002fNISSAN\\u002fJuke Euro6, 2015\",\"Marcas\\u002fFabricantes\\u002fNISSAN\\u002fJuke, 2014\\u002f15\",\"Marcas\\u002fFabricantes\\u002fFORD\\u002fKA+, Model Year Post 2016\\u00be\",\"Marcas\\u002fFabricantes\\u002fFORD\\u002fKa, Model Year Post 2015\\u00bd\",\"Marcas\\u002fFabricantes\\u002fRENAULT\\u002fKadjar Euro6, 2015\",\"Marcas\\u002fFabricantes\\u002fSSANGYONG\\u002fKorando\",\"Marcas\\u002fFabricantes\\u002fFORD\\u002fKuga, Model Year Post 2016\\u00bd\",\"Marcas\\u002fFabricantes\\u002fFORD\\u002fKuga, Model Year Pre 2016\\u00bd\",\"Marcas\\u002fFabricantes\\u002fLEXUS\\u002fLS\",\"Marcas\\u002fFabricantes\\u002fTOYOTA\\u002fLand Cruiser, MY2016\",\"Marcas\\u002fFabricantes\\u002fSEAT\\u002fLeon 5 Door\",\"Marcas\\u002fFabricantes\\u002fSEAT\\u002fLeon SC\",\"Marcas\\u002fFabricantes\\u002fSEAT\\u002fLeon ST\",\"Marcas\\u002fFabricantes\\u002fSEAT\\u002fLeon X-Perience\",\"Marcas\\u002fFabricantes\\u002fSUBARU\\u002fLevorg AWD, From 2016 MY\",\"Marcas\\u002fFabricantes\\u002fDACIA\\u002fLogan MCV Euro6, 2015\",\"Marcas\\u002fFabricantes\\u002fBMW\\u002fM3 Series Saloon F80, From June 2014\",\"Marcas\\u002fFabricantes\\u002fBMW\\u002fM4 Series Convertible F83, From September 2014\",\"Marcas\\u002fFabricantes\\u002fMINI\\u002fMINI 3-door Hatchback F56, From March 2014\",\"Marcas\\u002fFabricantes\\u002fMINI\\u002fMINI 3-door Hatchback F56, From March 2016\",\"Marcas\\u002fFabricantes\\u002fMINI\\u002fMINI 5-door Hatchback F55, From October 2014\",\"Marcas\\u002fFabricantes\\u002fMINI\\u002fMINI Clubman F54, From October 2015\",\"Marcas\\u002fFabricantes\\u002fMINI\\u002fMINI Convertible F57, From March 2016\",\"Marcas\\u002fFabricantes\\u002fMINI\\u002fMINI Countryman R60, From September 2010\",\"Marcas\\u002fFabricantes\\u002fMINI\\u002fMINI Paceman R61, From November 2012\",\"Marcas\\u002fFabricantes\\u002fMINI\\u002fMINI Roadster R59, From April 2012\",\"Marcas\\u002fFabricantes\\u002fMAZDA\\u002fMX-5\",\"Marcas\\u002fFabricantes\\u002fPORSCHE\\u002fMacan\",\"Marcas\\u002fFabricantes\\u002fMAZDA\\u002fMazda2\",\"Marcas\\u002fFabricantes\\u002fMAZDA\\u002fMazda3 4 door\",\"Marcas\\u002fFabricantes\\u002fMAZDA\\u002fMazda3 5 door\",\"Marcas\\u002fFabricantes\\u002fMAZDA\\u002fMazda6 Saloon\",\"Marcas\\u002fFabricantes\\u002fMAZDA\\u002fMazda6 Tourer\",\"Marcas\\u002fFabricantes\\u002fRENAULT\\u002fMegane 2016\",\"Marcas\\u002fFabricantes\\u002fRENAULT\\u002fMegane Renault Sport Euro6, 2015\",\"Marcas\\u002fFabricantes\\u002fVAUXHALL\\u002fMeriva, Model Year 2015\",\"Marcas\\u002fFabricantes\\u002fVAUXHALL\\u002fMeriva, Model Year 2016\",\"Marcas\\u002fFabricantes\\u002fALFA ROMEO\\u002fMiTo, 2012 onwards\",\"Marcas\\u002fFabricantes\\u002fNISSAN\\u002fMicra Euro6, 2015\",\"Marcas\\u002fFabricantes\\u002fSEAT\\u002fMii\",\"Marcas\\u002fFabricantes\\u002fMITSUBISHI\\u002fMirage\",\"Marcas\\u002fFabricantes\\u002fVAUXHALL\\u002fMokka, Model Year 2015\",\"Marcas\\u002fFabricantes\\u002fVAUXHALL\\u002fMokka, Model Year 2016\",\"Marcas\\u002fFabricantes\\u002fFORD\\u002fMondeo Vignale, Model Year Post 2016\\u00be\",\"Marcas\\u002fFabricantes\\u002fFORD\\u002fMondeo Vignale, Model Year Pre 2016\\u00be\",\"Marcas\\u002fFabricantes\\u002fBENTLEY MOTORS\\u002fMulsanne, MY2017\",\"Marcas\\u002fFabricantes\\u002fFORD\\u002fMustang, Model Year Post 2015\\u00be\",\"Marcas\\u002fFabricantes\\u002fRENAULT\\u002fM\\u00e9gane Hatchback Euro6, 2015\",\"Marcas\\u002fFabricantes\\u002fRENAULT\\u002fM\\u00e9gane Sport Tourer Euro6, 2015\",\"Marcas\\u002fFabricantes\\u002fNISSAN\\u002fNV200 EURO6, 2015\",\"Marcas\\u002fFabricantes\\u002fLEXUS\\u002fNX, MY2015\",\"Marcas\\u002fFabricantes\\u002fAUDI\\u002fNew A4 Avant\",\"Marcas\\u002fFabricantes\\u002fAUDI\\u002fNew A4 Saloon\",\"Marcas\\u002fFabricantes\\u002fABARTH\\u002fNew Abarth 595, 2016 Onwards\",\"Marcas\\u002fFabricantes\\u002fVOLKSWAGEN\\u002fNew CC\",\"Marcas\\u002fFabricantes\\u002fDS\\u002fNew DS3\",\"Marcas\\u002fFabricantes\\u002fDS\\u002fNew DS3 Cabriolet\",\"Marcas\\u002fFabricantes\\u002fDS\\u002fNew DS4\",\"Marcas\\u002fFabricantes\\u002fDS\\u002fNew DS4 Crossback\",\"Marcas\\u002fFabricantes\\u002fDS\\u002fNew DS5\",\"Marcas\\u002fFabricantes\\u002fVOLKSWAGEN\\u002fNew Sharan\",\"Marcas\\u002fFabricantes\\u002fSKODA\\u002fNew Superb Estate\",\"Marcas\\u002fFabricantes\\u002fSKODA\\u002fNew Superb Saloon\",\"Marcas\\u002fFabricantes\\u002fVOLKSWAGEN\\u002fNew Tiguan\",\"Marcas\\u002fFabricantes\\u002fVOLKSWAGEN\\u002fNew Touareg\",\"Marcas\\u002fFabricantes\\u002fNISSAN\\u002fNote Euro6, 2015\",\"Marcas\\u002fFabricantes\\u002fSKODA\\u002fOctavia Estate\",\"Marcas\\u002fFabricantes\\u002fSKODA\\u002fOctavia Hatchback\",\"Marcas\\u002fFabricantes\\u002fSUBARU\\u002fOutback AWD, From 2015 MY\",\"Marcas\\u002fFabricantes\\u002fMITSUBISHI\\u002fOutlander\",\"Marcas\\u002fFabricantes\\u002fMITSUBISHI\\u002fOutlander PHEV, 2014\",\"Marcas\\u002fFabricantes\\u002fPORSCHE\\u002fPanamera\",\"Marcas\\u002fFabricantes\\u002fFIAT\\u002fPanda, From February 2012 onwards\",\"Marcas\\u002fFabricantes\\u002fPEUGEOT\\u002fPartner Tepee\",\"Marcas\\u002fFabricantes\\u002fVOLKSWAGEN\\u002fPassat Alltrack\",\"Marcas\\u002fFabricantes\\u002fVOLKSWAGEN\\u002fPassat Estate\",\"Marcas\\u002fFabricantes\\u002fVOLKSWAGEN\\u002fPassat Saloon\",\"Marcas\\u002fFabricantes\\u002fRolls Royce\\u002fPhantom\",\"Marcas\\u002fFabricantes\\u002fKIA\\u002fPicanto 3-door\",\"Marcas\\u002fFabricantes\\u002fKIA\\u002fPicanto 5-door\",\"Marcas\\u002fFabricantes\\u002fVOLKSWAGEN\\u002fPolo\",\"Marcas\\u002fFabricantes\\u002fTOYOTA\\u002fPrius Plug-In, MY2012\",\"Marcas\\u002fFabricantes\\u002fTOYOTA\\u002fPrius Plus, MY2015\",\"Marcas\\u002fFabricantes\\u002fTOYOTA\\u002fPrius, 2016\",\"Marcas\\u002fFabricantes\\u002fTOYOTA\\u002fPrius, MY2012\",\"Marcas\\u002fFabricantes\\u002fNISSAN\\u002fPulsar Euro6, 2015\",\"Marcas\\u002fFabricantes\\u002fFIAT\\u002fPunto, 2012 onwards\",\"Marcas\\u002fFabricantes\\u002fAUDI\\u002fQ3\",\"Marcas\\u002fFabricantes\\u002fINFINITI\\u002fQ30 Euro6, 2016\",\"Marcas\\u002fFabricantes\\u002fAUDI\\u002fQ5\",\"Marcas\\u002fFabricantes\\u002fINFINITI\\u002fQ50 Euro6, 2016\",\"Marcas\\u002fFabricantes\\u002fAUDI\\u002fQ7\",\"Marcas\\u002fFabricantes\\u002fINFINITI\\u002fQ70 Euro6, 2016\",\"Marcas\\u002fFabricantes\\u002fNISSAN\\u002fQashqai Euro6, 2015\",\"Marcas\\u002fFabricantes\\u002fMASERATI\\u002fQuattroporte\",\"Marcas\\u002fFabricantes\\u002fFIAT\\u002fQubo, 2012 onwards\",\"Marcas\\u002fFabricantes\\u002fAUDI\\u002fR8 Spyder\",\"Marcas\\u002fFabricantes\\u002fTOYOTA\\u002fRAV4, MY2015\",\"Marcas\\u002fFabricantes\\u002fTOYOTA\\u002fRAV4, MY2016\",\"Marcas\\u002fFabricantes\\u002fLEXUS\\u002fRC 200t, MY2015\",\"Marcas\\u002fFabricantes\\u002fLEXUS\\u002fRC F, MY2015\",\"Marcas\\u002fFabricantes\\u002fLEXUS\\u002fRC300h, MY2015\",\"Marcas\\u002fFabricantes\\u002fAUDI\\u002fRS Series\",\"Marcas\\u002fFabricantes\\u002fLEXUS\\u002fRX, MY2015\",\"Marcas\\u002fFabricantes\\u002fLAND ROVER\\u002fRange Rover 16MY\",\"Marcas\\u002fFabricantes\\u002fLAND ROVER\\u002fRange Rover Evoque 16MY\",\"Marcas\\u002fFabricantes\\u002fLAND ROVER\\u002fRange Rover Sport 16MY\",\"Marcas\\u002fFabricantes\\u002fSKODA\\u002fRapid\",\"Marcas\\u002fFabricantes\\u002fSKODA\\u002fRapid Spaceback\",\"Marcas\\u002fFabricantes\\u002fASTON MARTIN LAGONDA\\u002fRapide S MY2015, from Sept 2014\",\"Marcas\\u002fFabricantes\\u002fASTON MARTIN LAGONDA\\u002fRapide S, MY2016\",\"Marcas\\u002fFabricantes\\u002fSSANGYONG\\u002fRexton W\",\"Marcas\\u002fFabricantes\\u002fKIA\\u002fRio 3-door\",\"Marcas\\u002fFabricantes\\u002fKIA\\u002fRio 5-door\",\"Marcas\\u002fFabricantes\\u002fMERCEDES-BENZ\\u002fS-Class Cabriolet, Model Year 2016\",\"Marcas\\u002fFabricantes\\u002fMERCEDES-BENZ\\u002fS-Class Limousine, Model Year 2016\",\"Marcas\\u002fFabricantes\\u002fMERCEDES-BENZ\\u002fS-Class Limousine, Model Year 2016\\u00bd\",\"Marcas\\u002fFabricantes\\u002fMERCEDES-BENZ\\u002fS-Class Saloon, Model Year 2016\",\"Marcas\\u002fFabricantes\\u002fMERCEDES-BENZ\\u002fS-Class Saloon, Model Year 2016\\u00bd\",\"Marcas\\u002fFabricantes\\u002fFORD\\u002fS-MAX Vignale, Model Year Post 2017\",\"Marcas\\u002fFabricantes\\u002fVOLVO\\u002fS60 MY17\",\"Marcas\\u002fFabricantes\\u002fVOLVO\\u002fS60, MY16\",\"Marcas\\u002fFabricantes\\u002fVOLVO\\u002fS80, MY16\",\"Marcas\\u002fFabricantes\\u002fVOLVO\\u002fS90 MY17\",\"Marcas\\u002fFabricantes\\u002fMERCEDES-BENZ\\u002fSL, Model Year 2016\",\"Marcas\\u002fFabricantes\\u002fMERCEDES-BENZ\\u002fSL, Model Year 2017\",\"Marcas\\u002fFabricantes\\u002fMERCEDES-BENZ\\u002fSLC, Model Year 2017\",\"Marcas\\u002fFabricantes\\u002fMERCEDES-BENZ\\u002fSLK-Class, Model Year 2016\",\"Marcas\\u002fFabricantes\\u002fSUZUKI\\u002fSX4 S-Cross\",\"Marcas\\u002fFabricantes\\u002fDACIA\\u002fSandero  Stepway Euro6, 2015\",\"Marcas\\u002fFabricantes\\u002fDACIA\\u002fSandero Euro6 2015\",\"Marcas\\u002fFabricantes\\u002fHYUNDAI\\u002fSanta Fe\",\"Marcas\\u002fFabricantes\\u002fRENAULT\\u002fScenic Euro6, 2015\",\"Marcas\\u002fFabricantes\\u002fVOLKSWAGEN\\u002fScirocco\",\"Marcas\\u002fFabricantes\\u002fMITSUBISHI\\u002fShogun\",\"Marcas\\u002fFabricantes\\u002fKIA\\u002fSorento\",\"Marcas\\u002fFabricantes\\u002fKIA\\u002fSoul\",\"Marcas\\u002fFabricantes\\u002fKIA\\u002fSportage\",\"Marcas\\u002fFabricantes\\u002fSKODA\\u002fSuperb Estate\",\"Marcas\\u002fFabricantes\\u002fSKODA\\u002fSuperb Saloon\",\"Marcas\\u002fFabricantes\\u002fSUZUKI\\u002fSwift\",\"Marcas\\u002fFabricantes\\u002fAUDI\\u002fTT Roadster\",\"Marcas\\u002fFabricantes\\u002fLONDON TAXI COMPANY\\u002fTaxi - TX4\",\"Marcas\\u002fFabricantes\\u002fSSANGYONG\\u002fTivoli\",\"Marcas\\u002fFabricantes\\u002fSEAT\\u002fToledo\",\"Marcas\\u002fFabricantes\\u002fVOLKSWAGEN\\u002fTouran\",\"Marcas\\u002fFabricantes\\u002fFORD\\u002fTourneo Connect, Model Year Post 2016\\u00bd\",\"Marcas\\u002fFabricantes\\u002fFORD\\u002fTourneo Connect, Model Year Pre 2016\\u00bd\",\"Marcas\\u002fFabricantes\\u002fFORD\\u002fTourneo Courier Kombi - , Model Year Post 2015\\u00be\",\"Marcas\\u002fFabricantes\\u002fFORD\\u002fTourneo Custom - 310 Long Wheelbase, Model Year Post 2016\\u00bd\",\"Marcas\\u002fFabricantes\\u002fFORD\\u002fTourneo Custom - 310 Short Wheelbase, Model Year Post 2016\\u00bd\",\"Marcas\\u002fFabricantes\\u002fRENAULT\\u002fTrafic Euro6, 2016\",\"Marcas\\u002fFabricantes\\u002fVOLKSWAGEN C.V.\\u002fTransporter Shuttle S Long Wheelbase\",\"Marcas\\u002fFabricantes\\u002fVOLKSWAGEN C.V.\\u002fTransporter Shuttle S Short Wheelbase\",\"Marcas\\u002fFabricantes\\u002fVOLKSWAGEN C.V.\\u002fTransporter Shuttle SE Long Wheelbase\",\"Marcas\\u002fFabricantes\\u002fVOLKSWAGEN C.V.\\u002fTransporter Shuttle SE Short Wheelbase\",\"Marcas\\u002fFabricantes\\u002fVOLKSWAGEN C.V.\\u002fTransporter Window Van T30 and T32 Long Wheelbase Low Roof\",\"Marcas\\u002fFabricantes\\u002fVOLKSWAGEN C.V.\\u002fTransporter Window Van T30 and T32 Short Wheelbase Low Roof\",\"Marcas\\u002fFabricantes\\u002fHYUNDAI\\u002fTucson\",\"Marcas\\u002fFabricantes\\u002fSSANGYONG\\u002fTurismo\",\"Marcas\\u002fFabricantes\\u002fRENAULT\\u002fTwingo Euro6, 2015\",\"Marcas\\u002fFabricantes\\u002fVOLKSWAGEN\\u002fUP\",\"Marcas\\u002fFabricantes\\u002fMERCEDES-BENZ\\u002fV-Class, Model Year 2016\",\"Marcas\\u002fFabricantes\\u002fASTON MARTIN LAGONDA\\u002fV12 Vantage S MY2015, from March 2014\",\"Marcas\\u002fFabricantes\\u002fASTON MARTIN LAGONDA\\u002fV12 Vantage S, MY2016\",\"Marcas\\u002fFabricantes\\u002fVOLVO\\u002fV40 MY17\",\"Marcas\\u002fFabricantes\\u002fVOLVO\\u002fV40, MY16\",\"Marcas\\u002fFabricantes\\u002fVOLVO\\u002fV60 MY17\",\"Marcas\\u002fFabricantes\\u002fVOLVO\\u002fV60, MY16\",\"Marcas\\u002fFabricantes\\u002fVOLVO\\u002fV70, MY16\",\"Marcas\\u002fFabricantes\\u002fASTON MARTIN LAGONDA\\u002fV8 Vantage\\u002fV8 Vantage S\\u002fN430, MY2016\",\"Marcas\\u002fFabricantes\\u002fASTON MARTIN LAGONDA\\u002fV8 Vantage\\u002fVantage S\\u002fN430 MY2015, from May 2014\",\"Marcas\\u002fFabricantes\\u002fVOLVO\\u002fV90 MY17\",\"Marcas\\u002fFabricantes\\u002fASTON MARTIN LAGONDA\\u002fVanquish MY2015, from Sept 2014\",\"Marcas\\u002fFabricantes\\u002fASTON MARTIN LAGONDA\\u002fVanquish, MY2016\",\"Marcas\\u002fFabricantes\\u002fASTON MARTIN LAGONDA\\u002fVantage GT12, MY2016\",\"Marcas\\u002fFabricantes\\u002fKIA\\u002fVenga\",\"Marcas\\u002fFabricantes\\u002fTOYOTA\\u002fVerso MY2016\",\"Marcas\\u002fFabricantes\\u002fTOYOTA\\u002fVerso, 2016\",\"Marcas\\u002fFabricantes\\u002fTOYOTA\\u002fVerso, MY2015\",\"Marcas\\u002fFabricantes\\u002fSUZUKI\\u002fVitara\",\"Marcas\\u002fFabricantes\\u002fVAUXHALL\\u002fViva 5 Door Hatchback, Model Year 2016\",\"Marcas\\u002fFabricantes\\u002fSUBARU\\u002fWRX STI AWD, From 2015 MY\",\"Marcas\\u002fFabricantes\\u002fRolls Royce\\u002fWraith\",\"Marcas\\u002fFabricantes\\u002fRENAULT\\u002fX Mod Euro6, 2015\",\"Marcas\\u002fFabricantes\\u002fBMW\\u002fX1 Series F48, From March 2016\",\"Marcas\\u002fFabricantes\\u002fBMW\\u002fX1 Series F48, From October 2015\",\"Marcas\\u002fFabricantes\\u002fBMW\\u002fX3 Series F25, From November 2010\",\"Marcas\\u002fFabricantes\\u002fBMW\\u002fX4 Series F26, From July 2014\",\"Marcas\\u002fFabricantes\\u002fBMW\\u002fX5 M Series F85, From April 2015\",\"Marcas\\u002fFabricantes\\u002fBMW\\u002fX5 Series F15, From November 2013\",\"Marcas\\u002fFabricantes\\u002fBMW\\u002fX6 M Series F86, From April 2015\",\"Marcas\\u002fFabricantes\\u002fBMW\\u002fX6 Series F16, From December 2014\",\"Marcas\\u002fFabricantes\\u002fVOLVO\\u002fXC60 MY17\",\"Marcas\\u002fFabricantes\\u002fVOLVO\\u002fXC60, MY16\",\"Marcas\\u002fFabricantes\\u002fVOLVO\\u002fXC70, MY16\",\"Marcas\\u002fFabricantes\\u002fVOLVO\\u002fXC90 MY17\",\"Marcas\\u002fFabricantes\\u002fVOLVO\\u002fXC90, MY16\",\"Marcas\\u002fFabricantes\\u002fJAGUAR\\u002fXE Saloon, 16MY\",\"Marcas\\u002fFabricantes\\u002fJAGUAR\\u002fXE Saloon, 17MY\",\"Marcas\\u002fFabricantes\\u002fJAGUAR\\u002fXF Saloon, 16MY\",\"Marcas\\u002fFabricantes\\u002fJAGUAR\\u002fXF Saloon, 17MY\",\"Marcas\\u002fFabricantes\\u002fJAGUAR\\u002fXJ Saloon, 16MY\",\"Marcas\\u002fFabricantes\\u002fNISSAN\\u002fXTrail Euro6, 2015\",\"Marcas\\u002fFabricantes\\u002fSUBARU\\u002fXV AWD, From 2015MY\",\"Marcas\\u002fFabricantes\\u002fTOYOTA\\u002fYaris, 2016\",\"Marcas\\u002fFabricantes\\u002fSKODA\\u002fYeti\",\"Marcas\\u002fFabricantes\\u002fBMW\\u002fZ4 Series E89 Roadster\",\"Marcas\\u002fFabricantes\\u002fVAUXHALL\\u002fZafira, Model Year 2015\",\"Marcas\\u002fFabricantes\\u002fVAUXHALL\\u002fZafira, Model Year 2016\",\"Marcas\\u002fFabricantes\\u002fKIA\\u002fcee'd\",\"Marcas\\u002fFabricantes\\u002fKIA\\u002fcee'd SW\",\"Marcas\\u002fFabricantes\\u002fSMART\\u002fforfour, Model Year 2016\",\"Marcas\\u002fFabricantes\\u002fSMART\\u002ffortwo cabrio, Model Year 2016\",\"Marcas\\u002fFabricantes\\u002fSMART\\u002ffortwo coup\\u00e9, Model Year 2016\",\"Marcas\\u002fFabricantes\\u002fBMW\\u002fi Series, From November 2013\",\"Marcas\\u002fFabricantes\\u002fHYUNDAI\\u002fi10\",\"Marcas\\u002fFabricantes\\u002fHYUNDAI\\u002fi20\",\"Marcas\\u002fFabricantes\\u002fHYUNDAI\\u002fi20 Active\",\"Marcas\\u002fFabricantes\\u002fHYUNDAI\\u002fi30\",\"Marcas\\u002fFabricantes\\u002fHYUNDAI\\u002fi30 Tourer\",\"Marcas\\u002fFabricantes\\u002fHYUNDAI\\u002fi40\",\"Marcas\\u002fFabricantes\\u002fHYUNDAI\\u002fi800\",\"Marcas\\u002fFabricantes\\u002fHYUNDAI\\u002fix20\",\"Marcas\\u002fFabricantes\\u002fKIA\\u002fpro_cee'd\",\"Marcas\\u002fFabricantes\\u002fABARTH\",\"Marcas\\u002fFabricantes\\u002fALFA ROMEO\",\"Marcas\\u002fFabricantes\\u002fASTON MARTIN LAGONDA\",\"Marcas\\u002fFabricantes\\u002fAUDI\",\"Marcas\\u002fFabricantes\\u002fBENTLEY MOTORS\",\"Marcas\\u002fFabricantes\\u002fBMW\",\"Marcas\\u002fFabricantes\\u002fCHRYSLER JEEP\",\"Marcas\\u002fFabricantes\\u002fCITROEN\",\"Marcas\\u002fFabricantes\\u002fDACIA\",\"Marcas\\u002fFabricantes\\u002fDS\",\"Marcas\\u002fFabricantes\\u002fFERRARI\",\"Marcas\\u002fFabricantes\\u002fFIAT\",\"Marcas\\u002fFabricantes\\u002fFORD\",\"Marcas\\u002fFabricantes\\u002fHONDA\",\"Marcas\\u002fFabricantes\\u002fHYUNDAI\",\"Marcas\\u002fFabricantes\\u002fINFINITI\",\"Marcas\\u002fFabricantes\\u002fJAGUAR\",\"Marcas\\u002fFabricantes\\u002fKIA\",\"Marcas\\u002fFabricantes\\u002fLAMBORGHINI\",\"Marcas\\u002fFabricantes\\u002fLAND ROVER\",\"Marcas\\u002fFabricantes\\u002fLEXUS\",\"Marcas\\u002fFabricantes\\u002fLONDON TAXI COMPANY\",\"Marcas\\u002fFabricantes\\u002fMASERATI\",\"Marcas\\u002fFabricantes\\u002fMAZDA\",\"Marcas\\u002fFabricantes\\u002fMERCEDES-BENZ\",\"Marcas\\u002fFabricantes\\u002fMINI\",\"Marcas\\u002fFabricantes\\u002fMITSUBISHI\",\"Marcas\\u002fFabricantes\\u002fMcLaren\",\"Marcas\\u002fFabricantes\\u002fNISSAN\",\"Marcas\\u002fFabricantes\\u002fPEUGEOT\",\"Marcas\\u002fFabricantes\\u002fPORSCHE\",\"Marcas\\u002fFabricantes\\u002fRENAULT\",\"Marcas\\u002fFabricantes\\u002fRolls Royce\",\"Marcas\\u002fFabricantes\\u002fSEAT\",\"Marcas\\u002fFabricantes\\u002fSKODA\",\"Marcas\\u002fFabricantes\\u002fSMART\",\"Marcas\\u002fFabricantes\\u002fSSANGYONG\",\"Marcas\\u002fFabricantes\\u002fSUBARU\",\"Marcas\\u002fFabricantes\\u002fSUZUKI\",\"Marcas\\u002fFabricantes\\u002fTOYOTA\",\"Marcas\\u002fFabricantes\\u002fVAUXHALL\",\"Marcas\\u002fFabricantes\\u002fVOLKSWAGEN\",\"Marcas\\u002fFabricantes\\u002fVOLKSWAGEN C.V.\",\"Marcas\\u002fFabricantes\\u002fVOLVO\",\"Marcas\\u002fFabricantes\"],\"labels\":[\"1 Series 3-door F21, From September 2012\",\"1 Series 5-door F20, From September 2011\",\"108\",\"2 Series Active Tourer F45, From March 2016\",\"2 Series Active Tourer F45, From September 2014\",\"2 Series Convertible F23, From February 2015\",\"2 Series Convertible F23, From July 2015\",\"2 Series Gran Tourer F46, From June 2015\",\"2 Series Gran Tourer F46, From March 2016\",\"2008\",\"208\",\"3 Series Gran Turismo F34, From June 2013\",\"3 Series Saloon F30, From February 2012\",\"3 Series Touring F31, from September 2012\",\"3008\",\"308\",\"308 SW\",\"370Z Euro6, 2016\",\"4 Series Convertible F33, From March 2014\",\"4 Series Convertible F33, From March 2016\",\"5 Series F10\\u002fF11, From March 2010\",\"5 Series Gran Turismo F07, From October 2009\",\"500 & 500C, September 2015 onwards\",\"500 X, 2015 onwards\",\"500, 2012 onwards\",\"5008\",\"500L MPW, August 2013 onwards\",\"500L, from 2013 onwards\",\"508\",\"508 RXH\",\"508 SW\",\"540C\",\"570GT\",\"570S\",\"6 Series F12\\u002fF13, March 2011\",\"625C, MY2015\",\"650S Can-Am\",\"650S Le Mans, MY2015\",\"650S, MY2015\",\"675LT, MY2016\",\"7 Series G11\\u002fG12, From October 2015\",\"718\",\"911 (991 II)\",\"911 (991)\",\"A-Class, Model Year 2016\",\"A-Class, Model Year 2017\",\"A1\",\"A1 Sportback\",\"A3 Cabriolet\",\"A3 Hatchback\",\"A3 Saloon\",\"A3 Sportback\",\"A4 Allroad\",\"A5 Cabriolet\",\"A5 Sportback\",\"A6 Allroad\",\"A6 Avant\",\"A6 Saloon\",\"A7 Sportback\",\"A8\",\"AMG GT, Model Year 2016\",\"ASX\",\"Adam 3 Door Hatchback, Model Year 2015\",\"Adam 3 Door Hatchback, Model Year 2016\",\"Alfa 4C Spider, September 2015 on\",\"Alfa 4C, April 2014 on\",\"Alhambra\",\"All Models\",\"All New C-Max, Model Year Post 2016\\u00bc\",\"All New C-Max, Model Year Pre 2016\\u00bc\",\"All New Focus, Model Year Post 2016\\u00bd\",\"All New Focus, Model Year Pre 2016\\u00bd\",\"All New Galaxy, Model Year Post 2016\\u00be\",\"All New Galaxy, Model Year Pre 2016\\u00be\",\"All New Grand C-Max, Model Year Post 2016\\u00bc\",\"All New Grand C-Max, Model Year Pre 2016\\u00bc\",\"All New Mondeo, Model Year Post 2016\\u00be\",\"All New Mondeo, Model Year Pre 2016\\u00be\",\"All New S-MAX, Model Year Post 2016\\u00be\",\"All New S-MAX, Model Year Pre 2016\\u00be\",\"Astra 5 Door Hatchback, Model Year 2015\",\"Astra 5 Door Hatchback, Model Year 2016\",\"Astra 5 Door Sports Tourer, Model Year 2015\",\"Astra 5 Door Sports Tourer, Model Year 2016\",\"Astra GTC, Model Year 2015\",\"Astra GTC, Model Year 2016\",\"Ateca\",\"Auris, MY2015\",\"Avensis, MY2015\",\"Aventador\",\"Aygo, MY2015\",\"B-Class, Model Year 2016\",\"B-MAX, Model Year Post 2015\\u00be\",\"Beetle\",\"Beetle Cabriolet\",\"Bentayga, MY2017\",\"Berlingo Multispace\",\"Boxster\",\"C-Class Estate, Model Year 2016\",\"C-Class Saloon, Model Year 2016\",\"C1\",\"C3\",\"C3 Picasso\",\"C4\",\"C4 Cactus\",\"C4 Picasso\",\"C5 Tourer\",\"CLA Shooting Brake, Model Year 2016\",\"CLA Shooting Brake, Model Year 2017\",\"CLS Shooting Brake, Model Year 2016\",\"CLS Shooting Brake, Model Year 2017\",\"CR-V, Model Year 2015\",\"CT, MY2015\",\"CT200h, MY2016\",\"CX-3\",\"CX-5\",\"Caddy Life\",\"Caddy Life BlueMotion\",\"Caddy Maxi Life\",\"Caddy Maxi Window Van\",\"California Beach\",\"California Ocean\",\"Captur Euro6, 2015\",\"Caravelle Executive Short Wheelbase\",\"Caravelle Generation Six\",\"Caravelle SE Long Wheelbase\",\"Caravelle SE Short Wheelbase\",\"Carens\",\"Cascada, Model Year 2015\",\"Cascada, Model Year 2016\",\"Cayenne\",\"Cayman\",\"Celerio\",\"Citigo\",\"Civic Hatchback, Model Year 2015\",\"Civic Tourer, Model Year 2015\",\"Clio Euro6, 2015\",\"Clio Sport Tourer Euro6, 2015\",\"Continental\",\"Continental, MY2016\",\"Corsa 3 Door Hatchback, Model Year 2015\",\"Corsa 3 Door Hatchback, Model Year 2016\",\"Corsa 5 Door Hatchback, Model Year 2015\",\"Corsa 5 Door Hatchback, Model Year 2016\",\"Coupe\",\"Coupe\",\"Coupe\",\"Coupe\",\"Coupe\",\"DB9 GT, MY2016\",\"DB9 MY2015, from May 2014\",\"DS3\",\"DS3 Cabriolet\",\"Dawn\",\"Discovery 16MY\",\"Discovery Sport 16MY\",\"Doblo, 2015 onwards\",\"Duster Euro6, 2015\",\"E-Class Cabriolet, Model Year 2016\",\"E-Class Estate, Model Year 2016\",\"E-Class Saloon, Model Year 2016\",\"E-Class Saloon, Model Year 2017\",\"EcoSport, Model Year Post 2016\\u00be\",\"EcoSport, Model Year Pre 2016\\u00be\",\"Edge, Model Year Post 2016\",\"F-PACE, 17MY\",\"F-TYPE Automatic RWD, 16MY\",\"F-TYPE Manual RWD, 16MY\",\"F-TYPE R Automatic AWD, 16MY\",\"F-TYPE R Automatic RWD, 16MY\",\"F-TYPE S Automatic AWD, 16MY\",\"F-TYPE S Automatic RWD, 16MY\",\"F-TYPE S Manual RWD, 16MY\",\"F-TYPE SVR Automatic AWD, 17MY\",\"Fabia Estate\",\"Fabia Hatchback\",\"Fiesta, Model Year Post 2017\",\"Fiesta, Model Year Pre 2017\",\"Flying Spur, MY2015\",\"Flying Spur, MY2017\",\"Forester AWD, From 2015 MY\",\"G-Class, Model Year 2017\",\"GL-Class, Model Year 2016\",\"GLA Class, Model Year 2016\",\"GLC, Model Year 2016\",\"GLE Estate, Model Year 2016\",\"GLE Estate, Model Year 2016\\u00bd\",\"GLS, Model Year 2017\",\"GS F, MY2016\",\"GS, MY2014\",\"GS300h, MY2016\",\"GS450h, MY2016\",\"GT86, MY2016\",\"GTR Euro6, 2016\",\"Genesis\",\"Ghibli\",\"Ghost\",\"Giulietta\",\"Golf\",\"Golf Cabriolet\",\"Golf Estate\",\"Golf SV\",\"Grand C4 Picasso\",\"Grand Scenic Euro6, 2015\",\"Grand Tourneo Connect, Model Year Post 2016\\u00bc\",\"Grand Tourneo Connect, Model Year Pre 2016\\u00bc\",\"HR-V, Model Year 2016\",\"Huracan\",\"IS, MY2015\",\"IS300h, MY2016\",\"Ibiza 5 door\",\"Ibiza SC\",\"Ibiza ST\",\"Insignia 5 Door Hatchback, Model Year 2015\",\"Insignia 5 Door Hatchback, Model Year 2016\",\"Insignia 5 Door Sports Tourer, Model Year 2016\",\"Jazz, Model Year 2016\",\"Jeep Cherokee, MY 2015\",\"Jeep Cherokee, MY2016\",\"Jeep Compass, MY 2015\",\"Jeep Grand Cherokee, MY 2014\",\"Jeep Grand Cherokee, MY 2015\",\"Jeep Grand Cherokee, MY2016\",\"Jeep Renegade, MY2015\",\"Jeep Renegade, MY2016\",\"Jeep Wrangler, MY 2015\",\"Jeep Wrangler, MY 2016\",\"Jetta\",\"Jimny\",\"Juke Euro6, 2015\",\"Juke, 2014\\u002f15\",\"KA+, Model Year Post 2016\\u00be\",\"Ka, Model Year Post 2015\\u00bd\",\"Kadjar Euro6, 2015\",\"Korando\",\"Kuga, Model Year Post 2016\\u00bd\",\"Kuga, Model Year Pre 2016\\u00bd\",\"LS\",\"Land Cruiser, MY2016\",\"Leon 5 Door\",\"Leon SC\",\"Leon ST\",\"Leon X-Perience\",\"Levorg AWD, From 2016 MY\",\"Logan MCV Euro6, 2015\",\"M3 Series Saloon F80, From June 2014\",\"M4 Series Convertible F83, From September 2014\",\"MINI 3-door Hatchback F56, From March 2014\",\"MINI 3-door Hatchback F56, From March 2016\",\"MINI 5-door Hatchback F55, From October 2014\",\"MINI Clubman F54, From October 2015\",\"MINI Convertible F57, From March 2016\",\"MINI Countryman R60, From September 2010\",\"MINI Paceman R61, From November 2012\",\"MINI Roadster R59, From April 2012\",\"MX-5\",\"Macan\",\"Mazda2\",\"Mazda3 4 door\",\"Mazda3 5 door\",\"Mazda6 Saloon\",\"Mazda6 Tourer\",\"Megane 2016\",\"Megane Renault Sport Euro6, 2015\",\"Meriva, Model Year 2015\",\"Meriva, Model Year 2016\",\"MiTo, 2012 onwards\",\"Micra Euro6, 2015\",\"Mii\",\"Mirage\",\"Mokka, Model Year 2015\",\"Mokka, Model Year 2016\",\"Mondeo Vignale, Model Year Post 2016\\u00be\",\"Mondeo Vignale, Model Year Pre 2016\\u00be\",\"Mulsanne, MY2017\",\"Mustang, Model Year Post 2015\\u00be\",\"M\\u00e9gane Hatchback Euro6, 2015\",\"M\\u00e9gane Sport Tourer Euro6, 2015\",\"NV200 EURO6, 2015\",\"NX, MY2015\",\"New A4 Avant\",\"New A4 Saloon\",\"New Abarth 595, 2016 Onwards\",\"New CC\",\"New DS3\",\"New DS3 Cabriolet\",\"New DS4\",\"New DS4 Crossback\",\"New DS5\",\"New Sharan\",\"New Superb Estate\",\"New Superb Saloon\",\"New Tiguan\",\"New Touareg\",\"Note Euro6, 2015\",\"Octavia Estate\",\"Octavia Hatchback\",\"Outback AWD, From 2015 MY\",\"Outlander\",\"Outlander PHEV, 2014\",\"Panamera\",\"Panda, From February 2012 onwards\",\"Partner Tepee\",\"Passat Alltrack\",\"Passat Estate\",\"Passat Saloon\",\"Phantom\",\"Picanto 3-door\",\"Picanto 5-door\",\"Polo\",\"Prius Plug-In, MY2012\",\"Prius Plus, MY2015\",\"Prius, 2016\",\"Prius, MY2012\",\"Pulsar Euro6, 2015\",\"Punto, 2012 onwards\",\"Q3\",\"Q30 Euro6, 2016\",\"Q5\",\"Q50 Euro6, 2016\",\"Q7\",\"Q70 Euro6, 2016\",\"Qashqai Euro6, 2015\",\"Quattroporte\",\"Qubo, 2012 onwards\",\"R8 Spyder\",\"RAV4, MY2015\",\"RAV4, MY2016\",\"RC 200t, MY2015\",\"RC F, MY2015\",\"RC300h, MY2015\",\"RS Series\",\"RX, MY2015\",\"Range Rover 16MY\",\"Range Rover Evoque 16MY\",\"Range Rover Sport 16MY\",\"Rapid\",\"Rapid Spaceback\",\"Rapide S MY2015, from Sept 2014\",\"Rapide S, MY2016\",\"Rexton W\",\"Rio 3-door\",\"Rio 5-door\",\"S-Class Cabriolet, Model Year 2016\",\"S-Class Limousine, Model Year 2016\",\"S-Class Limousine, Model Year 2016\\u00bd\",\"S-Class Saloon, Model Year 2016\",\"S-Class Saloon, Model Year 2016\\u00bd\",\"S-MAX Vignale, Model Year Post 2017\",\"S60 MY17\",\"S60, MY16\",\"S80, MY16\",\"S90 MY17\",\"SL, Model Year 2016\",\"SL, Model Year 2017\",\"SLC, Model Year 2017\",\"SLK-Class, Model Year 2016\",\"SX4 S-Cross\",\"Sandero  Stepway Euro6, 2015\",\"Sandero Euro6 2015\",\"Santa Fe\",\"Scenic Euro6, 2015\",\"Scirocco\",\"Shogun\",\"Sorento\",\"Soul\",\"Sportage\",\"Superb Estate\",\"Superb Saloon\",\"Swift\",\"TT Roadster\",\"Taxi - TX4\",\"Tivoli\",\"Toledo\",\"Touran\",\"Tourneo Connect, Model Year Post 2016\\u00bd\",\"Tourneo Connect, Model Year Pre 2016\\u00bd\",\"Tourneo Courier Kombi - , Model Year Post 2015\\u00be\",\"Tourneo Custom - 310 Long Wheelbase, Model Year Post 2016\\u00bd\",\"Tourneo Custom - 310 Short Wheelbase, Model Year Post 2016\\u00bd\",\"Trafic Euro6, 2016\",\"Transporter Shuttle S Long Wheelbase\",\"Transporter Shuttle S Short Wheelbase\",\"Transporter Shuttle SE Long Wheelbase\",\"Transporter Shuttle SE Short Wheelbase\",\"Transporter Window Van T30 and T32 Long Wheelbase Low Roof\",\"Transporter Window Van T30 and T32 Short Wheelbase Low Roof\",\"Tucson\",\"Turismo\",\"Twingo Euro6, 2015\",\"UP\",\"V-Class, Model Year 2016\",\"V12 Vantage S MY2015, from March 2014\",\"V12 Vantage S, MY2016\",\"V40 MY17\",\"V40, MY16\",\"V60 MY17\",\"V60, MY16\",\"V70, MY16\",\"V8 Vantage\\u002fV8 Vantage S\\u002fN430, MY2016\",\"V8 Vantage\\u002fVantage S\\u002fN430 MY2015, from May 2014\",\"V90 MY17\",\"Vanquish MY2015, from Sept 2014\",\"Vanquish, MY2016\",\"Vantage GT12, MY2016\",\"Venga\",\"Verso MY2016\",\"Verso, 2016\",\"Verso, MY2015\",\"Vitara\",\"Viva 5 Door Hatchback, Model Year 2016\",\"WRX STI AWD, From 2015 MY\",\"Wraith\",\"X Mod Euro6, 2015\",\"X1 Series F48, From March 2016\",\"X1 Series F48, From October 2015\",\"X3 Series F25, From November 2010\",\"X4 Series F26, From July 2014\",\"X5 M Series F85, From April 2015\",\"X5 Series F15, From November 2013\",\"X6 M Series F86, From April 2015\",\"X6 Series F16, From December 2014\",\"XC60 MY17\",\"XC60, MY16\",\"XC70, MY16\",\"XC90 MY17\",\"XC90, MY16\",\"XE Saloon, 16MY\",\"XE Saloon, 17MY\",\"XF Saloon, 16MY\",\"XF Saloon, 17MY\",\"XJ Saloon, 16MY\",\"XTrail Euro6, 2015\",\"XV AWD, From 2015MY\",\"Yaris, 2016\",\"Yeti\",\"Z4 Series E89 Roadster\",\"Zafira, Model Year 2015\",\"Zafira, Model Year 2016\",\"cee'd\",\"cee'd SW\",\"forfour, Model Year 2016\",\"fortwo cabrio, Model Year 2016\",\"fortwo coup\\u00e9, Model Year 2016\",\"i Series, From November 2013\",\"i10\",\"i20\",\"i20 Active\",\"i30\",\"i30 Tourer\",\"i40\",\"i800\",\"ix20\",\"pro_cee'd\",\"ABARTH\",\"ALFA ROMEO\",\"ASTON MARTIN LAGONDA\",\"AUDI\",\"BENTLEY MOTORS\",\"BMW\",\"CHRYSLER JEEP\",\"CITROEN\",\"DACIA\",\"DS\",\"FERRARI\",\"FIAT\",\"FORD\",\"HONDA\",\"HYUNDAI\",\"INFINITI\",\"JAGUAR\",\"KIA\",\"LAMBORGHINI\",\"LAND ROVER\",\"LEXUS\",\"LONDON TAXI COMPANY\",\"MASERATI\",\"MAZDA\",\"MERCEDES-BENZ\",\"MINI\",\"MITSUBISHI\",\"McLaren\",\"NISSAN\",\"PEUGEOT\",\"PORSCHE\",\"RENAULT\",\"Rolls Royce\",\"SEAT\",\"SKODA\",\"SMART\",\"SSANGYONG\",\"SUBARU\",\"SUZUKI\",\"TOYOTA\",\"VAUXHALL\",\"VOLKSWAGEN\",\"VOLKSWAGEN C.V.\",\"VOLVO\",\"Marcas\\u002fFabricantes\"],\"marker\":{\"coloraxis\":\"coloraxis\",\"colors\":[124.36399064692128,124.1969696969697,97.02749140893471,121.22865013774104,119.69166387679947,148.55762987012986,120.08333333333333,125.46165084002922,135.0630797773655,104.03256936067551,105.34248788368336,148.2164948453608,126.48772045492007,132.71225974995335,113.916015625,107.51942186088527,102.23739237392374,246.50912778904666,150.74419387411646,151.10636277302945,145.68669772748882,174.61700048851978,97.78235294117647,135.73029045643153,138.7565374211001,117.34634146341463,107.76780185758514,119.38977635782747,104.16025641025641,114.21929824561404,106.55172413793103,249.0,249.0,249.0,184.0500200080032,275.0,275.0,275.0,275.0,275.0,147.94042343673067,169.76809453471196,195.1773674039081,220.75339114965533,131.06056466302368,122.68700878409616,113.29276773296245,113.90921690921691,127.53758300132802,121.89871244635194,126.69118006352309,121.39532619279454,154.62398703403565,153.91078838174275,148.79281685960225,156.24463519313304,144.239510908655,139.66698633421242,165.12941176470588,198.67424524785687,217.5103448275862,135.5278810408922,123.59205190592051,126.26550079491255,161.0,157.0,143.31955150665732,329.4812170133499,118.47751605995717,121.5231866825208,124.41039236479321,122.97823066234368,143.1454802259887,144.05610098176717,119.85236768802228,120.70401106500691,132.1707480711171,132.88196065355118,141.57142857142858,144.05610098176717,132.49453978159127,119.44270656239374,133.58785942492014,113.75,143.90887850467288,152.0994623655914,124.59839357429719,108.33704974271012,129.92661481230977,370.0,96.01041666666667,118.84175993824778,121.66026410564226,133.08706677937448,129.8957871396896,296.0,118.59318423855166,194.25696594427245,128.50513581374116,122.36719624076974,94.93139841688654,99.5021645021645,108.45370370370371,105.16387559808612,98.4841997961264,110.70091185410334,114.50218340611353,137.77906976744185,140.8172514619883,186.05,183.81782945736435,149.86320109439126,94.0,91.9400544959128,132.67471410419313,136.85330073349633,131.26143790849673,114.0,132.74353448275863,132.6867924528302,164.70445344129556,173.49464138499587,111.00152207001523,166.80980980980982,159.6269592476489,165.47806354009077,178.9250883392226,128.875,161.3239875389408,152.05777777777777,227.40272108843538,199.61703470031546,95.69291338582677,101.3596837944664,137.5540765391015,138.33664596273292,113.64090909090909,100.9959349593496,252.0793650793651,337.12314540059344,123.60560747663551,127.38602941176471,119.15481434864695,120.36734693877551,164.16638005159072,146.11986137667304,158.1801573369742,139.4548736462094,124.26256983240224,325.0,325.0,100.668,92.0,330.0,240.614406779661,164.24276729559747,151.02857142857144,138.21315468940315,150.15456989247312,177.75628794449264,178.80348004094165,124.54385964912281,134.05279034690798,136.15613382899627,150.51495016611295,159.58441558441558,199.0,234.0,269.0,255.0,211.0,203.0,234.0,269.0,103.01392757660167,102.74098961514966,114.23321799307959,111.46896551724137,254.0,300.06960950764005,158.85475504322767,294.69125214408234,266.21382842509604,136.29129540781358,132.77735849056603,155.0,182.96338983050848,251.6324435318275,260.0,142.3583138173302,112.15,143.69141531322506,179.80613668061366,275.0,261.0,199.90136054421768,328.0030487804878,123.55244029075804,118.43240223463687,124.42494226327945,118.91088725300271,115.89532079112398,112.17715019255456,126.91332263242376,121.97741273100615,121.97741273100615,121.39933444259567,290.0,167.0,102.87104622871047,107.81535269709543,115.03256846780162,111.7976011994003,120.93788819875776,142.7856525496975,116.0028818443804,113.59611992945327,174.9882005899705,166.41795665634675,193.50520833333334,327.0,269.8421052631579,244.4172767203514,143.87587523870147,142.1904090267983,270.5822550831793,264.3601895734597,115.27203482045702,164.53799392097264,132.88813559322034,146.33561643835617,114.0,115.0,117.73962804005723,152.89023051591658,140.89973142345568,142.31443755535872,226.79017857142858,192.68512110726644,122.25996908809891,125.35253189022033,123.16988653787182,132.50125944584383,164.0,112.10030395136778,199.12562814070353,208.12019230769232,113.46050168476226,114.66763848396502,112.48711656441718,128.821374508023,121.37273991655077,151.65230460921845,151.82492581602375,144.26829268292684,150.80666666666667,194.1366006256517,107.46529080675423,113.69333333333333,119.66596417281349,120.55833333333334,121.45289256198348,113.19365337672905,174.0,141.98716119828816,129.125,120.44654088050315,105.93333333333334,102.94647201946472,99.50251256281408,138.99265246142542,130.48660714285714,140.3343023255814,140.99132947976878,342.0,257.88028169014086,124.26256983240224,124.26256983240224,131.5171102661597,134.74968071519797,122.82223183391004,119.03973214285715,139.0,126.01986754966887,108.18075117370893,109.23433874709977,113.42136498516321,110.75565610859728,117.70334412081985,140.78336162988114,119.85250338294993,117.64876033057851,142.95500135538086,174.83981693363845,105.93333333333334,120.83014416775885,119.72127937336815,155.3268817204301,146.8839590443686,44.0,211.00581818181817,109.83095723014257,121.86005560704356,133.59176029962546,114.47972142564522,112.71975051975052,347.50215827338127,112.52466367713005,114.15452688904017,107.05567226890756,49.0,99.38926174496645,73.12328767123287,90.52486187845304,124.02295081967213,128.125,137.55193420651844,129.17425483131348,163.92924791086352,137.81275551921505,163.6204620462046,177.687306501548,127.15459525258673,218.23584905660377,123.95378151260505,277.0,157.0,127.78164556962025,168.0,251.0,115.01739130434783,210.4442456768038,157.53773584905662,232.8111510791367,149.19807186678352,224.67776917118513,104.30658105939006,103.53634894991923,300.0,300.0,189.13227513227514,112.17734724292102,111.31400966183575,234.28432432432433,201.25255972696246,171.66204162537164,156.53993610223642,150.6345514950166,149.36684782608697,113.97891231964483,118.47581903276131,130.35135135135135,121.74897119341564,223.6163753449862,230.7036379769299,141.5447284345048,151.68119891008175,126.27503974562798,107.17840375586854,112.10030395136778,166.83783783783784,126.69539078156312,134.17323481116586,241.55072463768116,165.41051567239637,138.3918007265179,145.87769784172662,120.99691643539933,118.73964110929853,130.22243713733076,152.48863636363637,222.0,142.84308131241085,103.16796875,121.22620689655173,123.44805194805195,121.23841059602648,101.5615763546798,162.81572481572482,159.8160200250313,150.78318584070797,155.7066381156317,154.5566343042071,160.04630788485608,158.448798988622,163.76970160673298,160.6629680998613,145.04541484716157,194.97175866495508,103.67796610169492,103.89825406381698,164.51367781155014,343.0,343.0,116.07868131868132,110.01909150757076,115.0750307503075,117.3139240506329,114.67394468704512,309.0064829821718,309.0064829821718,124.20161290322581,298.0,298.0,332.0,132.6943793911007,119.0,145.46180555555554,152.05,118.26808510638298,102.38762214983713,242.0,327.0,130.45454545454547,133.57677902621722,128.74095796676443,145.36212854181065,145.36212854181065,258.0,167.4170168067227,258.0,185.94803149606298,139.84948453608249,136.53751537515376,138.6,154.16145833333334,159.92027972027972,139.79823594266813,123.0,172.15162907268171,129.0,198.1750219876869,140.42268041237114,151.06637168141592,97.94175438596491,130.76524859046643,180.9962382445141,138.64097148891236,147.34548611111111,115.56795889771135,111.3202416918429,97.51282051282051,98.50761421319797,95.54450261780104,41.45161290322581,116.74291938997821,113.82405745062836,110.0,134.06201550387595,127.08672086720867,119.46638655462185,211.92890995260663,133.22784810126583,122.52764761012183,138.82306684141545,129.12627986348122,316.1771595900439,141.52797571727976,307.0787436407874,144.36145094492312,217.00181708055723,107.70717035611165,124.15130023640661,110.70774437587099,329.4812170133499,124.37810861106412,136.92519900602284,136.5475522967436,140.83377023901312,137.68793173506705,187.59424724602204,128.4637589549094,334.8484848484849,200.23342340469756,149.78789538545803,222.0,209.4281045751634,124.93986184477855,157.34368615934628,136.57035765895955,163.36351958895312,268.2842323651452,142.76629213483147,108.6190745452832,209.0568500435077,119.91036274607775,338.1527931927488,122.07987517429122,117.41961346295363,97.28149100257069,165.41621112158342,162.87510644337212,126.00913705583757,126.39121171770972,129.00162343937228,125.41516870133616,158.7479830964272,123.09276097836047,147.44345293729893]},\"name\":\"\",\"parents\":[\"Marcas\\u002fFabricantes\\u002fBMW\",\"Marcas\\u002fFabricantes\\u002fBMW\",\"Marcas\\u002fFabricantes\\u002fPEUGEOT\",\"Marcas\\u002fFabricantes\\u002fBMW\",\"Marcas\\u002fFabricantes\\u002fBMW\",\"Marcas\\u002fFabricantes\\u002fBMW\",\"Marcas\\u002fFabricantes\\u002fBMW\",\"Marcas\\u002fFabricantes\\u002fBMW\",\"Marcas\\u002fFabricantes\\u002fBMW\",\"Marcas\\u002fFabricantes\\u002fPEUGEOT\",\"Marcas\\u002fFabricantes\\u002fPEUGEOT\",\"Marcas\\u002fFabricantes\\u002fBMW\",\"Marcas\\u002fFabricantes\\u002fBMW\",\"Marcas\\u002fFabricantes\\u002fBMW\",\"Marcas\\u002fFabricantes\\u002fPEUGEOT\",\"Marcas\\u002fFabricantes\\u002fPEUGEOT\",\"Marcas\\u002fFabricantes\\u002fPEUGEOT\",\"Marcas\\u002fFabricantes\\u002fNISSAN\",\"Marcas\\u002fFabricantes\\u002fBMW\",\"Marcas\\u002fFabricantes\\u002fBMW\",\"Marcas\\u002fFabricantes\\u002fBMW\",\"Marcas\\u002fFabricantes\\u002fBMW\",\"Marcas\\u002fFabricantes\\u002fFIAT\",\"Marcas\\u002fFabricantes\\u002fFIAT\",\"Marcas\\u002fFabricantes\\u002fABARTH\",\"Marcas\\u002fFabricantes\\u002fPEUGEOT\",\"Marcas\\u002fFabricantes\\u002fFIAT\",\"Marcas\\u002fFabricantes\\u002fFIAT\",\"Marcas\\u002fFabricantes\\u002fPEUGEOT\",\"Marcas\\u002fFabricantes\\u002fPEUGEOT\",\"Marcas\\u002fFabricantes\\u002fPEUGEOT\",\"Marcas\\u002fFabricantes\\u002fMcLaren\",\"Marcas\\u002fFabricantes\\u002fMcLaren\",\"Marcas\\u002fFabricantes\\u002fMcLaren\",\"Marcas\\u002fFabricantes\\u002fBMW\",\"Marcas\\u002fFabricantes\\u002fMcLaren\",\"Marcas\\u002fFabricantes\\u002fMcLaren\",\"Marcas\\u002fFabricantes\\u002fMcLaren\",\"Marcas\\u002fFabricantes\\u002fMcLaren\",\"Marcas\\u002fFabricantes\\u002fMcLaren\",\"Marcas\\u002fFabricantes\\u002fBMW\",\"Marcas\\u002fFabricantes\\u002fPORSCHE\",\"Marcas\\u002fFabricantes\\u002fPORSCHE\",\"Marcas\\u002fFabricantes\\u002fPORSCHE\",\"Marcas\\u002fFabricantes\\u002fMERCEDES-BENZ\",\"Marcas\\u002fFabricantes\\u002fMERCEDES-BENZ\",\"Marcas\\u002fFabricantes\\u002fAUDI\",\"Marcas\\u002fFabricantes\\u002fAUDI\",\"Marcas\\u002fFabricantes\\u002fAUDI\",\"Marcas\\u002fFabricantes\\u002fAUDI\",\"Marcas\\u002fFabricantes\\u002fAUDI\",\"Marcas\\u002fFabricantes\\u002fAUDI\",\"Marcas\\u002fFabricantes\\u002fAUDI\",\"Marcas\\u002fFabricantes\\u002fAUDI\",\"Marcas\\u002fFabricantes\\u002fAUDI\",\"Marcas\\u002fFabricantes\\u002fAUDI\",\"Marcas\\u002fFabricantes\\u002fAUDI\",\"Marcas\\u002fFabricantes\\u002fAUDI\",\"Marcas\\u002fFabricantes\\u002fAUDI\",\"Marcas\\u002fFabricantes\\u002fAUDI\",\"Marcas\\u002fFabricantes\\u002fMERCEDES-BENZ\",\"Marcas\\u002fFabricantes\\u002fMITSUBISHI\",\"Marcas\\u002fFabricantes\\u002fVAUXHALL\",\"Marcas\\u002fFabricantes\\u002fVAUXHALL\",\"Marcas\\u002fFabricantes\\u002fALFA ROMEO\",\"Marcas\\u002fFabricantes\\u002fALFA ROMEO\",\"Marcas\\u002fFabricantes\\u002fSEAT\",\"Marcas\\u002fFabricantes\\u002fFERRARI\",\"Marcas\\u002fFabricantes\\u002fFORD\",\"Marcas\\u002fFabricantes\\u002fFORD\",\"Marcas\\u002fFabricantes\\u002fFORD\",\"Marcas\\u002fFabricantes\\u002fFORD\",\"Marcas\\u002fFabricantes\\u002fFORD\",\"Marcas\\u002fFabricantes\\u002fFORD\",\"Marcas\\u002fFabricantes\\u002fFORD\",\"Marcas\\u002fFabricantes\\u002fFORD\",\"Marcas\\u002fFabricantes\\u002fFORD\",\"Marcas\\u002fFabricantes\\u002fFORD\",\"Marcas\\u002fFabricantes\\u002fFORD\",\"Marcas\\u002fFabricantes\\u002fFORD\",\"Marcas\\u002fFabricantes\\u002fVAUXHALL\",\"Marcas\\u002fFabricantes\\u002fVAUXHALL\",\"Marcas\\u002fFabricantes\\u002fVAUXHALL\",\"Marcas\\u002fFabricantes\\u002fVAUXHALL\",\"Marcas\\u002fFabricantes\\u002fVAUXHALL\",\"Marcas\\u002fFabricantes\\u002fVAUXHALL\",\"Marcas\\u002fFabricantes\\u002fSEAT\",\"Marcas\\u002fFabricantes\\u002fTOYOTA\",\"Marcas\\u002fFabricantes\\u002fTOYOTA\",\"Marcas\\u002fFabricantes\\u002fLAMBORGHINI\",\"Marcas\\u002fFabricantes\\u002fTOYOTA\",\"Marcas\\u002fFabricantes\\u002fMERCEDES-BENZ\",\"Marcas\\u002fFabricantes\\u002fFORD\",\"Marcas\\u002fFabricantes\\u002fVOLKSWAGEN\",\"Marcas\\u002fFabricantes\\u002fVOLKSWAGEN\",\"Marcas\\u002fFabricantes\\u002fBENTLEY MOTORS\",\"Marcas\\u002fFabricantes\\u002fCITROEN\",\"Marcas\\u002fFabricantes\\u002fPORSCHE\",\"Marcas\\u002fFabricantes\\u002fMERCEDES-BENZ\",\"Marcas\\u002fFabricantes\\u002fMERCEDES-BENZ\",\"Marcas\\u002fFabricantes\\u002fCITROEN\",\"Marcas\\u002fFabricantes\\u002fCITROEN\",\"Marcas\\u002fFabricantes\\u002fCITROEN\",\"Marcas\\u002fFabricantes\\u002fCITROEN\",\"Marcas\\u002fFabricantes\\u002fCITROEN\",\"Marcas\\u002fFabricantes\\u002fCITROEN\",\"Marcas\\u002fFabricantes\\u002fCITROEN\",\"Marcas\\u002fFabricantes\\u002fMERCEDES-BENZ\",\"Marcas\\u002fFabricantes\\u002fMERCEDES-BENZ\",\"Marcas\\u002fFabricantes\\u002fMERCEDES-BENZ\",\"Marcas\\u002fFabricantes\\u002fMERCEDES-BENZ\",\"Marcas\\u002fFabricantes\\u002fHONDA\",\"Marcas\\u002fFabricantes\\u002fLEXUS\",\"Marcas\\u002fFabricantes\\u002fLEXUS\",\"Marcas\\u002fFabricantes\\u002fMAZDA\",\"Marcas\\u002fFabricantes\\u002fMAZDA\",\"Marcas\\u002fFabricantes\\u002fVOLKSWAGEN C.V.\",\"Marcas\\u002fFabricantes\\u002fVOLKSWAGEN C.V.\",\"Marcas\\u002fFabricantes\\u002fVOLKSWAGEN C.V.\",\"Marcas\\u002fFabricantes\\u002fVOLKSWAGEN C.V.\",\"Marcas\\u002fFabricantes\\u002fVOLKSWAGEN C.V.\",\"Marcas\\u002fFabricantes\\u002fVOLKSWAGEN C.V.\",\"Marcas\\u002fFabricantes\\u002fRENAULT\",\"Marcas\\u002fFabricantes\\u002fVOLKSWAGEN C.V.\",\"Marcas\\u002fFabricantes\\u002fVOLKSWAGEN C.V.\",\"Marcas\\u002fFabricantes\\u002fVOLKSWAGEN C.V.\",\"Marcas\\u002fFabricantes\\u002fVOLKSWAGEN C.V.\",\"Marcas\\u002fFabricantes\\u002fKIA\",\"Marcas\\u002fFabricantes\\u002fVAUXHALL\",\"Marcas\\u002fFabricantes\\u002fVAUXHALL\",\"Marcas\\u002fFabricantes\\u002fPORSCHE\",\"Marcas\\u002fFabricantes\\u002fPORSCHE\",\"Marcas\\u002fFabricantes\\u002fSUZUKI\",\"Marcas\\u002fFabricantes\\u002fSKODA\",\"Marcas\\u002fFabricantes\\u002fHONDA\",\"Marcas\\u002fFabricantes\\u002fHONDA\",\"Marcas\\u002fFabricantes\\u002fRENAULT\",\"Marcas\\u002fFabricantes\\u002fRENAULT\",\"Marcas\\u002fFabricantes\\u002fBENTLEY MOTORS\",\"Marcas\\u002fFabricantes\\u002fBENTLEY MOTORS\",\"Marcas\\u002fFabricantes\\u002fVAUXHALL\",\"Marcas\\u002fFabricantes\\u002fVAUXHALL\",\"Marcas\\u002fFabricantes\\u002fVAUXHALL\",\"Marcas\\u002fFabricantes\\u002fVAUXHALL\",\"Marcas\\u002fFabricantes\\u002fAUDI\",\"Marcas\\u002fFabricantes\\u002fBMW\",\"Marcas\\u002fFabricantes\\u002fMERCEDES-BENZ\",\"Marcas\\u002fFabricantes\\u002fMINI\",\"Marcas\\u002fFabricantes\\u002fRENAULT\",\"Marcas\\u002fFabricantes\\u002fASTON MARTIN LAGONDA\",\"Marcas\\u002fFabricantes\\u002fASTON MARTIN LAGONDA\",\"Marcas\\u002fFabricantes\\u002fDS\",\"Marcas\\u002fFabricantes\\u002fDS\",\"Marcas\\u002fFabricantes\\u002fRolls Royce\",\"Marcas\\u002fFabricantes\\u002fLAND ROVER\",\"Marcas\\u002fFabricantes\\u002fLAND ROVER\",\"Marcas\\u002fFabricantes\\u002fFIAT\",\"Marcas\\u002fFabricantes\\u002fDACIA\",\"Marcas\\u002fFabricantes\\u002fMERCEDES-BENZ\",\"Marcas\\u002fFabricantes\\u002fMERCEDES-BENZ\",\"Marcas\\u002fFabricantes\\u002fMERCEDES-BENZ\",\"Marcas\\u002fFabricantes\\u002fMERCEDES-BENZ\",\"Marcas\\u002fFabricantes\\u002fFORD\",\"Marcas\\u002fFabricantes\\u002fFORD\",\"Marcas\\u002fFabricantes\\u002fFORD\",\"Marcas\\u002fFabricantes\\u002fJAGUAR\",\"Marcas\\u002fFabricantes\\u002fJAGUAR\",\"Marcas\\u002fFabricantes\\u002fJAGUAR\",\"Marcas\\u002fFabricantes\\u002fJAGUAR\",\"Marcas\\u002fFabricantes\\u002fJAGUAR\",\"Marcas\\u002fFabricantes\\u002fJAGUAR\",\"Marcas\\u002fFabricantes\\u002fJAGUAR\",\"Marcas\\u002fFabricantes\\u002fJAGUAR\",\"Marcas\\u002fFabricantes\\u002fJAGUAR\",\"Marcas\\u002fFabricantes\\u002fSKODA\",\"Marcas\\u002fFabricantes\\u002fSKODA\",\"Marcas\\u002fFabricantes\\u002fFORD\",\"Marcas\\u002fFabricantes\\u002fFORD\",\"Marcas\\u002fFabricantes\\u002fBENTLEY MOTORS\",\"Marcas\\u002fFabricantes\\u002fBENTLEY MOTORS\",\"Marcas\\u002fFabricantes\\u002fSUBARU\",\"Marcas\\u002fFabricantes\\u002fMERCEDES-BENZ\",\"Marcas\\u002fFabricantes\\u002fMERCEDES-BENZ\",\"Marcas\\u002fFabricantes\\u002fMERCEDES-BENZ\",\"Marcas\\u002fFabricantes\\u002fMERCEDES-BENZ\",\"Marcas\\u002fFabricantes\\u002fMERCEDES-BENZ\",\"Marcas\\u002fFabricantes\\u002fMERCEDES-BENZ\",\"Marcas\\u002fFabricantes\\u002fMERCEDES-BENZ\",\"Marcas\\u002fFabricantes\\u002fLEXUS\",\"Marcas\\u002fFabricantes\\u002fLEXUS\",\"Marcas\\u002fFabricantes\\u002fLEXUS\",\"Marcas\\u002fFabricantes\\u002fLEXUS\",\"Marcas\\u002fFabricantes\\u002fTOYOTA\",\"Marcas\\u002fFabricantes\\u002fNISSAN\",\"Marcas\\u002fFabricantes\\u002fHYUNDAI\",\"Marcas\\u002fFabricantes\\u002fMASERATI\",\"Marcas\\u002fFabricantes\\u002fRolls Royce\",\"Marcas\\u002fFabricantes\\u002fALFA ROMEO\",\"Marcas\\u002fFabricantes\\u002fVOLKSWAGEN\",\"Marcas\\u002fFabricantes\\u002fVOLKSWAGEN\",\"Marcas\\u002fFabricantes\\u002fVOLKSWAGEN\",\"Marcas\\u002fFabricantes\\u002fVOLKSWAGEN\",\"Marcas\\u002fFabricantes\\u002fCITROEN\",\"Marcas\\u002fFabricantes\\u002fRENAULT\",\"Marcas\\u002fFabricantes\\u002fFORD\",\"Marcas\\u002fFabricantes\\u002fFORD\",\"Marcas\\u002fFabricantes\\u002fHONDA\",\"Marcas\\u002fFabricantes\\u002fLAMBORGHINI\",\"Marcas\\u002fFabricantes\\u002fLEXUS\",\"Marcas\\u002fFabricantes\\u002fLEXUS\",\"Marcas\\u002fFabricantes\\u002fSEAT\",\"Marcas\\u002fFabricantes\\u002fSEAT\",\"Marcas\\u002fFabricantes\\u002fSEAT\",\"Marcas\\u002fFabricantes\\u002fVAUXHALL\",\"Marcas\\u002fFabricantes\\u002fVAUXHALL\",\"Marcas\\u002fFabricantes\\u002fVAUXHALL\",\"Marcas\\u002fFabricantes\\u002fHONDA\",\"Marcas\\u002fFabricantes\\u002fCHRYSLER JEEP\",\"Marcas\\u002fFabricantes\\u002fCHRYSLER JEEP\",\"Marcas\\u002fFabricantes\\u002fCHRYSLER JEEP\",\"Marcas\\u002fFabricantes\\u002fCHRYSLER JEEP\",\"Marcas\\u002fFabricantes\\u002fCHRYSLER JEEP\",\"Marcas\\u002fFabricantes\\u002fCHRYSLER JEEP\",\"Marcas\\u002fFabricantes\\u002fCHRYSLER JEEP\",\"Marcas\\u002fFabricantes\\u002fCHRYSLER JEEP\",\"Marcas\\u002fFabricantes\\u002fCHRYSLER JEEP\",\"Marcas\\u002fFabricantes\\u002fCHRYSLER JEEP\",\"Marcas\\u002fFabricantes\\u002fVOLKSWAGEN\",\"Marcas\\u002fFabricantes\\u002fSUZUKI\",\"Marcas\\u002fFabricantes\\u002fNISSAN\",\"Marcas\\u002fFabricantes\\u002fNISSAN\",\"Marcas\\u002fFabricantes\\u002fFORD\",\"Marcas\\u002fFabricantes\\u002fFORD\",\"Marcas\\u002fFabricantes\\u002fRENAULT\",\"Marcas\\u002fFabricantes\\u002fSSANGYONG\",\"Marcas\\u002fFabricantes\\u002fFORD\",\"Marcas\\u002fFabricantes\\u002fFORD\",\"Marcas\\u002fFabricantes\\u002fLEXUS\",\"Marcas\\u002fFabricantes\\u002fTOYOTA\",\"Marcas\\u002fFabricantes\\u002fSEAT\",\"Marcas\\u002fFabricantes\\u002fSEAT\",\"Marcas\\u002fFabricantes\\u002fSEAT\",\"Marcas\\u002fFabricantes\\u002fSEAT\",\"Marcas\\u002fFabricantes\\u002fSUBARU\",\"Marcas\\u002fFabricantes\\u002fDACIA\",\"Marcas\\u002fFabricantes\\u002fBMW\",\"Marcas\\u002fFabricantes\\u002fBMW\",\"Marcas\\u002fFabricantes\\u002fMINI\",\"Marcas\\u002fFabricantes\\u002fMINI\",\"Marcas\\u002fFabricantes\\u002fMINI\",\"Marcas\\u002fFabricantes\\u002fMINI\",\"Marcas\\u002fFabricantes\\u002fMINI\",\"Marcas\\u002fFabricantes\\u002fMINI\",\"Marcas\\u002fFabricantes\\u002fMINI\",\"Marcas\\u002fFabricantes\\u002fMINI\",\"Marcas\\u002fFabricantes\\u002fMAZDA\",\"Marcas\\u002fFabricantes\\u002fPORSCHE\",\"Marcas\\u002fFabricantes\\u002fMAZDA\",\"Marcas\\u002fFabricantes\\u002fMAZDA\",\"Marcas\\u002fFabricantes\\u002fMAZDA\",\"Marcas\\u002fFabricantes\\u002fMAZDA\",\"Marcas\\u002fFabricantes\\u002fMAZDA\",\"Marcas\\u002fFabricantes\\u002fRENAULT\",\"Marcas\\u002fFabricantes\\u002fRENAULT\",\"Marcas\\u002fFabricantes\\u002fVAUXHALL\",\"Marcas\\u002fFabricantes\\u002fVAUXHALL\",\"Marcas\\u002fFabricantes\\u002fALFA ROMEO\",\"Marcas\\u002fFabricantes\\u002fNISSAN\",\"Marcas\\u002fFabricantes\\u002fSEAT\",\"Marcas\\u002fFabricantes\\u002fMITSUBISHI\",\"Marcas\\u002fFabricantes\\u002fVAUXHALL\",\"Marcas\\u002fFabricantes\\u002fVAUXHALL\",\"Marcas\\u002fFabricantes\\u002fFORD\",\"Marcas\\u002fFabricantes\\u002fFORD\",\"Marcas\\u002fFabricantes\\u002fBENTLEY MOTORS\",\"Marcas\\u002fFabricantes\\u002fFORD\",\"Marcas\\u002fFabricantes\\u002fRENAULT\",\"Marcas\\u002fFabricantes\\u002fRENAULT\",\"Marcas\\u002fFabricantes\\u002fNISSAN\",\"Marcas\\u002fFabricantes\\u002fLEXUS\",\"Marcas\\u002fFabricantes\\u002fAUDI\",\"Marcas\\u002fFabricantes\\u002fAUDI\",\"Marcas\\u002fFabricantes\\u002fABARTH\",\"Marcas\\u002fFabricantes\\u002fVOLKSWAGEN\",\"Marcas\\u002fFabricantes\\u002fDS\",\"Marcas\\u002fFabricantes\\u002fDS\",\"Marcas\\u002fFabricantes\\u002fDS\",\"Marcas\\u002fFabricantes\\u002fDS\",\"Marcas\\u002fFabricantes\\u002fDS\",\"Marcas\\u002fFabricantes\\u002fVOLKSWAGEN\",\"Marcas\\u002fFabricantes\\u002fSKODA\",\"Marcas\\u002fFabricantes\\u002fSKODA\",\"Marcas\\u002fFabricantes\\u002fVOLKSWAGEN\",\"Marcas\\u002fFabricantes\\u002fVOLKSWAGEN\",\"Marcas\\u002fFabricantes\\u002fNISSAN\",\"Marcas\\u002fFabricantes\\u002fSKODA\",\"Marcas\\u002fFabricantes\\u002fSKODA\",\"Marcas\\u002fFabricantes\\u002fSUBARU\",\"Marcas\\u002fFabricantes\\u002fMITSUBISHI\",\"Marcas\\u002fFabricantes\\u002fMITSUBISHI\",\"Marcas\\u002fFabricantes\\u002fPORSCHE\",\"Marcas\\u002fFabricantes\\u002fFIAT\",\"Marcas\\u002fFabricantes\\u002fPEUGEOT\",\"Marcas\\u002fFabricantes\\u002fVOLKSWAGEN\",\"Marcas\\u002fFabricantes\\u002fVOLKSWAGEN\",\"Marcas\\u002fFabricantes\\u002fVOLKSWAGEN\",\"Marcas\\u002fFabricantes\\u002fRolls Royce\",\"Marcas\\u002fFabricantes\\u002fKIA\",\"Marcas\\u002fFabricantes\\u002fKIA\",\"Marcas\\u002fFabricantes\\u002fVOLKSWAGEN\",\"Marcas\\u002fFabricantes\\u002fTOYOTA\",\"Marcas\\u002fFabricantes\\u002fTOYOTA\",\"Marcas\\u002fFabricantes\\u002fTOYOTA\",\"Marcas\\u002fFabricantes\\u002fTOYOTA\",\"Marcas\\u002fFabricantes\\u002fNISSAN\",\"Marcas\\u002fFabricantes\\u002fFIAT\",\"Marcas\\u002fFabricantes\\u002fAUDI\",\"Marcas\\u002fFabricantes\\u002fINFINITI\",\"Marcas\\u002fFabricantes\\u002fAUDI\",\"Marcas\\u002fFabricantes\\u002fINFINITI\",\"Marcas\\u002fFabricantes\\u002fAUDI\",\"Marcas\\u002fFabricantes\\u002fINFINITI\",\"Marcas\\u002fFabricantes\\u002fNISSAN\",\"Marcas\\u002fFabricantes\\u002fMASERATI\",\"Marcas\\u002fFabricantes\\u002fFIAT\",\"Marcas\\u002fFabricantes\\u002fAUDI\",\"Marcas\\u002fFabricantes\\u002fTOYOTA\",\"Marcas\\u002fFabricantes\\u002fTOYOTA\",\"Marcas\\u002fFabricantes\\u002fLEXUS\",\"Marcas\\u002fFabricantes\\u002fLEXUS\",\"Marcas\\u002fFabricantes\\u002fLEXUS\",\"Marcas\\u002fFabricantes\\u002fAUDI\",\"Marcas\\u002fFabricantes\\u002fLEXUS\",\"Marcas\\u002fFabricantes\\u002fLAND ROVER\",\"Marcas\\u002fFabricantes\\u002fLAND ROVER\",\"Marcas\\u002fFabricantes\\u002fLAND ROVER\",\"Marcas\\u002fFabricantes\\u002fSKODA\",\"Marcas\\u002fFabricantes\\u002fSKODA\",\"Marcas\\u002fFabricantes\\u002fASTON MARTIN LAGONDA\",\"Marcas\\u002fFabricantes\\u002fASTON MARTIN LAGONDA\",\"Marcas\\u002fFabricantes\\u002fSSANGYONG\",\"Marcas\\u002fFabricantes\\u002fKIA\",\"Marcas\\u002fFabricantes\\u002fKIA\",\"Marcas\\u002fFabricantes\\u002fMERCEDES-BENZ\",\"Marcas\\u002fFabricantes\\u002fMERCEDES-BENZ\",\"Marcas\\u002fFabricantes\\u002fMERCEDES-BENZ\",\"Marcas\\u002fFabricantes\\u002fMERCEDES-BENZ\",\"Marcas\\u002fFabricantes\\u002fMERCEDES-BENZ\",\"Marcas\\u002fFabricantes\\u002fFORD\",\"Marcas\\u002fFabricantes\\u002fVOLVO\",\"Marcas\\u002fFabricantes\\u002fVOLVO\",\"Marcas\\u002fFabricantes\\u002fVOLVO\",\"Marcas\\u002fFabricantes\\u002fVOLVO\",\"Marcas\\u002fFabricantes\\u002fMERCEDES-BENZ\",\"Marcas\\u002fFabricantes\\u002fMERCEDES-BENZ\",\"Marcas\\u002fFabricantes\\u002fMERCEDES-BENZ\",\"Marcas\\u002fFabricantes\\u002fMERCEDES-BENZ\",\"Marcas\\u002fFabricantes\\u002fSUZUKI\",\"Marcas\\u002fFabricantes\\u002fDACIA\",\"Marcas\\u002fFabricantes\\u002fDACIA\",\"Marcas\\u002fFabricantes\\u002fHYUNDAI\",\"Marcas\\u002fFabricantes\\u002fRENAULT\",\"Marcas\\u002fFabricantes\\u002fVOLKSWAGEN\",\"Marcas\\u002fFabricantes\\u002fMITSUBISHI\",\"Marcas\\u002fFabricantes\\u002fKIA\",\"Marcas\\u002fFabricantes\\u002fKIA\",\"Marcas\\u002fFabricantes\\u002fKIA\",\"Marcas\\u002fFabricantes\\u002fSKODA\",\"Marcas\\u002fFabricantes\\u002fSKODA\",\"Marcas\\u002fFabricantes\\u002fSUZUKI\",\"Marcas\\u002fFabricantes\\u002fAUDI\",\"Marcas\\u002fFabricantes\\u002fLONDON TAXI COMPANY\",\"Marcas\\u002fFabricantes\\u002fSSANGYONG\",\"Marcas\\u002fFabricantes\\u002fSEAT\",\"Marcas\\u002fFabricantes\\u002fVOLKSWAGEN\",\"Marcas\\u002fFabricantes\\u002fFORD\",\"Marcas\\u002fFabricantes\\u002fFORD\",\"Marcas\\u002fFabricantes\\u002fFORD\",\"Marcas\\u002fFabricantes\\u002fFORD\",\"Marcas\\u002fFabricantes\\u002fFORD\",\"Marcas\\u002fFabricantes\\u002fRENAULT\",\"Marcas\\u002fFabricantes\\u002fVOLKSWAGEN C.V.\",\"Marcas\\u002fFabricantes\\u002fVOLKSWAGEN C.V.\",\"Marcas\\u002fFabricantes\\u002fVOLKSWAGEN C.V.\",\"Marcas\\u002fFabricantes\\u002fVOLKSWAGEN C.V.\",\"Marcas\\u002fFabricantes\\u002fVOLKSWAGEN C.V.\",\"Marcas\\u002fFabricantes\\u002fVOLKSWAGEN C.V.\",\"Marcas\\u002fFabricantes\\u002fHYUNDAI\",\"Marcas\\u002fFabricantes\\u002fSSANGYONG\",\"Marcas\\u002fFabricantes\\u002fRENAULT\",\"Marcas\\u002fFabricantes\\u002fVOLKSWAGEN\",\"Marcas\\u002fFabricantes\\u002fMERCEDES-BENZ\",\"Marcas\\u002fFabricantes\\u002fASTON MARTIN LAGONDA\",\"Marcas\\u002fFabricantes\\u002fASTON MARTIN LAGONDA\",\"Marcas\\u002fFabricantes\\u002fVOLVO\",\"Marcas\\u002fFabricantes\\u002fVOLVO\",\"Marcas\\u002fFabricantes\\u002fVOLVO\",\"Marcas\\u002fFabricantes\\u002fVOLVO\",\"Marcas\\u002fFabricantes\\u002fVOLVO\",\"Marcas\\u002fFabricantes\\u002fASTON MARTIN LAGONDA\",\"Marcas\\u002fFabricantes\\u002fASTON MARTIN LAGONDA\",\"Marcas\\u002fFabricantes\\u002fVOLVO\",\"Marcas\\u002fFabricantes\\u002fASTON MARTIN LAGONDA\",\"Marcas\\u002fFabricantes\\u002fASTON MARTIN LAGONDA\",\"Marcas\\u002fFabricantes\\u002fASTON MARTIN LAGONDA\",\"Marcas\\u002fFabricantes\\u002fKIA\",\"Marcas\\u002fFabricantes\\u002fTOYOTA\",\"Marcas\\u002fFabricantes\\u002fTOYOTA\",\"Marcas\\u002fFabricantes\\u002fTOYOTA\",\"Marcas\\u002fFabricantes\\u002fSUZUKI\",\"Marcas\\u002fFabricantes\\u002fVAUXHALL\",\"Marcas\\u002fFabricantes\\u002fSUBARU\",\"Marcas\\u002fFabricantes\\u002fRolls Royce\",\"Marcas\\u002fFabricantes\\u002fRENAULT\",\"Marcas\\u002fFabricantes\\u002fBMW\",\"Marcas\\u002fFabricantes\\u002fBMW\",\"Marcas\\u002fFabricantes\\u002fBMW\",\"Marcas\\u002fFabricantes\\u002fBMW\",\"Marcas\\u002fFabricantes\\u002fBMW\",\"Marcas\\u002fFabricantes\\u002fBMW\",\"Marcas\\u002fFabricantes\\u002fBMW\",\"Marcas\\u002fFabricantes\\u002fBMW\",\"Marcas\\u002fFabricantes\\u002fVOLVO\",\"Marcas\\u002fFabricantes\\u002fVOLVO\",\"Marcas\\u002fFabricantes\\u002fVOLVO\",\"Marcas\\u002fFabricantes\\u002fVOLVO\",\"Marcas\\u002fFabricantes\\u002fVOLVO\",\"Marcas\\u002fFabricantes\\u002fJAGUAR\",\"Marcas\\u002fFabricantes\\u002fJAGUAR\",\"Marcas\\u002fFabricantes\\u002fJAGUAR\",\"Marcas\\u002fFabricantes\\u002fJAGUAR\",\"Marcas\\u002fFabricantes\\u002fJAGUAR\",\"Marcas\\u002fFabricantes\\u002fNISSAN\",\"Marcas\\u002fFabricantes\\u002fSUBARU\",\"Marcas\\u002fFabricantes\\u002fTOYOTA\",\"Marcas\\u002fFabricantes\\u002fSKODA\",\"Marcas\\u002fFabricantes\\u002fBMW\",\"Marcas\\u002fFabricantes\\u002fVAUXHALL\",\"Marcas\\u002fFabricantes\\u002fVAUXHALL\",\"Marcas\\u002fFabricantes\\u002fKIA\",\"Marcas\\u002fFabricantes\\u002fKIA\",\"Marcas\\u002fFabricantes\\u002fSMART\",\"Marcas\\u002fFabricantes\\u002fSMART\",\"Marcas\\u002fFabricantes\\u002fSMART\",\"Marcas\\u002fFabricantes\\u002fBMW\",\"Marcas\\u002fFabricantes\\u002fHYUNDAI\",\"Marcas\\u002fFabricantes\\u002fHYUNDAI\",\"Marcas\\u002fFabricantes\\u002fHYUNDAI\",\"Marcas\\u002fFabricantes\\u002fHYUNDAI\",\"Marcas\\u002fFabricantes\\u002fHYUNDAI\",\"Marcas\\u002fFabricantes\\u002fHYUNDAI\",\"Marcas\\u002fFabricantes\\u002fHYUNDAI\",\"Marcas\\u002fFabricantes\\u002fHYUNDAI\",\"Marcas\\u002fFabricantes\\u002fKIA\",\"Marcas\\u002fFabricantes\",\"Marcas\\u002fFabricantes\",\"Marcas\\u002fFabricantes\",\"Marcas\\u002fFabricantes\",\"Marcas\\u002fFabricantes\",\"Marcas\\u002fFabricantes\",\"Marcas\\u002fFabricantes\",\"Marcas\\u002fFabricantes\",\"Marcas\\u002fFabricantes\",\"Marcas\\u002fFabricantes\",\"Marcas\\u002fFabricantes\",\"Marcas\\u002fFabricantes\",\"Marcas\\u002fFabricantes\",\"Marcas\\u002fFabricantes\",\"Marcas\\u002fFabricantes\",\"Marcas\\u002fFabricantes\",\"Marcas\\u002fFabricantes\",\"Marcas\\u002fFabricantes\",\"Marcas\\u002fFabricantes\",\"Marcas\\u002fFabricantes\",\"Marcas\\u002fFabricantes\",\"Marcas\\u002fFabricantes\",\"Marcas\\u002fFabricantes\",\"Marcas\\u002fFabricantes\",\"Marcas\\u002fFabricantes\",\"Marcas\\u002fFabricantes\",\"Marcas\\u002fFabricantes\",\"Marcas\\u002fFabricantes\",\"Marcas\\u002fFabricantes\",\"Marcas\\u002fFabricantes\",\"Marcas\\u002fFabricantes\",\"Marcas\\u002fFabricantes\",\"Marcas\\u002fFabricantes\",\"Marcas\\u002fFabricantes\",\"Marcas\\u002fFabricantes\",\"Marcas\\u002fFabricantes\",\"Marcas\\u002fFabricantes\",\"Marcas\\u002fFabricantes\",\"Marcas\\u002fFabricantes\",\"Marcas\\u002fFabricantes\",\"Marcas\\u002fFabricantes\",\"Marcas\\u002fFabricantes\",\"Marcas\\u002fFabricantes\",\"Marcas\\u002fFabricantes\",\"\"],\"values\":[3849,4092,291,726,2987,2464,480,2738,539,829,1238,5238,6067,5359,1024,2214,1626,493,2971,1053,10517,2047,680,1205,1109,820,323,939,624,228,638,498,249,498,2499,1100,275,550,1100,550,2031,677,4657,8994,4392,4326,2876,2886,3765,4660,4093,5135,617,2892,3369,466,4171,4171,2550,2683,435,538,1233,629,161,157,1427,3221,934,841,4715,4318,1416,1426,718,723,5962,5998,1540,1426,641,2941,626,672,856,744,249,2332,2957,370,192,2591,833,2366,1804,296,939,969,4381,4469,379,693,216,1672,981,1645,229,1204,1368,520,516,1462,94,734,787,818,918,114,928,530,494,1213,1314,999,319,661,1415,1280,321,450,1470,1585,381,506,1202,805,880,492,1008,1348,2675,1632,3178,1666,4652,16736,15381,277,716,325,325,500,92,330,472,795,1050,821,1488,1153,977,855,663,538,602,770,199,234,269,255,211,203,234,269,1436,1637,1445,1305,254,589,1735,1166,781,1459,1060,155,1475,487,260,427,560,431,717,275,261,588,656,963,4475,1732,2581,2073,1558,623,487,487,601,290,501,822,964,1351,667,483,1157,347,567,1017,969,384,327,513,683,1571,709,1623,2110,1838,329,1180,292,228,115,1398,911,1117,1129,448,578,3235,2587,3261,397,164,329,398,416,2671,343,2445,3303,1438,5988,5392,287,300,959,533,450,949,480,605,1229,174,701,256,477,420,411,199,1361,896,1376,1384,1026,1988,716,716,526,783,4624,4480,417,1510,852,862,1348,442,927,2945,2956,2904,3689,874,420,3815,3064,930,293,44,1375,982,1079,267,2441,2405,1390,446,1469,1904,49,298,292,181,610,256,3283,3053,3590,1223,1212,646,1643,636,476,277,157,632,336,502,345,1677,1060,1112,1141,1291,623,619,300,300,1512,671,2070,925,2637,1009,313,301,736,901,1282,259,243,1087,1127,1252,734,1258,213,329,333,499,4872,483,989,1927,3892,3243,3065,517,1056,222,2103,512,2175,616,604,203,814,799,452,467,618,799,791,1307,1442,1145,779,413,1661,2632,343,343,2275,1519,1626,1580,687,617,617,248,298,298,332,1708,119,576,760,470,307,242,327,385,534,2046,1447,1447,258,1904,258,1270,970,813,685,384,715,907,123,1596,129,1137,1261,452,1425,1951,1595,947,1152,2141,1324,780,394,382,62,459,1114,110,1032,738,476,422,395,1067,1526,1758,4098,69185,4521,84028,9906,8312,1692,5023,3221,5911,47486,4637,6485,4922,6536,18984,660,4811,7303,222,1224,4922,62656,22144,1557,4820,7120,10611,20686,10007,2703,15061,25819,1556,5305,3523,2955,11265,25871,41612,13015,14187,609846],\"type\":\"treemap\"}],                        {\"template\":{\"data\":{\"histogram2dcontour\":[{\"type\":\"histogram2dcontour\",\"colorbar\":{\"outlinewidth\":0,\"ticks\":\"\"},\"colorscale\":[[0.0,\"#0d0887\"],[0.1111111111111111,\"#46039f\"],[0.2222222222222222,\"#7201a8\"],[0.3333333333333333,\"#9c179e\"],[0.4444444444444444,\"#bd3786\"],[0.5555555555555556,\"#d8576b\"],[0.6666666666666666,\"#ed7953\"],[0.7777777777777778,\"#fb9f3a\"],[0.8888888888888888,\"#fdca26\"],[1.0,\"#f0f921\"]]}],\"choropleth\":[{\"type\":\"choropleth\",\"colorbar\":{\"outlinewidth\":0,\"ticks\":\"\"}}],\"histogram2d\":[{\"type\":\"histogram2d\",\"colorbar\":{\"outlinewidth\":0,\"ticks\":\"\"},\"colorscale\":[[0.0,\"#0d0887\"],[0.1111111111111111,\"#46039f\"],[0.2222222222222222,\"#7201a8\"],[0.3333333333333333,\"#9c179e\"],[0.4444444444444444,\"#bd3786\"],[0.5555555555555556,\"#d8576b\"],[0.6666666666666666,\"#ed7953\"],[0.7777777777777778,\"#fb9f3a\"],[0.8888888888888888,\"#fdca26\"],[1.0,\"#f0f921\"]]}],\"heatmap\":[{\"type\":\"heatmap\",\"colorbar\":{\"outlinewidth\":0,\"ticks\":\"\"},\"colorscale\":[[0.0,\"#0d0887\"],[0.1111111111111111,\"#46039f\"],[0.2222222222222222,\"#7201a8\"],[0.3333333333333333,\"#9c179e\"],[0.4444444444444444,\"#bd3786\"],[0.5555555555555556,\"#d8576b\"],[0.6666666666666666,\"#ed7953\"],[0.7777777777777778,\"#fb9f3a\"],[0.8888888888888888,\"#fdca26\"],[1.0,\"#f0f921\"]]}],\"heatmapgl\":[{\"type\":\"heatmapgl\",\"colorbar\":{\"outlinewidth\":0,\"ticks\":\"\"},\"colorscale\":[[0.0,\"#0d0887\"],[0.1111111111111111,\"#46039f\"],[0.2222222222222222,\"#7201a8\"],[0.3333333333333333,\"#9c179e\"],[0.4444444444444444,\"#bd3786\"],[0.5555555555555556,\"#d8576b\"],[0.6666666666666666,\"#ed7953\"],[0.7777777777777778,\"#fb9f3a\"],[0.8888888888888888,\"#fdca26\"],[1.0,\"#f0f921\"]]}],\"contourcarpet\":[{\"type\":\"contourcarpet\",\"colorbar\":{\"outlinewidth\":0,\"ticks\":\"\"}}],\"contour\":[{\"type\":\"contour\",\"colorbar\":{\"outlinewidth\":0,\"ticks\":\"\"},\"colorscale\":[[0.0,\"#0d0887\"],[0.1111111111111111,\"#46039f\"],[0.2222222222222222,\"#7201a8\"],[0.3333333333333333,\"#9c179e\"],[0.4444444444444444,\"#bd3786\"],[0.5555555555555556,\"#d8576b\"],[0.6666666666666666,\"#ed7953\"],[0.7777777777777778,\"#fb9f3a\"],[0.8888888888888888,\"#fdca26\"],[1.0,\"#f0f921\"]]}],\"surface\":[{\"type\":\"surface\",\"colorbar\":{\"outlinewidth\":0,\"ticks\":\"\"},\"colorscale\":[[0.0,\"#0d0887\"],[0.1111111111111111,\"#46039f\"],[0.2222222222222222,\"#7201a8\"],[0.3333333333333333,\"#9c179e\"],[0.4444444444444444,\"#bd3786\"],[0.5555555555555556,\"#d8576b\"],[0.6666666666666666,\"#ed7953\"],[0.7777777777777778,\"#fb9f3a\"],[0.8888888888888888,\"#fdca26\"],[1.0,\"#f0f921\"]]}],\"mesh3d\":[{\"type\":\"mesh3d\",\"colorbar\":{\"outlinewidth\":0,\"ticks\":\"\"}}],\"scatter\":[{\"fillpattern\":{\"fillmode\":\"overlay\",\"size\":10,\"solidity\":0.2},\"type\":\"scatter\"}],\"parcoords\":[{\"type\":\"parcoords\",\"line\":{\"colorbar\":{\"outlinewidth\":0,\"ticks\":\"\"}}}],\"scatterpolargl\":[{\"type\":\"scatterpolargl\",\"marker\":{\"colorbar\":{\"outlinewidth\":0,\"ticks\":\"\"}}}],\"bar\":[{\"error_x\":{\"color\":\"#2a3f5f\"},\"error_y\":{\"color\":\"#2a3f5f\"},\"marker\":{\"line\":{\"color\":\"#E5ECF6\",\"width\":0.5},\"pattern\":{\"fillmode\":\"overlay\",\"size\":10,\"solidity\":0.2}},\"type\":\"bar\"}],\"scattergeo\":[{\"type\":\"scattergeo\",\"marker\":{\"colorbar\":{\"outlinewidth\":0,\"ticks\":\"\"}}}],\"scatterpolar\":[{\"type\":\"scatterpolar\",\"marker\":{\"colorbar\":{\"outlinewidth\":0,\"ticks\":\"\"}}}],\"histogram\":[{\"marker\":{\"pattern\":{\"fillmode\":\"overlay\",\"size\":10,\"solidity\":0.2}},\"type\":\"histogram\"}],\"scattergl\":[{\"type\":\"scattergl\",\"marker\":{\"colorbar\":{\"outlinewidth\":0,\"ticks\":\"\"}}}],\"scatter3d\":[{\"type\":\"scatter3d\",\"line\":{\"colorbar\":{\"outlinewidth\":0,\"ticks\":\"\"}},\"marker\":{\"colorbar\":{\"outlinewidth\":0,\"ticks\":\"\"}}}],\"scattermapbox\":[{\"type\":\"scattermapbox\",\"marker\":{\"colorbar\":{\"outlinewidth\":0,\"ticks\":\"\"}}}],\"scatterternary\":[{\"type\":\"scatterternary\",\"marker\":{\"colorbar\":{\"outlinewidth\":0,\"ticks\":\"\"}}}],\"scattercarpet\":[{\"type\":\"scattercarpet\",\"marker\":{\"colorbar\":{\"outlinewidth\":0,\"ticks\":\"\"}}}],\"carpet\":[{\"aaxis\":{\"endlinecolor\":\"#2a3f5f\",\"gridcolor\":\"white\",\"linecolor\":\"white\",\"minorgridcolor\":\"white\",\"startlinecolor\":\"#2a3f5f\"},\"baxis\":{\"endlinecolor\":\"#2a3f5f\",\"gridcolor\":\"white\",\"linecolor\":\"white\",\"minorgridcolor\":\"white\",\"startlinecolor\":\"#2a3f5f\"},\"type\":\"carpet\"}],\"table\":[{\"cells\":{\"fill\":{\"color\":\"#EBF0F8\"},\"line\":{\"color\":\"white\"}},\"header\":{\"fill\":{\"color\":\"#C8D4E3\"},\"line\":{\"color\":\"white\"}},\"type\":\"table\"}],\"barpolar\":[{\"marker\":{\"line\":{\"color\":\"#E5ECF6\",\"width\":0.5},\"pattern\":{\"fillmode\":\"overlay\",\"size\":10,\"solidity\":0.2}},\"type\":\"barpolar\"}],\"pie\":[{\"automargin\":true,\"type\":\"pie\"}]},\"layout\":{\"autotypenumbers\":\"strict\",\"colorway\":[\"#636efa\",\"#EF553B\",\"#00cc96\",\"#ab63fa\",\"#FFA15A\",\"#19d3f3\",\"#FF6692\",\"#B6E880\",\"#FF97FF\",\"#FECB52\"],\"font\":{\"color\":\"#2a3f5f\"},\"hovermode\":\"closest\",\"hoverlabel\":{\"align\":\"left\"},\"paper_bgcolor\":\"white\",\"plot_bgcolor\":\"#E5ECF6\",\"polar\":{\"bgcolor\":\"#E5ECF6\",\"angularaxis\":{\"gridcolor\":\"white\",\"linecolor\":\"white\",\"ticks\":\"\"},\"radialaxis\":{\"gridcolor\":\"white\",\"linecolor\":\"white\",\"ticks\":\"\"}},\"ternary\":{\"bgcolor\":\"#E5ECF6\",\"aaxis\":{\"gridcolor\":\"white\",\"linecolor\":\"white\",\"ticks\":\"\"},\"baxis\":{\"gridcolor\":\"white\",\"linecolor\":\"white\",\"ticks\":\"\"},\"caxis\":{\"gridcolor\":\"white\",\"linecolor\":\"white\",\"ticks\":\"\"}},\"coloraxis\":{\"colorbar\":{\"outlinewidth\":0,\"ticks\":\"\"}},\"colorscale\":{\"sequential\":[[0.0,\"#0d0887\"],[0.1111111111111111,\"#46039f\"],[0.2222222222222222,\"#7201a8\"],[0.3333333333333333,\"#9c179e\"],[0.4444444444444444,\"#bd3786\"],[0.5555555555555556,\"#d8576b\"],[0.6666666666666666,\"#ed7953\"],[0.7777777777777778,\"#fb9f3a\"],[0.8888888888888888,\"#fdca26\"],[1.0,\"#f0f921\"]],\"sequentialminus\":[[0.0,\"#0d0887\"],[0.1111111111111111,\"#46039f\"],[0.2222222222222222,\"#7201a8\"],[0.3333333333333333,\"#9c179e\"],[0.4444444444444444,\"#bd3786\"],[0.5555555555555556,\"#d8576b\"],[0.6666666666666666,\"#ed7953\"],[0.7777777777777778,\"#fb9f3a\"],[0.8888888888888888,\"#fdca26\"],[1.0,\"#f0f921\"]],\"diverging\":[[0,\"#8e0152\"],[0.1,\"#c51b7d\"],[0.2,\"#de77ae\"],[0.3,\"#f1b6da\"],[0.4,\"#fde0ef\"],[0.5,\"#f7f7f7\"],[0.6,\"#e6f5d0\"],[0.7,\"#b8e186\"],[0.8,\"#7fbc41\"],[0.9,\"#4d9221\"],[1,\"#276419\"]]},\"xaxis\":{\"gridcolor\":\"white\",\"linecolor\":\"white\",\"ticks\":\"\",\"title\":{\"standoff\":15},\"zerolinecolor\":\"white\",\"automargin\":true,\"zerolinewidth\":2},\"yaxis\":{\"gridcolor\":\"white\",\"linecolor\":\"white\",\"ticks\":\"\",\"title\":{\"standoff\":15},\"zerolinecolor\":\"white\",\"automargin\":true,\"zerolinewidth\":2},\"scene\":{\"xaxis\":{\"backgroundcolor\":\"#E5ECF6\",\"gridcolor\":\"white\",\"linecolor\":\"white\",\"showbackground\":true,\"ticks\":\"\",\"zerolinecolor\":\"white\",\"gridwidth\":2},\"yaxis\":{\"backgroundcolor\":\"#E5ECF6\",\"gridcolor\":\"white\",\"linecolor\":\"white\",\"showbackground\":true,\"ticks\":\"\",\"zerolinecolor\":\"white\",\"gridwidth\":2},\"zaxis\":{\"backgroundcolor\":\"#E5ECF6\",\"gridcolor\":\"white\",\"linecolor\":\"white\",\"showbackground\":true,\"ticks\":\"\",\"zerolinecolor\":\"white\",\"gridwidth\":2}},\"shapedefaults\":{\"line\":{\"color\":\"#2a3f5f\"}},\"annotationdefaults\":{\"arrowcolor\":\"#2a3f5f\",\"arrowhead\":0,\"arrowwidth\":1},\"geo\":{\"bgcolor\":\"white\",\"landcolor\":\"#E5ECF6\",\"subunitcolor\":\"white\",\"showland\":true,\"showlakes\":true,\"lakecolor\":\"white\"},\"title\":{\"x\":0.05},\"mapbox\":{\"style\":\"light\"}}},\"coloraxis\":{\"colorbar\":{\"title\":{\"text\":\"CO2 - G\\u002fKM\"}},\"colorscale\":[[0.0,\"#0d0887\"],[0.1111111111111111,\"#46039f\"],[0.2222222222222222,\"#7201a8\"],[0.3333333333333333,\"#9c179e\"],[0.4444444444444444,\"#bd3786\"],[0.5555555555555556,\"#d8576b\"],[0.6666666666666666,\"#ed7953\"],[0.7777777777777778,\"#fb9f3a\"],[0.8888888888888888,\"#fdca26\"],[1.0,\"#f0f921\"]]},\"legend\":{\"tracegroupgap\":0},\"title\":{\"text\":\"CONTAMINACI\\u00d3N MEDIOAMBIENTAL - EMISIONES DE CO2 POR MARCA Y MODELO (G\\u002fKM)\"},\"height\":550,\"width\":950},                        {\"responsive\": true}                    ).then(function(){\n",
              "                            \n",
              "var gd = document.getElementById('a9d6c7ec-3366-468a-b6c7-d9de6e847444');\n",
              "var x = new MutationObserver(function (mutations, observer) {{\n",
              "        var display = window.getComputedStyle(gd).display;\n",
              "        if (!display || display === 'none') {{\n",
              "            console.log([gd, 'removed!']);\n",
              "            Plotly.purge(gd);\n",
              "            observer.disconnect();\n",
              "        }}\n",
              "}});\n",
              "\n",
              "// Listen for the removal of the full notebook cells\n",
              "var notebookContainer = gd.closest('#notebook-container');\n",
              "if (notebookContainer) {{\n",
              "    x.observe(notebookContainer, {childList: true});\n",
              "}}\n",
              "\n",
              "// Listen for the clearing of the current output cell\n",
              "var outputEl = gd.closest('.output');\n",
              "if (outputEl) {{\n",
              "    x.observe(outputEl, {childList: true});\n",
              "}}\n",
              "\n",
              "                        })                };                            </script>        </div>\n",
              "</body>\n",
              "</html>"
            ]
          },
          "metadata": {}
        }
      ],
      "source": [
        "data = datosCoches\n",
        "fig = px.treemap(data,\n",
        "                 title=(\"CONTAMINACIÓN MEDIOAMBIENTAL - EMISIONES DE CO2 POR MARCA Y MODELO (G/KM)\"),\n",
        "                 height=550,\n",
        "                 width=950,\n",
        "                 path=[px.Constant('Marcas/Fabricantes'),\n",
        "                       'Manufacturer',\n",
        "                       'Model'],\n",
        "                 values='CO2gkm',\n",
        "                 color='CO2gkm',\n",
        "                 labels={'CO2gkm':'CO2 - G/KM'})\n",
        "fig.show()"
      ]
    },
    {
      "cell_type": "code",
      "execution_count": 8,
      "id": "28b66ff0",
      "metadata": {
        "colab": {
          "base_uri": "https://localhost:8080/",
          "height": 817
        },
        "id": "28b66ff0",
        "outputId": "d5236fa1-a285-49ce-fe0a-739c76f5b7d6"
      },
      "outputs": [
        {
          "output_type": "display_data",
          "data": {
            "text/html": [
              "<html>\n",
              "<head><meta charset=\"utf-8\" /></head>\n",
              "<body>\n",
              "    <div>            <script src=\"https://cdnjs.cloudflare.com/ajax/libs/mathjax/2.7.5/MathJax.js?config=TeX-AMS-MML_SVG\"></script><script type=\"text/javascript\">if (window.MathJax && window.MathJax.Hub && window.MathJax.Hub.Config) {window.MathJax.Hub.Config({SVG: {font: \"STIX-Web\"}});}</script>                <script type=\"text/javascript\">window.PlotlyConfig = {MathJaxConfig: 'local'};</script>\n",
              "        <script charset=\"utf-8\" src=\"https://cdn.plot.ly/plotly-2.24.1.min.js\"></script>                <div id=\"02ad5768-bff6-4c1f-9e54-54bc0c5a3ddf\" class=\"plotly-graph-div\" style=\"height:800px; width:800px;\"></div>            <script type=\"text/javascript\">                                    window.PLOTLYENV=window.PLOTLYENV || {};                                    if (document.getElementById(\"02ad5768-bff6-4c1f-9e54-54bc0c5a3ddf\")) {                    Plotly.newPlot(                        \"02ad5768-bff6-4c1f-9e54-54bc0c5a3ddf\",                        [{\"branchvalues\":\"total\",\"customdata\":[[70.76647501105705],[70.6648603584827],[70.68867924528301],[69.0],[69.72406181015452],[70.54924874791318],[74.01351351351352],[69.8515625],[70.01428571428572],[69.64490931944694],[70.43974905303031],[70.8532757944292],[71.42131837307153],[71.32202809181227],[70.25078384798098],[70.16808799565453],[69.90762075134168],[70.5],[71.88857938718662],[70.85858585858585],[70.31820803691598],[69.25270758122744],[72.79244357212954],[72.14764841942946],[72.94644387317909],[71.20718586912886],[72.0],[71.60670391061453],[69.34138594802694],[72.15086625086626],[69.34138594802694],[74.0],[74.0],[74.0],[72.29644268774703],[73.50340136054422],[74.0],[73.50340136054422],[73.50340136054422],[74.0],[68.6],[71.25263157894737],[74.25701459034792],[74.51554828150573],[72.52463539613717],[72.28565936178393],[71.18702702702703],[71.18702702702703],[70.50614947965941],[70.54763636363636],[70.79100642398286],[70.69379221614668],[71.30175438596491],[71.84897360703812],[71.8861985472155],[71.38317757009345],[71.1705716963449],[71.16507936507936],[71.78222996515679],[70.7941473259334],[74.0],[70.33807829181495],[70.23646723646723],[70.64872521246458],[71.4],[71.4],[70.62889518413597],[73.60597826086956],[68.28205128205128],[68.46137787056368],[70.2],[70.01509134233518],[71.62569832402235],[71.62569832402235],[68.35121951219512],[68.35121951219512],[70.54747225647348],[70.54747225647348],[71.56925031766201],[71.62569832402235],[70.80790960451978],[70.40681818181818],[71.0112676056338],[70.33649289099526],[72.50804597701149],[72.81868131868131],[69.80057306590258],[71.0895713371721],[71.53373860182371],[71.2],[70.53191489361703],[72.48933500627352],[70.4005076142132],[70.89498432601881],[70.8649193548387],[70.0],[69.48001800180019],[74.40322580645162],[71.51555209953344],[70.67247639796659],[70.27402135231317],[71.32224003205772],[69.05032585083273],[70.4845839985808],[71.17276817095458],[71.03978777349984],[70.90225669957685],[72.89939024390245],[73.01095890410959],[73.00913242009132],[73.00913242009132],[71.03380281690141],[67.7],[67.61329266038084],[70.19990498812352],[70.78504826936663],[72.47928994082841],[75.0],[72.32806324110672],[72.32179930795847],[71.66976744186047],[70.72121212121212],[70.8714487300094],[71.0093896713615],[70.50354609929079],[71.00704225352112],[71.52097902097903],[73.2103825136612],[72.50344827586207],[72.00925925925925],[73.60582524271845],[74.50335570469798],[69.5304207119741],[70.42045454545455],[70.68553459119497],[71.0093896713615],[72.60086088154272],[72.48068432671081],[73.0],[71.05633802816901],[71.02816901408451],[70.71926006528835],[70.61280167890871],[70.87701612903226],[72.39078341013825],[71.33582178335614],[72.39224023385597],[73.01369863013699],[72.1652033271719],[72.0],[72.0],[70.83344632768362],[69.5],[70.0],[72.01388888888889],[72.40331491712708],[70.10244648318043],[72.9847155586018],[71.30294530154278],[73.0078277886497],[72.69266055045871],[71.69461077844312],[70.45614882135757],[71.02112676056338],[69.53237410071942],[72.01666666666667],[70.0],[75.0],[71.0],[71.0],[72.0],[72.0],[75.0],[74.0],[71.22266800401204],[71.38528896672504],[70.20306950230213],[70.45798816568048],[70.0],[70.0],[70.71594240164568],[73.53061224489795],[73.34545454545454],[72.28553459119497],[74.0],[74.0],[73.34545454545454],[74.0],[69.0],[70.1],[71.0],[70.03336506425511],[72.97639602603633],[69.7],[74.0],[69.19195180722892],[70.0],[72.27595155709342],[71.35167206040992],[71.36036036036036],[70.22279792746114],[70.7927786499215],[71.16430868167204],[71.15133539499578],[70.25978647686833],[70.25978647686833],[71.60335195530726],[71.9],[71.0],[74.0],[71.33956386292834],[71.42240373395566],[71.5034965034965],[71.5104895104895],[72.34562211981567],[72.0],[72.0],[72.17321016166282],[72.17321016166282],[72.50344827586207],[73.0],[72.0],[72.0],[73.41578947368421],[73.70488466757124],[73.38181818181818],[73.79322033898305],[71.25263157894737],[72.75773195876289],[71.01564945226917],[71.01408450704226],[67.0],[72.0],[71.75250929368032],[71.05439831104854],[69.3963963963964],[69.3963963963964],[71.30014025245441],[70.0],[71.62700465597517],[71.604125083167],[71.94850669412976],[71.02816901408451],[66.0],[73.30991359708959],[74.0],[74.0],[71.09266862170088],[70.33649289099526],[70.95384615384616],[71.08879263670818],[70.55082742316785],[72.76907216494845],[72.62968630451415],[73.01369863013699],[68.16060161408657],[71.81894150417827],[68.96999419616947],[69.02898550724638],[69.03260869565217],[69.3005772005772],[69.34055379290453],[72.69962453066333],[75.0],[71.60893854748603],[72.01388888888889],[73.50170068027211],[70.00714285714285],[70.27402135231317],[69.50359712230215],[72.40331491712708],[72.43984220907298],[71.23033707865169],[71.23033707865169],[72.0],[73.7728813559322],[72.59655489205328],[72.56245404411763],[71.0],[68.30151293313814],[69.62079395085067],[69.53747161241483],[72.84553775743707],[71.26900584795321],[71.06994545134613],[71.08187895847995],[70.8619215824797],[70.02606363961387],[72.0745183127929],[70.69272237196766],[70.6215297450425],[71.15298087739032],[70.6701143168209],[71.0],[70.00714285714285],[72.75504941985389],[72.48832271762208],[70.2088319088319],[73.0],[73.0],[73.1484375],[71.50907960199004],[69.9497615262321],[71.05633802816901],[70.00064977257959],[70.00064977257959],[72.0],[73.25938566552901],[73.08631578947369],[70.90595611285266],[69.0],[68.0],[67.0],[69.0],[69.20809248554913],[71.75087108013938],[70.18003565062389],[70.38589022440641],[72.32075471698113],[68.41585445094218],[69.72661870503597],[69.07625769091567],[70.01318681318682],[68.22385141739981],[71.36040644709182],[74.0],[69.0],[69.81375358166189],[70.0],[70.0],[67.0],[72.87650085763293],[68.80274314214464],[71.4201680672269],[71.51398601398601],[72.87185354691076],[72.6697247706422],[72.50344827586207],[71.0],[71.0],[71.52527088430618],[72.0],[71.532744665195],[70.0],[71.15384615384616],[71.58741258741259],[68.0],[69.0],[71.2247191011236],[71.3922942206655],[71.1227621483376],[73.50340136054422],[70.0],[72.81318681318682],[73.60326086956522],[71.35202492211837],[72.64187327823691],[70.80790960451978],[74.3516476126429],[71.50083916083916],[73.50340136054422],[71.56072676450036],[72.60819366852887],[71.01408450704226],[73.01369863013699],[72.36031589338599],[72.41687979539643],[72.46728016359918],[72.44662772172066],[70.78091872791519],[73.30019493177387],[73.0],[71.18891178123246],[72.8021978021978],[70.76119402985074],[70.4090909090909],[70.4090909090909],[70.0],[71.0],[71.0],[72.05835261453032],[71.66976744186047],[71.5034965034965],[71.40896358543418],[71.20786516853933],[71.25964912280702],[71.34267912772586],[72.88679245283019],[72.27710134901417],[71.28996843212909],[70.27402135231317],[73.50340136054422],[74.0],[74.0],[70.91107974594213],[70.71688574317493],[71.45564892623716],[71.19277108433735],[71.8631090487239],[74.50335570469798],[74.50335570469798],[70.0],[73.0],[73.0],[72.5],[71.1708108108108],[74.0],[74.25252525252525],[74.0],[71.0],[71.0],[72.8],[70.0],[71.93938832252087],[68.0],[70.05714285714286],[70.82203389830508],[70.82203389830508],[72.0],[70.29300118623962],[72.0],[71.448],[71.59081836327346],[71.8491879350348],[73.24590163934427],[69.72727272727273],[70.64872521246458],[72.51545741324921],[75.0],[72.42541436464089],[75.0],[71.81860465116279],[68.44961038961038],[71.01051643192488],[72.54595588235294],[73.40871934604904],[73.23368740515933],[70.5748987854251],[71.26666666666667],[72.90613718411552],[72.92914285714286],[72.53103448275863],[71.78048780487805],[72.29411764705883],[70.05714285714286],[71.00704225352112],[71.30575035063113],[71.0],[72.64199655765921],[72.35023041474655],[72.77319587628865],[74.0],[71.35514018691589],[72.89939024390245],[72.91895261845387],[72.50780449349625],[73.13861125723304],[70.97778204460049],[71.5],[70.85620759087047],[73.02287671232877],[70.7419563679887],[72.94208463949845],[71.0466817750283],[73.60597826086956],[71.66074542656865],[70.45345433714708],[71.16224899598393],[72.26723163841808],[69.77576720396776],[72.45923233498111],[72.4691727957868],[71.55171208944793],[72.02350427350427],[69.93601229921008],[73.0],[68.71130793496725],[69.49159978405613],[72.20659843620876],[71.81151439299124],[71.05889884763124],[73.72494348153731],[69.97668365833265],[70.13765546860364],[74.03718566078116],[72.01291453309001],[71.01408450704226],[71.53127330847097],[72.03251121076234],[72.28546712802768],[71.37984206504206],[70.51579829765284],[70.79339456022608],[71.39087340819549],[71.13121245221191],[70.96151772755546],[71.54245283018868],[71.25140449438203]],\"domain\":{\"x\":[0.0,1.0],\"y\":[0.0,1.0]},\"hovertemplate\":\"labels=%{label}\\u003cbr\\u003eNoiseLeveldBA_sum=%{value}\\u003cbr\\u003eparent=%{parent}\\u003cbr\\u003eid=%{id}\\u003cbr\\u003eDECIBELIOS=%{color}\\u003cextra\\u003e\\u003c\\u002fextra\\u003e\",\"ids\":[\"BMW\\u002f1 Series 3-door F21, From September 2012\",\"BMW\\u002f1 Series 5-door F20, From September 2011\",\"PEUGEOT\\u002f108\",\"BMW\\u002f2 Series Active Tourer F45, From March 2016\",\"BMW\\u002f2 Series Active Tourer F45, From September 2014\",\"BMW\\u002f2 Series Convertible F23, From February 2015\",\"BMW\\u002f2 Series Convertible F23, From July 2015\",\"BMW\\u002f2 Series Gran Tourer F46, From June 2015\",\"BMW\\u002f2 Series Gran Tourer F46, From March 2016\",\"PEUGEOT\\u002f2008\",\"PEUGEOT\\u002f208\",\"BMW\\u002f3 Series Gran Turismo F34, From June 2013\",\"BMW\\u002f3 Series Saloon F30, From February 2012\",\"BMW\\u002f3 Series Touring F31, from September 2012\",\"PEUGEOT\\u002f3008\",\"PEUGEOT\\u002f308\",\"PEUGEOT\\u002f308 SW\",\"NISSAN\\u002f370Z Euro6, 2016\",\"BMW\\u002f4 Series Convertible F33, From March 2014\",\"BMW\\u002f4 Series Convertible F33, From March 2016\",\"BMW\\u002f5 Series F10\\u002fF11, From March 2010\",\"BMW\\u002f5 Series Gran Turismo F07, From October 2009\",\"FIAT\\u002f500 & 500C, September 2015 onwards\",\"FIAT\\u002f500 X, 2015 onwards\",\"ABARTH\\u002f500, 2012 onwards\",\"PEUGEOT\\u002f5008\",\"FIAT\\u002f500L MPW, August 2013 onwards\",\"FIAT\\u002f500L, from 2013 onwards\",\"PEUGEOT\\u002f508\",\"PEUGEOT\\u002f508 RXH\",\"PEUGEOT\\u002f508 SW\",\"McLaren\\u002f540C\",\"McLaren\\u002f570GT\",\"McLaren\\u002f570S\",\"BMW\\u002f6 Series F12\\u002fF13, March 2011\",\"McLaren\\u002f625C, MY2015\",\"McLaren\\u002f650S Can-Am\",\"McLaren\\u002f650S Le Mans, MY2015\",\"McLaren\\u002f650S, MY2015\",\"McLaren\\u002f675LT, MY2016\",\"BMW\\u002f7 Series G11\\u002fG12, From October 2015\",\"PORSCHE\\u002f718\",\"PORSCHE\\u002f911 (991 II)\",\"PORSCHE\\u002f911 (991)\",\"MERCEDES-BENZ\\u002fA-Class, Model Year 2016\",\"MERCEDES-BENZ\\u002fA-Class, Model Year 2017\",\"AUDI\\u002fA1\",\"AUDI\\u002fA1 Sportback\",\"AUDI\\u002fA3 Cabriolet\",\"AUDI\\u002fA3 Hatchback\",\"AUDI\\u002fA3 Saloon\",\"AUDI\\u002fA3 Sportback\",\"AUDI\\u002fA4 Allroad\",\"AUDI\\u002fA5 Cabriolet\",\"AUDI\\u002fA5 Sportback\",\"AUDI\\u002fA6 Allroad\",\"AUDI\\u002fA6 Avant\",\"AUDI\\u002fA6 Saloon\",\"AUDI\\u002fA7 Sportback\",\"AUDI\\u002fA8\",\"MERCEDES-BENZ\\u002fAMG GT, Model Year 2016\",\"MITSUBISHI\\u002fASX\",\"VAUXHALL\\u002fAdam 3 Door Hatchback, Model Year 2015\",\"VAUXHALL\\u002fAdam 3 Door Hatchback, Model Year 2016\",\"ALFA ROMEO\\u002fAlfa 4C Spider, September 2015 on\",\"ALFA ROMEO\\u002fAlfa 4C, April 2014 on\",\"SEAT\\u002fAlhambra\",\"FERRARI\\u002fAll Models\",\"FORD\\u002fAll New C-Max, Model Year Post 2016\\u00bc\",\"FORD\\u002fAll New C-Max, Model Year Pre 2016\\u00bc\",\"FORD\\u002fAll New Focus, Model Year Post 2016\\u00bd\",\"FORD\\u002fAll New Focus, Model Year Pre 2016\\u00bd\",\"FORD\\u002fAll New Galaxy, Model Year Post 2016\\u00be\",\"FORD\\u002fAll New Galaxy, Model Year Pre 2016\\u00be\",\"FORD\\u002fAll New Grand C-Max, Model Year Post 2016\\u00bc\",\"FORD\\u002fAll New Grand C-Max, Model Year Pre 2016\\u00bc\",\"FORD\\u002fAll New Mondeo, Model Year Post 2016\\u00be\",\"FORD\\u002fAll New Mondeo, Model Year Pre 2016\\u00be\",\"FORD\\u002fAll New S-MAX, Model Year Post 2016\\u00be\",\"FORD\\u002fAll New S-MAX, Model Year Pre 2016\\u00be\",\"VAUXHALL\\u002fAstra 5 Door Hatchback, Model Year 2015\",\"VAUXHALL\\u002fAstra 5 Door Hatchback, Model Year 2016\",\"VAUXHALL\\u002fAstra 5 Door Sports Tourer, Model Year 2015\",\"VAUXHALL\\u002fAstra 5 Door Sports Tourer, Model Year 2016\",\"VAUXHALL\\u002fAstra GTC, Model Year 2015\",\"VAUXHALL\\u002fAstra GTC, Model Year 2016\",\"SEAT\\u002fAteca\",\"TOYOTA\\u002fAuris, MY2015\",\"TOYOTA\\u002fAvensis, MY2015\",\"LAMBORGHINI\\u002fAventador\",\"TOYOTA\\u002fAygo, MY2015\",\"MERCEDES-BENZ\\u002fB-Class, Model Year 2016\",\"FORD\\u002fB-MAX, Model Year Post 2015\\u00be\",\"VOLKSWAGEN\\u002fBeetle\",\"VOLKSWAGEN\\u002fBeetle Cabriolet\",\"BENTLEY MOTORS\\u002fBentayga, MY2017\",\"CITROEN\\u002fBerlingo Multispace\",\"PORSCHE\\u002fBoxster\",\"MERCEDES-BENZ\\u002fC-Class Estate, Model Year 2016\",\"MERCEDES-BENZ\\u002fC-Class Saloon, Model Year 2016\",\"CITROEN\\u002fC1\",\"CITROEN\\u002fC3\",\"CITROEN\\u002fC3 Picasso\",\"CITROEN\\u002fC4\",\"CITROEN\\u002fC4 Cactus\",\"CITROEN\\u002fC4 Picasso\",\"CITROEN\\u002fC5 Tourer\",\"MERCEDES-BENZ\\u002fCLA Shooting Brake, Model Year 2016\",\"MERCEDES-BENZ\\u002fCLA Shooting Brake, Model Year 2017\",\"MERCEDES-BENZ\\u002fCLS Shooting Brake, Model Year 2016\",\"MERCEDES-BENZ\\u002fCLS Shooting Brake, Model Year 2017\",\"HONDA\\u002fCR-V, Model Year 2015\",\"LEXUS\\u002fCT, MY2015\",\"LEXUS\\u002fCT200h, MY2016\",\"MAZDA\\u002fCX-3\",\"MAZDA\\u002fCX-5\",\"VOLKSWAGEN C.V.\\u002fCaddy Life\",\"VOLKSWAGEN C.V.\\u002fCaddy Life BlueMotion\",\"VOLKSWAGEN C.V.\\u002fCaddy Maxi Life\",\"VOLKSWAGEN C.V.\\u002fCaddy Maxi Window Van\",\"VOLKSWAGEN C.V.\\u002fCalifornia Beach\",\"VOLKSWAGEN C.V.\\u002fCalifornia Ocean\",\"RENAULT\\u002fCaptur Euro6, 2015\",\"VOLKSWAGEN C.V.\\u002fCaravelle Executive Short Wheelbase\",\"VOLKSWAGEN C.V.\\u002fCaravelle Generation Six\",\"VOLKSWAGEN C.V.\\u002fCaravelle SE Long Wheelbase\",\"VOLKSWAGEN C.V.\\u002fCaravelle SE Short Wheelbase\",\"KIA\\u002fCarens\",\"VAUXHALL\\u002fCascada, Model Year 2015\",\"VAUXHALL\\u002fCascada, Model Year 2016\",\"PORSCHE\\u002fCayenne\",\"PORSCHE\\u002fCayman\",\"SUZUKI\\u002fCelerio\",\"SKODA\\u002fCitigo\",\"HONDA\\u002fCivic Hatchback, Model Year 2015\",\"HONDA\\u002fCivic Tourer, Model Year 2015\",\"RENAULT\\u002fClio Euro6, 2015\",\"RENAULT\\u002fClio Sport Tourer Euro6, 2015\",\"BENTLEY MOTORS\\u002fContinental\",\"BENTLEY MOTORS\\u002fContinental, MY2016\",\"VAUXHALL\\u002fCorsa 3 Door Hatchback, Model Year 2015\",\"VAUXHALL\\u002fCorsa 3 Door Hatchback, Model Year 2016\",\"VAUXHALL\\u002fCorsa 5 Door Hatchback, Model Year 2015\",\"VAUXHALL\\u002fCorsa 5 Door Hatchback, Model Year 2016\",\"AUDI\\u002fCoupe\",\"BMW\\u002fCoupe\",\"MERCEDES-BENZ\\u002fCoupe\",\"MINI\\u002fCoupe\",\"RENAULT\\u002fCoupe\",\"ASTON MARTIN LAGONDA\\u002fDB9 GT, MY2016\",\"ASTON MARTIN LAGONDA\\u002fDB9 MY2015, from May 2014\",\"DS\\u002fDS3\",\"DS\\u002fDS3 Cabriolet\",\"Rolls Royce\\u002fDawn\",\"LAND ROVER\\u002fDiscovery 16MY\",\"LAND ROVER\\u002fDiscovery Sport 16MY\",\"FIAT\\u002fDoblo, 2015 onwards\",\"DACIA\\u002fDuster Euro6, 2015\",\"MERCEDES-BENZ\\u002fE-Class Cabriolet, Model Year 2016\",\"MERCEDES-BENZ\\u002fE-Class Estate, Model Year 2016\",\"MERCEDES-BENZ\\u002fE-Class Saloon, Model Year 2016\",\"MERCEDES-BENZ\\u002fE-Class Saloon, Model Year 2017\",\"FORD\\u002fEcoSport, Model Year Post 2016\\u00be\",\"FORD\\u002fEcoSport, Model Year Pre 2016\\u00be\",\"FORD\\u002fEdge, Model Year Post 2016\",\"JAGUAR\\u002fF-PACE, 17MY\",\"JAGUAR\\u002fF-TYPE Automatic RWD, 16MY\",\"JAGUAR\\u002fF-TYPE Manual RWD, 16MY\",\"JAGUAR\\u002fF-TYPE R Automatic AWD, 16MY\",\"JAGUAR\\u002fF-TYPE R Automatic RWD, 16MY\",\"JAGUAR\\u002fF-TYPE S Automatic AWD, 16MY\",\"JAGUAR\\u002fF-TYPE S Automatic RWD, 16MY\",\"JAGUAR\\u002fF-TYPE S Manual RWD, 16MY\",\"JAGUAR\\u002fF-TYPE SVR Automatic AWD, 17MY\",\"SKODA\\u002fFabia Estate\",\"SKODA\\u002fFabia Hatchback\",\"FORD\\u002fFiesta, Model Year Post 2017\",\"FORD\\u002fFiesta, Model Year Pre 2017\",\"BENTLEY MOTORS\\u002fFlying Spur, MY2015\",\"BENTLEY MOTORS\\u002fFlying Spur, MY2017\",\"SUBARU\\u002fForester AWD, From 2015 MY\",\"MERCEDES-BENZ\\u002fG-Class, Model Year 2017\",\"MERCEDES-BENZ\\u002fGL-Class, Model Year 2016\",\"MERCEDES-BENZ\\u002fGLA Class, Model Year 2016\",\"MERCEDES-BENZ\\u002fGLC, Model Year 2016\",\"MERCEDES-BENZ\\u002fGLE Estate, Model Year 2016\",\"MERCEDES-BENZ\\u002fGLE Estate, Model Year 2016\\u00bd\",\"MERCEDES-BENZ\\u002fGLS, Model Year 2017\",\"LEXUS\\u002fGS F, MY2016\",\"LEXUS\\u002fGS, MY2014\",\"LEXUS\\u002fGS300h, MY2016\",\"LEXUS\\u002fGS450h, MY2016\",\"TOYOTA\\u002fGT86, MY2016\",\"NISSAN\\u002fGTR Euro6, 2016\",\"HYUNDAI\\u002fGenesis\",\"MASERATI\\u002fGhibli\",\"Rolls Royce\\u002fGhost\",\"ALFA ROMEO\\u002fGiulietta\",\"VOLKSWAGEN\\u002fGolf\",\"VOLKSWAGEN\\u002fGolf Cabriolet\",\"VOLKSWAGEN\\u002fGolf Estate\",\"VOLKSWAGEN\\u002fGolf SV\",\"CITROEN\\u002fGrand C4 Picasso\",\"RENAULT\\u002fGrand Scenic Euro6, 2015\",\"FORD\\u002fGrand Tourneo Connect, Model Year Post 2016\\u00bc\",\"FORD\\u002fGrand Tourneo Connect, Model Year Pre 2016\\u00bc\",\"HONDA\\u002fHR-V, Model Year 2016\",\"LAMBORGHINI\\u002fHuracan\",\"LEXUS\\u002fIS, MY2015\",\"LEXUS\\u002fIS300h, MY2016\",\"SEAT\\u002fIbiza 5 door\",\"SEAT\\u002fIbiza SC\",\"SEAT\\u002fIbiza ST\",\"VAUXHALL\\u002fInsignia 5 Door Hatchback, Model Year 2015\",\"VAUXHALL\\u002fInsignia 5 Door Hatchback, Model Year 2016\",\"VAUXHALL\\u002fInsignia 5 Door Sports Tourer, Model Year 2016\",\"HONDA\\u002fJazz, Model Year 2016\",\"CHRYSLER JEEP\\u002fJeep Cherokee, MY 2015\",\"CHRYSLER JEEP\\u002fJeep Cherokee, MY2016\",\"CHRYSLER JEEP\\u002fJeep Compass, MY 2015\",\"CHRYSLER JEEP\\u002fJeep Grand Cherokee, MY 2014\",\"CHRYSLER JEEP\\u002fJeep Grand Cherokee, MY 2015\",\"CHRYSLER JEEP\\u002fJeep Grand Cherokee, MY2016\",\"CHRYSLER JEEP\\u002fJeep Renegade, MY2015\",\"CHRYSLER JEEP\\u002fJeep Renegade, MY2016\",\"CHRYSLER JEEP\\u002fJeep Wrangler, MY 2015\",\"CHRYSLER JEEP\\u002fJeep Wrangler, MY 2016\",\"VOLKSWAGEN\\u002fJetta\",\"SUZUKI\\u002fJimny\",\"NISSAN\\u002fJuke Euro6, 2015\",\"NISSAN\\u002fJuke, 2014\\u002f15\",\"FORD\\u002fKA+, Model Year Post 2016\\u00be\",\"FORD\\u002fKa, Model Year Post 2015\\u00bd\",\"RENAULT\\u002fKadjar Euro6, 2015\",\"SSANGYONG\\u002fKorando\",\"FORD\\u002fKuga, Model Year Post 2016\\u00bd\",\"FORD\\u002fKuga, Model Year Pre 2016\\u00bd\",\"LEXUS\\u002fLS\",\"TOYOTA\\u002fLand Cruiser, MY2016\",\"SEAT\\u002fLeon 5 Door\",\"SEAT\\u002fLeon SC\",\"SEAT\\u002fLeon ST\",\"SEAT\\u002fLeon X-Perience\",\"SUBARU\\u002fLevorg AWD, From 2016 MY\",\"DACIA\\u002fLogan MCV Euro6, 2015\",\"BMW\\u002fM3 Series Saloon F80, From June 2014\",\"BMW\\u002fM4 Series Convertible F83, From September 2014\",\"MINI\\u002fMINI 3-door Hatchback F56, From March 2014\",\"MINI\\u002fMINI 3-door Hatchback F56, From March 2016\",\"MINI\\u002fMINI 5-door Hatchback F55, From October 2014\",\"MINI\\u002fMINI Clubman F54, From October 2015\",\"MINI\\u002fMINI Convertible F57, From March 2016\",\"MINI\\u002fMINI Countryman R60, From September 2010\",\"MINI\\u002fMINI Paceman R61, From November 2012\",\"MINI\\u002fMINI Roadster R59, From April 2012\",\"MAZDA\\u002fMX-5\",\"PORSCHE\\u002fMacan\",\"MAZDA\\u002fMazda2\",\"MAZDA\\u002fMazda3 4 door\",\"MAZDA\\u002fMazda3 5 door\",\"MAZDA\\u002fMazda6 Saloon\",\"MAZDA\\u002fMazda6 Tourer\",\"RENAULT\\u002fMegane 2016\",\"RENAULT\\u002fMegane Renault Sport Euro6, 2015\",\"VAUXHALL\\u002fMeriva, Model Year 2015\",\"VAUXHALL\\u002fMeriva, Model Year 2016\",\"ALFA ROMEO\\u002fMiTo, 2012 onwards\",\"NISSAN\\u002fMicra Euro6, 2015\",\"SEAT\\u002fMii\",\"MITSUBISHI\\u002fMirage\",\"VAUXHALL\\u002fMokka, Model Year 2015\",\"VAUXHALL\\u002fMokka, Model Year 2016\",\"FORD\\u002fMondeo Vignale, Model Year Post 2016\\u00be\",\"FORD\\u002fMondeo Vignale, Model Year Pre 2016\\u00be\",\"BENTLEY MOTORS\\u002fMulsanne, MY2017\",\"FORD\\u002fMustang, Model Year Post 2015\\u00be\",\"RENAULT\\u002fM\\u00e9gane Hatchback Euro6, 2015\",\"RENAULT\\u002fM\\u00e9gane Sport Tourer Euro6, 2015\",\"NISSAN\\u002fNV200 EURO6, 2015\",\"LEXUS\\u002fNX, MY2015\",\"AUDI\\u002fNew A4 Avant\",\"AUDI\\u002fNew A4 Saloon\",\"ABARTH\\u002fNew Abarth 595, 2016 Onwards\",\"VOLKSWAGEN\\u002fNew CC\",\"DS\\u002fNew DS3\",\"DS\\u002fNew DS3 Cabriolet\",\"DS\\u002fNew DS4\",\"DS\\u002fNew DS4 Crossback\",\"DS\\u002fNew DS5\",\"VOLKSWAGEN\\u002fNew Sharan\",\"SKODA\\u002fNew Superb Estate\",\"SKODA\\u002fNew Superb Saloon\",\"VOLKSWAGEN\\u002fNew Tiguan\",\"VOLKSWAGEN\\u002fNew Touareg\",\"NISSAN\\u002fNote Euro6, 2015\",\"SKODA\\u002fOctavia Estate\",\"SKODA\\u002fOctavia Hatchback\",\"SUBARU\\u002fOutback AWD, From 2015 MY\",\"MITSUBISHI\\u002fOutlander\",\"MITSUBISHI\\u002fOutlander PHEV, 2014\",\"PORSCHE\\u002fPanamera\",\"FIAT\\u002fPanda, From February 2012 onwards\",\"PEUGEOT\\u002fPartner Tepee\",\"VOLKSWAGEN\\u002fPassat Alltrack\",\"VOLKSWAGEN\\u002fPassat Estate\",\"VOLKSWAGEN\\u002fPassat Saloon\",\"Rolls Royce\\u002fPhantom\",\"KIA\\u002fPicanto 3-door\",\"KIA\\u002fPicanto 5-door\",\"VOLKSWAGEN\\u002fPolo\",\"TOYOTA\\u002fPrius Plug-In, MY2012\",\"TOYOTA\\u002fPrius Plus, MY2015\",\"TOYOTA\\u002fPrius, 2016\",\"TOYOTA\\u002fPrius, MY2012\",\"NISSAN\\u002fPulsar Euro6, 2015\",\"FIAT\\u002fPunto, 2012 onwards\",\"AUDI\\u002fQ3\",\"INFINITI\\u002fQ30 Euro6, 2016\",\"AUDI\\u002fQ5\",\"INFINITI\\u002fQ50 Euro6, 2016\",\"AUDI\\u002fQ7\",\"INFINITI\\u002fQ70 Euro6, 2016\",\"NISSAN\\u002fQashqai Euro6, 2015\",\"MASERATI\\u002fQuattroporte\",\"FIAT\\u002fQubo, 2012 onwards\",\"AUDI\\u002fR8 Spyder\",\"TOYOTA\\u002fRAV4, MY2015\",\"TOYOTA\\u002fRAV4, MY2016\",\"LEXUS\\u002fRC 200t, MY2015\",\"LEXUS\\u002fRC F, MY2015\",\"LEXUS\\u002fRC300h, MY2015\",\"AUDI\\u002fRS Series\",\"LEXUS\\u002fRX, MY2015\",\"LAND ROVER\\u002fRange Rover 16MY\",\"LAND ROVER\\u002fRange Rover Evoque 16MY\",\"LAND ROVER\\u002fRange Rover Sport 16MY\",\"SKODA\\u002fRapid\",\"SKODA\\u002fRapid Spaceback\",\"ASTON MARTIN LAGONDA\\u002fRapide S MY2015, from Sept 2014\",\"ASTON MARTIN LAGONDA\\u002fRapide S, MY2016\",\"SSANGYONG\\u002fRexton W\",\"KIA\\u002fRio 3-door\",\"KIA\\u002fRio 5-door\",\"MERCEDES-BENZ\\u002fS-Class Cabriolet, Model Year 2016\",\"MERCEDES-BENZ\\u002fS-Class Limousine, Model Year 2016\",\"MERCEDES-BENZ\\u002fS-Class Limousine, Model Year 2016\\u00bd\",\"MERCEDES-BENZ\\u002fS-Class Saloon, Model Year 2016\",\"MERCEDES-BENZ\\u002fS-Class Saloon, Model Year 2016\\u00bd\",\"FORD\\u002fS-MAX Vignale, Model Year Post 2017\",\"VOLVO\\u002fS60 MY17\",\"VOLVO\\u002fS60, MY16\",\"VOLVO\\u002fS80, MY16\",\"VOLVO\\u002fS90 MY17\",\"MERCEDES-BENZ\\u002fSL, Model Year 2016\",\"MERCEDES-BENZ\\u002fSL, Model Year 2017\",\"MERCEDES-BENZ\\u002fSLC, Model Year 2017\",\"MERCEDES-BENZ\\u002fSLK-Class, Model Year 2016\",\"SUZUKI\\u002fSX4 S-Cross\",\"DACIA\\u002fSandero  Stepway Euro6, 2015\",\"DACIA\\u002fSandero Euro6 2015\",\"HYUNDAI\\u002fSanta Fe\",\"RENAULT\\u002fScenic Euro6, 2015\",\"VOLKSWAGEN\\u002fScirocco\",\"MITSUBISHI\\u002fShogun\",\"KIA\\u002fSorento\",\"KIA\\u002fSoul\",\"KIA\\u002fSportage\",\"SKODA\\u002fSuperb Estate\",\"SKODA\\u002fSuperb Saloon\",\"SUZUKI\\u002fSwift\",\"AUDI\\u002fTT Roadster\",\"LONDON TAXI COMPANY\\u002fTaxi - TX4\",\"SSANGYONG\\u002fTivoli\",\"SEAT\\u002fToledo\",\"VOLKSWAGEN\\u002fTouran\",\"FORD\\u002fTourneo Connect, Model Year Post 2016\\u00bd\",\"FORD\\u002fTourneo Connect, Model Year Pre 2016\\u00bd\",\"FORD\\u002fTourneo Courier Kombi - , Model Year Post 2015\\u00be\",\"FORD\\u002fTourneo Custom - 310 Long Wheelbase, Model Year Post 2016\\u00bd\",\"FORD\\u002fTourneo Custom - 310 Short Wheelbase, Model Year Post 2016\\u00bd\",\"RENAULT\\u002fTrafic Euro6, 2016\",\"VOLKSWAGEN C.V.\\u002fTransporter Shuttle S Long Wheelbase\",\"VOLKSWAGEN C.V.\\u002fTransporter Shuttle S Short Wheelbase\",\"VOLKSWAGEN C.V.\\u002fTransporter Shuttle SE Long Wheelbase\",\"VOLKSWAGEN C.V.\\u002fTransporter Shuttle SE Short Wheelbase\",\"VOLKSWAGEN C.V.\\u002fTransporter Window Van T30 and T32 Long Wheelbase Low Roof\",\"VOLKSWAGEN C.V.\\u002fTransporter Window Van T30 and T32 Short Wheelbase Low Roof\",\"HYUNDAI\\u002fTucson\",\"SSANGYONG\\u002fTurismo\",\"RENAULT\\u002fTwingo Euro6, 2015\",\"VOLKSWAGEN\\u002fUP\",\"MERCEDES-BENZ\\u002fV-Class, Model Year 2016\",\"ASTON MARTIN LAGONDA\\u002fV12 Vantage S MY2015, from March 2014\",\"ASTON MARTIN LAGONDA\\u002fV12 Vantage S, MY2016\",\"VOLVO\\u002fV40 MY17\",\"VOLVO\\u002fV40, MY16\",\"VOLVO\\u002fV60 MY17\",\"VOLVO\\u002fV60, MY16\",\"VOLVO\\u002fV70, MY16\",\"ASTON MARTIN LAGONDA\\u002fV8 Vantage\\u002fV8 Vantage S\\u002fN430, MY2016\",\"ASTON MARTIN LAGONDA\\u002fV8 Vantage\\u002fVantage S\\u002fN430 MY2015, from May 2014\",\"VOLVO\\u002fV90 MY17\",\"ASTON MARTIN LAGONDA\\u002fVanquish MY2015, from Sept 2014\",\"ASTON MARTIN LAGONDA\\u002fVanquish, MY2016\",\"ASTON MARTIN LAGONDA\\u002fVantage GT12, MY2016\",\"KIA\\u002fVenga\",\"TOYOTA\\u002fVerso MY2016\",\"TOYOTA\\u002fVerso, 2016\",\"TOYOTA\\u002fVerso, MY2015\",\"SUZUKI\\u002fVitara\",\"VAUXHALL\\u002fViva 5 Door Hatchback, Model Year 2016\",\"SUBARU\\u002fWRX STI AWD, From 2015 MY\",\"Rolls Royce\\u002fWraith\",\"RENAULT\\u002fX Mod Euro6, 2015\",\"BMW\\u002fX1 Series F48, From March 2016\",\"BMW\\u002fX1 Series F48, From October 2015\",\"BMW\\u002fX3 Series F25, From November 2010\",\"BMW\\u002fX4 Series F26, From July 2014\",\"BMW\\u002fX5 M Series F85, From April 2015\",\"BMW\\u002fX5 Series F15, From November 2013\",\"BMW\\u002fX6 M Series F86, From April 2015\",\"BMW\\u002fX6 Series F16, From December 2014\",\"VOLVO\\u002fXC60 MY17\",\"VOLVO\\u002fXC60, MY16\",\"VOLVO\\u002fXC70, MY16\",\"VOLVO\\u002fXC90 MY17\",\"VOLVO\\u002fXC90, MY16\",\"JAGUAR\\u002fXE Saloon, 16MY\",\"JAGUAR\\u002fXE Saloon, 17MY\",\"JAGUAR\\u002fXF Saloon, 16MY\",\"JAGUAR\\u002fXF Saloon, 17MY\",\"JAGUAR\\u002fXJ Saloon, 16MY\",\"NISSAN\\u002fXTrail Euro6, 2015\",\"SUBARU\\u002fXV AWD, From 2015MY\",\"TOYOTA\\u002fYaris, 2016\",\"SKODA\\u002fYeti\",\"BMW\\u002fZ4 Series E89 Roadster\",\"VAUXHALL\\u002fZafira, Model Year 2015\",\"VAUXHALL\\u002fZafira, Model Year 2016\",\"KIA\\u002fcee'd\",\"KIA\\u002fcee'd SW\",\"SMART\\u002fforfour, Model Year 2016\",\"SMART\\u002ffortwo cabrio, Model Year 2016\",\"SMART\\u002ffortwo coup\\u00e9, Model Year 2016\",\"BMW\\u002fi Series, From November 2013\",\"HYUNDAI\\u002fi10\",\"HYUNDAI\\u002fi20\",\"HYUNDAI\\u002fi20 Active\",\"HYUNDAI\\u002fi30\",\"HYUNDAI\\u002fi30 Tourer\",\"HYUNDAI\\u002fi40\",\"HYUNDAI\\u002fi800\",\"HYUNDAI\\u002fix20\",\"KIA\\u002fpro_cee'd\",\"ABARTH\",\"ALFA ROMEO\",\"ASTON MARTIN LAGONDA\",\"AUDI\",\"BENTLEY MOTORS\",\"BMW\",\"CHRYSLER JEEP\",\"CITROEN\",\"DACIA\",\"DS\",\"FERRARI\",\"FIAT\",\"FORD\",\"HONDA\",\"HYUNDAI\",\"INFINITI\",\"JAGUAR\",\"KIA\",\"LAMBORGHINI\",\"LAND ROVER\",\"LEXUS\",\"LONDON TAXI COMPANY\",\"MASERATI\",\"MAZDA\",\"MERCEDES-BENZ\",\"MINI\",\"MITSUBISHI\",\"McLaren\",\"NISSAN\",\"PEUGEOT\",\"PORSCHE\",\"RENAULT\",\"Rolls Royce\",\"SEAT\",\"SKODA\",\"SMART\",\"SSANGYONG\",\"SUBARU\",\"SUZUKI\",\"TOYOTA\",\"VAUXHALL\",\"VOLKSWAGEN\",\"VOLKSWAGEN C.V.\",\"VOLVO\"],\"labels\":[\"1 Series 3-door F21, From September 2012\",\"1 Series 5-door F20, From September 2011\",\"108\",\"2 Series Active Tourer F45, From March 2016\",\"2 Series Active Tourer F45, From September 2014\",\"2 Series Convertible F23, From February 2015\",\"2 Series Convertible F23, From July 2015\",\"2 Series Gran Tourer F46, From June 2015\",\"2 Series Gran Tourer F46, From March 2016\",\"2008\",\"208\",\"3 Series Gran Turismo F34, From June 2013\",\"3 Series Saloon F30, From February 2012\",\"3 Series Touring F31, from September 2012\",\"3008\",\"308\",\"308 SW\",\"370Z Euro6, 2016\",\"4 Series Convertible F33, From March 2014\",\"4 Series Convertible F33, From March 2016\",\"5 Series F10\\u002fF11, From March 2010\",\"5 Series Gran Turismo F07, From October 2009\",\"500 & 500C, September 2015 onwards\",\"500 X, 2015 onwards\",\"500, 2012 onwards\",\"5008\",\"500L MPW, August 2013 onwards\",\"500L, from 2013 onwards\",\"508\",\"508 RXH\",\"508 SW\",\"540C\",\"570GT\",\"570S\",\"6 Series F12\\u002fF13, March 2011\",\"625C, MY2015\",\"650S Can-Am\",\"650S Le Mans, MY2015\",\"650S, MY2015\",\"675LT, MY2016\",\"7 Series G11\\u002fG12, From October 2015\",\"718\",\"911 (991 II)\",\"911 (991)\",\"A-Class, Model Year 2016\",\"A-Class, Model Year 2017\",\"A1\",\"A1 Sportback\",\"A3 Cabriolet\",\"A3 Hatchback\",\"A3 Saloon\",\"A3 Sportback\",\"A4 Allroad\",\"A5 Cabriolet\",\"A5 Sportback\",\"A6 Allroad\",\"A6 Avant\",\"A6 Saloon\",\"A7 Sportback\",\"A8\",\"AMG GT, Model Year 2016\",\"ASX\",\"Adam 3 Door Hatchback, Model Year 2015\",\"Adam 3 Door Hatchback, Model Year 2016\",\"Alfa 4C Spider, September 2015 on\",\"Alfa 4C, April 2014 on\",\"Alhambra\",\"All Models\",\"All New C-Max, Model Year Post 2016\\u00bc\",\"All New C-Max, Model Year Pre 2016\\u00bc\",\"All New Focus, Model Year Post 2016\\u00bd\",\"All New Focus, Model Year Pre 2016\\u00bd\",\"All New Galaxy, Model Year Post 2016\\u00be\",\"All New Galaxy, Model Year Pre 2016\\u00be\",\"All New Grand C-Max, Model Year Post 2016\\u00bc\",\"All New Grand C-Max, Model Year Pre 2016\\u00bc\",\"All New Mondeo, Model Year Post 2016\\u00be\",\"All New Mondeo, Model Year Pre 2016\\u00be\",\"All New S-MAX, Model Year Post 2016\\u00be\",\"All New S-MAX, Model Year Pre 2016\\u00be\",\"Astra 5 Door Hatchback, Model Year 2015\",\"Astra 5 Door Hatchback, Model Year 2016\",\"Astra 5 Door Sports Tourer, Model Year 2015\",\"Astra 5 Door Sports Tourer, Model Year 2016\",\"Astra GTC, Model Year 2015\",\"Astra GTC, Model Year 2016\",\"Ateca\",\"Auris, MY2015\",\"Avensis, MY2015\",\"Aventador\",\"Aygo, MY2015\",\"B-Class, Model Year 2016\",\"B-MAX, Model Year Post 2015\\u00be\",\"Beetle\",\"Beetle Cabriolet\",\"Bentayga, MY2017\",\"Berlingo Multispace\",\"Boxster\",\"C-Class Estate, Model Year 2016\",\"C-Class Saloon, Model Year 2016\",\"C1\",\"C3\",\"C3 Picasso\",\"C4\",\"C4 Cactus\",\"C4 Picasso\",\"C5 Tourer\",\"CLA Shooting Brake, Model Year 2016\",\"CLA Shooting Brake, Model Year 2017\",\"CLS Shooting Brake, Model Year 2016\",\"CLS Shooting Brake, Model Year 2017\",\"CR-V, Model Year 2015\",\"CT, MY2015\",\"CT200h, MY2016\",\"CX-3\",\"CX-5\",\"Caddy Life\",\"Caddy Life BlueMotion\",\"Caddy Maxi Life\",\"Caddy Maxi Window Van\",\"California Beach\",\"California Ocean\",\"Captur Euro6, 2015\",\"Caravelle Executive Short Wheelbase\",\"Caravelle Generation Six\",\"Caravelle SE Long Wheelbase\",\"Caravelle SE Short Wheelbase\",\"Carens\",\"Cascada, Model Year 2015\",\"Cascada, Model Year 2016\",\"Cayenne\",\"Cayman\",\"Celerio\",\"Citigo\",\"Civic Hatchback, Model Year 2015\",\"Civic Tourer, Model Year 2015\",\"Clio Euro6, 2015\",\"Clio Sport Tourer Euro6, 2015\",\"Continental\",\"Continental, MY2016\",\"Corsa 3 Door Hatchback, Model Year 2015\",\"Corsa 3 Door Hatchback, Model Year 2016\",\"Corsa 5 Door Hatchback, Model Year 2015\",\"Corsa 5 Door Hatchback, Model Year 2016\",\"Coupe\",\"Coupe\",\"Coupe\",\"Coupe\",\"Coupe\",\"DB9 GT, MY2016\",\"DB9 MY2015, from May 2014\",\"DS3\",\"DS3 Cabriolet\",\"Dawn\",\"Discovery 16MY\",\"Discovery Sport 16MY\",\"Doblo, 2015 onwards\",\"Duster Euro6, 2015\",\"E-Class Cabriolet, Model Year 2016\",\"E-Class Estate, Model Year 2016\",\"E-Class Saloon, Model Year 2016\",\"E-Class Saloon, Model Year 2017\",\"EcoSport, Model Year Post 2016\\u00be\",\"EcoSport, Model Year Pre 2016\\u00be\",\"Edge, Model Year Post 2016\",\"F-PACE, 17MY\",\"F-TYPE Automatic RWD, 16MY\",\"F-TYPE Manual RWD, 16MY\",\"F-TYPE R Automatic AWD, 16MY\",\"F-TYPE R Automatic RWD, 16MY\",\"F-TYPE S Automatic AWD, 16MY\",\"F-TYPE S Automatic RWD, 16MY\",\"F-TYPE S Manual RWD, 16MY\",\"F-TYPE SVR Automatic AWD, 17MY\",\"Fabia Estate\",\"Fabia Hatchback\",\"Fiesta, Model Year Post 2017\",\"Fiesta, Model Year Pre 2017\",\"Flying Spur, MY2015\",\"Flying Spur, MY2017\",\"Forester AWD, From 2015 MY\",\"G-Class, Model Year 2017\",\"GL-Class, Model Year 2016\",\"GLA Class, Model Year 2016\",\"GLC, Model Year 2016\",\"GLE Estate, Model Year 2016\",\"GLE Estate, Model Year 2016\\u00bd\",\"GLS, Model Year 2017\",\"GS F, MY2016\",\"GS, MY2014\",\"GS300h, MY2016\",\"GS450h, MY2016\",\"GT86, MY2016\",\"GTR Euro6, 2016\",\"Genesis\",\"Ghibli\",\"Ghost\",\"Giulietta\",\"Golf\",\"Golf Cabriolet\",\"Golf Estate\",\"Golf SV\",\"Grand C4 Picasso\",\"Grand Scenic Euro6, 2015\",\"Grand Tourneo Connect, Model Year Post 2016\\u00bc\",\"Grand Tourneo Connect, Model Year Pre 2016\\u00bc\",\"HR-V, Model Year 2016\",\"Huracan\",\"IS, MY2015\",\"IS300h, MY2016\",\"Ibiza 5 door\",\"Ibiza SC\",\"Ibiza ST\",\"Insignia 5 Door Hatchback, Model Year 2015\",\"Insignia 5 Door Hatchback, Model Year 2016\",\"Insignia 5 Door Sports Tourer, Model Year 2016\",\"Jazz, Model Year 2016\",\"Jeep Cherokee, MY 2015\",\"Jeep Cherokee, MY2016\",\"Jeep Compass, MY 2015\",\"Jeep Grand Cherokee, MY 2014\",\"Jeep Grand Cherokee, MY 2015\",\"Jeep Grand Cherokee, MY2016\",\"Jeep Renegade, MY2015\",\"Jeep Renegade, MY2016\",\"Jeep Wrangler, MY 2015\",\"Jeep Wrangler, MY 2016\",\"Jetta\",\"Jimny\",\"Juke Euro6, 2015\",\"Juke, 2014\\u002f15\",\"KA+, Model Year Post 2016\\u00be\",\"Ka, Model Year Post 2015\\u00bd\",\"Kadjar Euro6, 2015\",\"Korando\",\"Kuga, Model Year Post 2016\\u00bd\",\"Kuga, Model Year Pre 2016\\u00bd\",\"LS\",\"Land Cruiser, MY2016\",\"Leon 5 Door\",\"Leon SC\",\"Leon ST\",\"Leon X-Perience\",\"Levorg AWD, From 2016 MY\",\"Logan MCV Euro6, 2015\",\"M3 Series Saloon F80, From June 2014\",\"M4 Series Convertible F83, From September 2014\",\"MINI 3-door Hatchback F56, From March 2014\",\"MINI 3-door Hatchback F56, From March 2016\",\"MINI 5-door Hatchback F55, From October 2014\",\"MINI Clubman F54, From October 2015\",\"MINI Convertible F57, From March 2016\",\"MINI Countryman R60, From September 2010\",\"MINI Paceman R61, From November 2012\",\"MINI Roadster R59, From April 2012\",\"MX-5\",\"Macan\",\"Mazda2\",\"Mazda3 4 door\",\"Mazda3 5 door\",\"Mazda6 Saloon\",\"Mazda6 Tourer\",\"Megane 2016\",\"Megane Renault Sport Euro6, 2015\",\"Meriva, Model Year 2015\",\"Meriva, Model Year 2016\",\"MiTo, 2012 onwards\",\"Micra Euro6, 2015\",\"Mii\",\"Mirage\",\"Mokka, Model Year 2015\",\"Mokka, Model Year 2016\",\"Mondeo Vignale, Model Year Post 2016\\u00be\",\"Mondeo Vignale, Model Year Pre 2016\\u00be\",\"Mulsanne, MY2017\",\"Mustang, Model Year Post 2015\\u00be\",\"M\\u00e9gane Hatchback Euro6, 2015\",\"M\\u00e9gane Sport Tourer Euro6, 2015\",\"NV200 EURO6, 2015\",\"NX, MY2015\",\"New A4 Avant\",\"New A4 Saloon\",\"New Abarth 595, 2016 Onwards\",\"New CC\",\"New DS3\",\"New DS3 Cabriolet\",\"New DS4\",\"New DS4 Crossback\",\"New DS5\",\"New Sharan\",\"New Superb Estate\",\"New Superb Saloon\",\"New Tiguan\",\"New Touareg\",\"Note Euro6, 2015\",\"Octavia Estate\",\"Octavia Hatchback\",\"Outback AWD, From 2015 MY\",\"Outlander\",\"Outlander PHEV, 2014\",\"Panamera\",\"Panda, From February 2012 onwards\",\"Partner Tepee\",\"Passat Alltrack\",\"Passat Estate\",\"Passat Saloon\",\"Phantom\",\"Picanto 3-door\",\"Picanto 5-door\",\"Polo\",\"Prius Plug-In, MY2012\",\"Prius Plus, MY2015\",\"Prius, 2016\",\"Prius, MY2012\",\"Pulsar Euro6, 2015\",\"Punto, 2012 onwards\",\"Q3\",\"Q30 Euro6, 2016\",\"Q5\",\"Q50 Euro6, 2016\",\"Q7\",\"Q70 Euro6, 2016\",\"Qashqai Euro6, 2015\",\"Quattroporte\",\"Qubo, 2012 onwards\",\"R8 Spyder\",\"RAV4, MY2015\",\"RAV4, MY2016\",\"RC 200t, MY2015\",\"RC F, MY2015\",\"RC300h, MY2015\",\"RS Series\",\"RX, MY2015\",\"Range Rover 16MY\",\"Range Rover Evoque 16MY\",\"Range Rover Sport 16MY\",\"Rapid\",\"Rapid Spaceback\",\"Rapide S MY2015, from Sept 2014\",\"Rapide S, MY2016\",\"Rexton W\",\"Rio 3-door\",\"Rio 5-door\",\"S-Class Cabriolet, Model Year 2016\",\"S-Class Limousine, Model Year 2016\",\"S-Class Limousine, Model Year 2016\\u00bd\",\"S-Class Saloon, Model Year 2016\",\"S-Class Saloon, Model Year 2016\\u00bd\",\"S-MAX Vignale, Model Year Post 2017\",\"S60 MY17\",\"S60, MY16\",\"S80, MY16\",\"S90 MY17\",\"SL, Model Year 2016\",\"SL, Model Year 2017\",\"SLC, Model Year 2017\",\"SLK-Class, Model Year 2016\",\"SX4 S-Cross\",\"Sandero  Stepway Euro6, 2015\",\"Sandero Euro6 2015\",\"Santa Fe\",\"Scenic Euro6, 2015\",\"Scirocco\",\"Shogun\",\"Sorento\",\"Soul\",\"Sportage\",\"Superb Estate\",\"Superb Saloon\",\"Swift\",\"TT Roadster\",\"Taxi - TX4\",\"Tivoli\",\"Toledo\",\"Touran\",\"Tourneo Connect, Model Year Post 2016\\u00bd\",\"Tourneo Connect, Model Year Pre 2016\\u00bd\",\"Tourneo Courier Kombi - , Model Year Post 2015\\u00be\",\"Tourneo Custom - 310 Long Wheelbase, Model Year Post 2016\\u00bd\",\"Tourneo Custom - 310 Short Wheelbase, Model Year Post 2016\\u00bd\",\"Trafic Euro6, 2016\",\"Transporter Shuttle S Long Wheelbase\",\"Transporter Shuttle S Short Wheelbase\",\"Transporter Shuttle SE Long Wheelbase\",\"Transporter Shuttle SE Short Wheelbase\",\"Transporter Window Van T30 and T32 Long Wheelbase Low Roof\",\"Transporter Window Van T30 and T32 Short Wheelbase Low Roof\",\"Tucson\",\"Turismo\",\"Twingo Euro6, 2015\",\"UP\",\"V-Class, Model Year 2016\",\"V12 Vantage S MY2015, from March 2014\",\"V12 Vantage S, MY2016\",\"V40 MY17\",\"V40, MY16\",\"V60 MY17\",\"V60, MY16\",\"V70, MY16\",\"V8 Vantage\\u002fV8 Vantage S\\u002fN430, MY2016\",\"V8 Vantage\\u002fVantage S\\u002fN430 MY2015, from May 2014\",\"V90 MY17\",\"Vanquish MY2015, from Sept 2014\",\"Vanquish, MY2016\",\"Vantage GT12, MY2016\",\"Venga\",\"Verso MY2016\",\"Verso, 2016\",\"Verso, MY2015\",\"Vitara\",\"Viva 5 Door Hatchback, Model Year 2016\",\"WRX STI AWD, From 2015 MY\",\"Wraith\",\"X Mod Euro6, 2015\",\"X1 Series F48, From March 2016\",\"X1 Series F48, From October 2015\",\"X3 Series F25, From November 2010\",\"X4 Series F26, From July 2014\",\"X5 M Series F85, From April 2015\",\"X5 Series F15, From November 2013\",\"X6 M Series F86, From April 2015\",\"X6 Series F16, From December 2014\",\"XC60 MY17\",\"XC60, MY16\",\"XC70, MY16\",\"XC90 MY17\",\"XC90, MY16\",\"XE Saloon, 16MY\",\"XE Saloon, 17MY\",\"XF Saloon, 16MY\",\"XF Saloon, 17MY\",\"XJ Saloon, 16MY\",\"XTrail Euro6, 2015\",\"XV AWD, From 2015MY\",\"Yaris, 2016\",\"Yeti\",\"Z4 Series E89 Roadster\",\"Zafira, Model Year 2015\",\"Zafira, Model Year 2016\",\"cee'd\",\"cee'd SW\",\"forfour, Model Year 2016\",\"fortwo cabrio, Model Year 2016\",\"fortwo coup\\u00e9, Model Year 2016\",\"i Series, From November 2013\",\"i10\",\"i20\",\"i20 Active\",\"i30\",\"i30 Tourer\",\"i40\",\"i800\",\"ix20\",\"pro_cee'd\",\"ABARTH\",\"ALFA ROMEO\",\"ASTON MARTIN LAGONDA\",\"AUDI\",\"BENTLEY MOTORS\",\"BMW\",\"CHRYSLER JEEP\",\"CITROEN\",\"DACIA\",\"DS\",\"FERRARI\",\"FIAT\",\"FORD\",\"HONDA\",\"HYUNDAI\",\"INFINITI\",\"JAGUAR\",\"KIA\",\"LAMBORGHINI\",\"LAND ROVER\",\"LEXUS\",\"LONDON TAXI COMPANY\",\"MASERATI\",\"MAZDA\",\"MERCEDES-BENZ\",\"MINI\",\"MITSUBISHI\",\"McLaren\",\"NISSAN\",\"PEUGEOT\",\"PORSCHE\",\"RENAULT\",\"Rolls Royce\",\"SEAT\",\"SKODA\",\"SMART\",\"SSANGYONG\",\"SUBARU\",\"SUZUKI\",\"TOYOTA\",\"VAUXHALL\",\"VOLKSWAGEN\",\"VOLKSWAGEN C.V.\",\"VOLVO\"],\"marker\":{\"coloraxis\":\"coloraxis\",\"colors\":[70.76647501105705,70.6648603584827,70.68867924528301,69.0,69.72406181015452,70.54924874791318,74.01351351351352,69.8515625,70.01428571428572,69.64490931944694,70.43974905303031,70.8532757944292,71.42131837307153,71.32202809181227,70.25078384798098,70.16808799565453,69.90762075134168,70.5,71.88857938718662,70.85858585858585,70.31820803691598,69.25270758122744,72.79244357212954,72.14764841942946,72.94644387317909,71.20718586912886,72.0,71.60670391061453,69.34138594802694,72.15086625086626,69.34138594802694,74.0,74.0,74.0,72.29644268774703,73.50340136054422,74.0,73.50340136054422,73.50340136054422,74.0,68.6,71.25263157894737,74.25701459034792,74.51554828150573,72.52463539613717,72.28565936178393,71.18702702702703,71.18702702702703,70.50614947965941,70.54763636363636,70.79100642398286,70.69379221614668,71.30175438596491,71.84897360703812,71.8861985472155,71.38317757009345,71.1705716963449,71.16507936507936,71.78222996515679,70.7941473259334,74.0,70.33807829181495,70.23646723646723,70.64872521246458,71.4,71.4,70.62889518413597,73.60597826086956,68.28205128205128,68.46137787056368,70.2,70.01509134233518,71.62569832402235,71.62569832402235,68.35121951219512,68.35121951219512,70.54747225647348,70.54747225647348,71.56925031766201,71.62569832402235,70.80790960451978,70.40681818181818,71.0112676056338,70.33649289099526,72.50804597701149,72.81868131868131,69.80057306590258,71.0895713371721,71.53373860182371,71.2,70.53191489361703,72.48933500627352,70.4005076142132,70.89498432601881,70.8649193548387,70.0,69.48001800180019,74.40322580645162,71.51555209953344,70.67247639796659,70.27402135231317,71.32224003205772,69.05032585083273,70.4845839985808,71.17276817095458,71.03978777349984,70.90225669957685,72.89939024390245,73.01095890410959,73.00913242009132,73.00913242009132,71.03380281690141,67.7,67.61329266038084,70.19990498812352,70.78504826936663,72.47928994082841,75.0,72.32806324110672,72.32179930795847,71.66976744186047,70.72121212121212,70.8714487300094,71.0093896713615,70.50354609929079,71.00704225352112,71.52097902097903,73.2103825136612,72.50344827586207,72.00925925925925,73.60582524271845,74.50335570469798,69.5304207119741,70.42045454545455,70.68553459119497,71.0093896713615,72.60086088154272,72.48068432671081,73.0,71.05633802816901,71.02816901408451,70.71926006528835,70.61280167890871,70.87701612903226,72.39078341013825,71.33582178335614,72.39224023385597,73.01369863013699,72.1652033271719,72.0,72.0,70.83344632768362,69.5,70.0,72.01388888888889,72.40331491712708,70.10244648318043,72.9847155586018,71.30294530154278,73.0078277886497,72.69266055045871,71.69461077844312,70.45614882135757,71.02112676056338,69.53237410071942,72.01666666666667,70.0,75.0,71.0,71.0,72.0,72.0,75.0,74.0,71.22266800401204,71.38528896672504,70.20306950230213,70.45798816568048,70.0,70.0,70.71594240164568,73.53061224489795,73.34545454545454,72.28553459119497,74.0,74.0,73.34545454545454,74.0,69.0,70.1,71.0,70.03336506425511,72.97639602603633,69.7,74.0,69.19195180722892,70.0,72.27595155709342,71.35167206040992,71.36036036036036,70.22279792746114,70.7927786499215,71.16430868167204,71.15133539499578,70.25978647686833,70.25978647686833,71.60335195530726,71.9,71.0,74.0,71.33956386292834,71.42240373395566,71.5034965034965,71.5104895104895,72.34562211981567,72.0,72.0,72.17321016166282,72.17321016166282,72.50344827586207,73.0,72.0,72.0,73.41578947368421,73.70488466757124,73.38181818181818,73.79322033898305,71.25263157894737,72.75773195876289,71.01564945226917,71.01408450704226,67.0,72.0,71.75250929368032,71.05439831104854,69.3963963963964,69.3963963963964,71.30014025245441,70.0,71.62700465597517,71.604125083167,71.94850669412976,71.02816901408451,66.0,73.30991359708959,74.0,74.0,71.09266862170088,70.33649289099526,70.95384615384616,71.08879263670818,70.55082742316785,72.76907216494845,72.62968630451415,73.01369863013699,68.16060161408657,71.81894150417827,68.96999419616947,69.02898550724638,69.03260869565217,69.3005772005772,69.34055379290453,72.69962453066333,75.0,71.60893854748603,72.01388888888889,73.50170068027211,70.00714285714285,70.27402135231317,69.50359712230215,72.40331491712708,72.43984220907298,71.23033707865169,71.23033707865169,72.0,73.7728813559322,72.59655489205328,72.56245404411763,71.0,68.30151293313814,69.62079395085067,69.53747161241483,72.84553775743707,71.26900584795321,71.06994545134613,71.08187895847995,70.8619215824797,70.02606363961387,72.0745183127929,70.69272237196766,70.6215297450425,71.15298087739032,70.6701143168209,71.0,70.00714285714285,72.75504941985389,72.48832271762208,70.2088319088319,73.0,73.0,73.1484375,71.50907960199004,69.9497615262321,71.05633802816901,70.00064977257959,70.00064977257959,72.0,73.25938566552901,73.08631578947369,70.90595611285266,69.0,68.0,67.0,69.0,69.20809248554913,71.75087108013938,70.18003565062389,70.38589022440641,72.32075471698113,68.41585445094218,69.72661870503597,69.07625769091567,70.01318681318682,68.22385141739981,71.36040644709182,74.0,69.0,69.81375358166189,70.0,70.0,67.0,72.87650085763293,68.80274314214464,71.4201680672269,71.51398601398601,72.87185354691076,72.6697247706422,72.50344827586207,71.0,71.0,71.52527088430618,72.0,71.532744665195,70.0,71.15384615384616,71.58741258741259,68.0,69.0,71.2247191011236,71.3922942206655,71.1227621483376,73.50340136054422,70.0,72.81318681318682,73.60326086956522,71.35202492211837,72.64187327823691,70.80790960451978,74.3516476126429,71.50083916083916,73.50340136054422,71.56072676450036,72.60819366852887,71.01408450704226,73.01369863013699,72.36031589338599,72.41687979539643,72.46728016359918,72.44662772172066,70.78091872791519,73.30019493177387,73.0,71.18891178123246,72.8021978021978,70.76119402985074,70.4090909090909,70.4090909090909,70.0,71.0,71.0,72.05835261453032,71.66976744186047,71.5034965034965,71.40896358543418,71.20786516853933,71.25964912280702,71.34267912772586,72.88679245283019,72.27710134901417,71.28996843212909,70.27402135231317,73.50340136054422,74.0,74.0,70.91107974594213,70.71688574317493,71.45564892623716,71.19277108433735,71.8631090487239,74.50335570469798,74.50335570469798,70.0,73.0,73.0,72.5,71.1708108108108,74.0,74.25252525252525,74.0,71.0,71.0,72.8,70.0,71.93938832252087,68.0,70.05714285714286,70.82203389830508,70.82203389830508,72.0,70.29300118623962,72.0,71.448,71.59081836327346,71.8491879350348,73.24590163934427,69.72727272727273,70.64872521246458,72.51545741324921,75.0,72.42541436464089,75.0,71.81860465116279,68.44961038961038,71.01051643192488,72.54595588235294,73.40871934604904,73.23368740515933,70.5748987854251,71.26666666666667,72.90613718411552,72.92914285714286,72.53103448275863,71.78048780487805,72.29411764705883,70.05714285714286,71.00704225352112,71.30575035063113,71.0,72.64199655765921,72.35023041474655,72.77319587628865,74.0,71.35514018691589,72.89939024390245,72.91895261845387,72.50780449349625,73.13861125723304,70.97778204460049,71.5,70.85620759087047,73.02287671232877,70.7419563679887,72.94208463949845,71.0466817750283,73.60597826086956,71.66074542656865,70.45345433714708,71.16224899598393,72.26723163841808,69.77576720396776,72.45923233498111,72.4691727957868,71.55171208944793,72.02350427350427,69.93601229921008,73.0,68.71130793496725,69.49159978405613,72.20659843620876,71.81151439299124,71.05889884763124,73.72494348153731,69.97668365833265,70.13765546860364,74.03718566078116,72.01291453309001,71.01408450704226,71.53127330847097,72.03251121076234,72.28546712802768,71.37984206504206,70.51579829765284,70.79339456022608,71.39087340819549,71.13121245221191,70.96151772755546,71.54245283018868,71.25140449438203]},\"name\":\"\",\"parents\":[\"BMW\",\"BMW\",\"PEUGEOT\",\"BMW\",\"BMW\",\"BMW\",\"BMW\",\"BMW\",\"BMW\",\"PEUGEOT\",\"PEUGEOT\",\"BMW\",\"BMW\",\"BMW\",\"PEUGEOT\",\"PEUGEOT\",\"PEUGEOT\",\"NISSAN\",\"BMW\",\"BMW\",\"BMW\",\"BMW\",\"FIAT\",\"FIAT\",\"ABARTH\",\"PEUGEOT\",\"FIAT\",\"FIAT\",\"PEUGEOT\",\"PEUGEOT\",\"PEUGEOT\",\"McLaren\",\"McLaren\",\"McLaren\",\"BMW\",\"McLaren\",\"McLaren\",\"McLaren\",\"McLaren\",\"McLaren\",\"BMW\",\"PORSCHE\",\"PORSCHE\",\"PORSCHE\",\"MERCEDES-BENZ\",\"MERCEDES-BENZ\",\"AUDI\",\"AUDI\",\"AUDI\",\"AUDI\",\"AUDI\",\"AUDI\",\"AUDI\",\"AUDI\",\"AUDI\",\"AUDI\",\"AUDI\",\"AUDI\",\"AUDI\",\"AUDI\",\"MERCEDES-BENZ\",\"MITSUBISHI\",\"VAUXHALL\",\"VAUXHALL\",\"ALFA ROMEO\",\"ALFA ROMEO\",\"SEAT\",\"FERRARI\",\"FORD\",\"FORD\",\"FORD\",\"FORD\",\"FORD\",\"FORD\",\"FORD\",\"FORD\",\"FORD\",\"FORD\",\"FORD\",\"FORD\",\"VAUXHALL\",\"VAUXHALL\",\"VAUXHALL\",\"VAUXHALL\",\"VAUXHALL\",\"VAUXHALL\",\"SEAT\",\"TOYOTA\",\"TOYOTA\",\"LAMBORGHINI\",\"TOYOTA\",\"MERCEDES-BENZ\",\"FORD\",\"VOLKSWAGEN\",\"VOLKSWAGEN\",\"BENTLEY MOTORS\",\"CITROEN\",\"PORSCHE\",\"MERCEDES-BENZ\",\"MERCEDES-BENZ\",\"CITROEN\",\"CITROEN\",\"CITROEN\",\"CITROEN\",\"CITROEN\",\"CITROEN\",\"CITROEN\",\"MERCEDES-BENZ\",\"MERCEDES-BENZ\",\"MERCEDES-BENZ\",\"MERCEDES-BENZ\",\"HONDA\",\"LEXUS\",\"LEXUS\",\"MAZDA\",\"MAZDA\",\"VOLKSWAGEN C.V.\",\"VOLKSWAGEN C.V.\",\"VOLKSWAGEN C.V.\",\"VOLKSWAGEN C.V.\",\"VOLKSWAGEN C.V.\",\"VOLKSWAGEN C.V.\",\"RENAULT\",\"VOLKSWAGEN C.V.\",\"VOLKSWAGEN C.V.\",\"VOLKSWAGEN C.V.\",\"VOLKSWAGEN C.V.\",\"KIA\",\"VAUXHALL\",\"VAUXHALL\",\"PORSCHE\",\"PORSCHE\",\"SUZUKI\",\"SKODA\",\"HONDA\",\"HONDA\",\"RENAULT\",\"RENAULT\",\"BENTLEY MOTORS\",\"BENTLEY MOTORS\",\"VAUXHALL\",\"VAUXHALL\",\"VAUXHALL\",\"VAUXHALL\",\"AUDI\",\"BMW\",\"MERCEDES-BENZ\",\"MINI\",\"RENAULT\",\"ASTON MARTIN LAGONDA\",\"ASTON MARTIN LAGONDA\",\"DS\",\"DS\",\"Rolls Royce\",\"LAND ROVER\",\"LAND ROVER\",\"FIAT\",\"DACIA\",\"MERCEDES-BENZ\",\"MERCEDES-BENZ\",\"MERCEDES-BENZ\",\"MERCEDES-BENZ\",\"FORD\",\"FORD\",\"FORD\",\"JAGUAR\",\"JAGUAR\",\"JAGUAR\",\"JAGUAR\",\"JAGUAR\",\"JAGUAR\",\"JAGUAR\",\"JAGUAR\",\"JAGUAR\",\"SKODA\",\"SKODA\",\"FORD\",\"FORD\",\"BENTLEY MOTORS\",\"BENTLEY MOTORS\",\"SUBARU\",\"MERCEDES-BENZ\",\"MERCEDES-BENZ\",\"MERCEDES-BENZ\",\"MERCEDES-BENZ\",\"MERCEDES-BENZ\",\"MERCEDES-BENZ\",\"MERCEDES-BENZ\",\"LEXUS\",\"LEXUS\",\"LEXUS\",\"LEXUS\",\"TOYOTA\",\"NISSAN\",\"HYUNDAI\",\"MASERATI\",\"Rolls Royce\",\"ALFA ROMEO\",\"VOLKSWAGEN\",\"VOLKSWAGEN\",\"VOLKSWAGEN\",\"VOLKSWAGEN\",\"CITROEN\",\"RENAULT\",\"FORD\",\"FORD\",\"HONDA\",\"LAMBORGHINI\",\"LEXUS\",\"LEXUS\",\"SEAT\",\"SEAT\",\"SEAT\",\"VAUXHALL\",\"VAUXHALL\",\"VAUXHALL\",\"HONDA\",\"CHRYSLER JEEP\",\"CHRYSLER JEEP\",\"CHRYSLER JEEP\",\"CHRYSLER JEEP\",\"CHRYSLER JEEP\",\"CHRYSLER JEEP\",\"CHRYSLER JEEP\",\"CHRYSLER JEEP\",\"CHRYSLER JEEP\",\"CHRYSLER JEEP\",\"VOLKSWAGEN\",\"SUZUKI\",\"NISSAN\",\"NISSAN\",\"FORD\",\"FORD\",\"RENAULT\",\"SSANGYONG\",\"FORD\",\"FORD\",\"LEXUS\",\"TOYOTA\",\"SEAT\",\"SEAT\",\"SEAT\",\"SEAT\",\"SUBARU\",\"DACIA\",\"BMW\",\"BMW\",\"MINI\",\"MINI\",\"MINI\",\"MINI\",\"MINI\",\"MINI\",\"MINI\",\"MINI\",\"MAZDA\",\"PORSCHE\",\"MAZDA\",\"MAZDA\",\"MAZDA\",\"MAZDA\",\"MAZDA\",\"RENAULT\",\"RENAULT\",\"VAUXHALL\",\"VAUXHALL\",\"ALFA ROMEO\",\"NISSAN\",\"SEAT\",\"MITSUBISHI\",\"VAUXHALL\",\"VAUXHALL\",\"FORD\",\"FORD\",\"BENTLEY MOTORS\",\"FORD\",\"RENAULT\",\"RENAULT\",\"NISSAN\",\"LEXUS\",\"AUDI\",\"AUDI\",\"ABARTH\",\"VOLKSWAGEN\",\"DS\",\"DS\",\"DS\",\"DS\",\"DS\",\"VOLKSWAGEN\",\"SKODA\",\"SKODA\",\"VOLKSWAGEN\",\"VOLKSWAGEN\",\"NISSAN\",\"SKODA\",\"SKODA\",\"SUBARU\",\"MITSUBISHI\",\"MITSUBISHI\",\"PORSCHE\",\"FIAT\",\"PEUGEOT\",\"VOLKSWAGEN\",\"VOLKSWAGEN\",\"VOLKSWAGEN\",\"Rolls Royce\",\"KIA\",\"KIA\",\"VOLKSWAGEN\",\"TOYOTA\",\"TOYOTA\",\"TOYOTA\",\"TOYOTA\",\"NISSAN\",\"FIAT\",\"AUDI\",\"INFINITI\",\"AUDI\",\"INFINITI\",\"AUDI\",\"INFINITI\",\"NISSAN\",\"MASERATI\",\"FIAT\",\"AUDI\",\"TOYOTA\",\"TOYOTA\",\"LEXUS\",\"LEXUS\",\"LEXUS\",\"AUDI\",\"LEXUS\",\"LAND ROVER\",\"LAND ROVER\",\"LAND ROVER\",\"SKODA\",\"SKODA\",\"ASTON MARTIN LAGONDA\",\"ASTON MARTIN LAGONDA\",\"SSANGYONG\",\"KIA\",\"KIA\",\"MERCEDES-BENZ\",\"MERCEDES-BENZ\",\"MERCEDES-BENZ\",\"MERCEDES-BENZ\",\"MERCEDES-BENZ\",\"FORD\",\"VOLVO\",\"VOLVO\",\"VOLVO\",\"VOLVO\",\"MERCEDES-BENZ\",\"MERCEDES-BENZ\",\"MERCEDES-BENZ\",\"MERCEDES-BENZ\",\"SUZUKI\",\"DACIA\",\"DACIA\",\"HYUNDAI\",\"RENAULT\",\"VOLKSWAGEN\",\"MITSUBISHI\",\"KIA\",\"KIA\",\"KIA\",\"SKODA\",\"SKODA\",\"SUZUKI\",\"AUDI\",\"LONDON TAXI COMPANY\",\"SSANGYONG\",\"SEAT\",\"VOLKSWAGEN\",\"FORD\",\"FORD\",\"FORD\",\"FORD\",\"FORD\",\"RENAULT\",\"VOLKSWAGEN C.V.\",\"VOLKSWAGEN C.V.\",\"VOLKSWAGEN C.V.\",\"VOLKSWAGEN C.V.\",\"VOLKSWAGEN C.V.\",\"VOLKSWAGEN C.V.\",\"HYUNDAI\",\"SSANGYONG\",\"RENAULT\",\"VOLKSWAGEN\",\"MERCEDES-BENZ\",\"ASTON MARTIN LAGONDA\",\"ASTON MARTIN LAGONDA\",\"VOLVO\",\"VOLVO\",\"VOLVO\",\"VOLVO\",\"VOLVO\",\"ASTON MARTIN LAGONDA\",\"ASTON MARTIN LAGONDA\",\"VOLVO\",\"ASTON MARTIN LAGONDA\",\"ASTON MARTIN LAGONDA\",\"ASTON MARTIN LAGONDA\",\"KIA\",\"TOYOTA\",\"TOYOTA\",\"TOYOTA\",\"SUZUKI\",\"VAUXHALL\",\"SUBARU\",\"Rolls Royce\",\"RENAULT\",\"BMW\",\"BMW\",\"BMW\",\"BMW\",\"BMW\",\"BMW\",\"BMW\",\"BMW\",\"VOLVO\",\"VOLVO\",\"VOLVO\",\"VOLVO\",\"VOLVO\",\"JAGUAR\",\"JAGUAR\",\"JAGUAR\",\"JAGUAR\",\"JAGUAR\",\"NISSAN\",\"SUBARU\",\"TOYOTA\",\"SKODA\",\"BMW\",\"VAUXHALL\",\"VAUXHALL\",\"KIA\",\"KIA\",\"SMART\",\"SMART\",\"SMART\",\"BMW\",\"HYUNDAI\",\"HYUNDAI\",\"HYUNDAI\",\"HYUNDAI\",\"HYUNDAI\",\"HYUNDAI\",\"HYUNDAI\",\"HYUNDAI\",\"KIA\",\"\",\"\",\"\",\"\",\"\",\"\",\"\",\"\",\"\",\"\",\"\",\"\",\"\",\"\",\"\",\"\",\"\",\"\",\"\",\"\",\"\",\"\",\"\",\"\",\"\",\"\",\"\",\"\",\"\",\"\",\"\",\"\",\"\",\"\",\"\",\"\",\"\",\"\",\"\",\"\",\"\",\"\",\"\",\"\"],\"values\":[2261.0,2399.0,212.0,414.0,1812.0,1198.0,296.0,1536.0,280.0,556.9,844.8,2549.0,3565.0,2919.0,631.5,1472.8,1118.0,141.0,1436.0,495.0,5201.0,831.0,509.5,648.5,583.5,498.2,216.0,572.8,415.6,144.3,415.6,148.0,74.0,148.0,1012.0,294.0,74.0,147.0,294.0,148.0,960.0,285.0,1782.0,3055.0,2537.0,2601.0,1850.0,1850.0,2114.0,2750.0,2335.0,3109.0,285.0,1364.0,1652.0,214.0,2134.0,2205.0,1148.0,991.0,148.0,281.0,702.0,353.0,71.4,71.4,706.0,736.0,546.0,479.0,2735.0,2518.0,716.0,716.0,410.0,410.0,3244.0,3244.0,787.0,716.0,354.0,1760.0,355.0,422.0,435.0,364.0,139.6,1563.0,1645.0,71.2,141.0,1594.0,492.5,1276.0,992.0,70.0,555.5,372.0,2572.0,2754.0,281.0,499.1,138.10000000000002,1127.4,711.3000000000001,1064.9,141.8,656.0,730.0,219.0,219.0,710.0,67.7,540.9,421.0,424.7,507.0,75.0,506.0,289.0,215.0,495.0,850.4,426.0,141.0,284.0,572.0,732.0,145.0,216.0,515.0,596.0,278.1,352.0,636.0,426.0,580.8,362.4,292.0,284.0,1562.0,919.0,1906.0,992.0,2170.0,8405.5,7526.0,146.0,432.8,72.0,72.0,354.0,69.5,70.0,144.0,362.0,490.5,437.70000000000005,713.0,511.0,436.0,501.0,352.1,284.0,278.0,360.0,70.0,75.0,71.0,71.0,72.0,72.0,75.0,74.0,997.0,1142.0,912.2,845.0,70.0,140.0,777.8,294.0,220.0,795.0,592.0,74.0,660.0,148.0,69.0,210.29999999999998,355.0,210.1,291.9,69.7,74.0,207.5,140.0,578.0,2781.0,999.0,1544.0,1274.0,995.2,355.70000000000005,281.0,281.0,358.0,71.9,213.0,592.0,642.0,857.0,429.0,286.0,651.0,216.0,360.0,433.0,433.0,145.0,73.0,144.0,216.0,807.5,368.5,440.0,590.0,1140.0,145.5,639.0,142.0,134.0,72.0,860.8,426.29999999999995,555.0,555.0,142.60000000000002,210.0,1933.0,1503.0,1942.0,213.0,66.0,219.89999999999998,148.0,148.0,1705.0,211.0,1560.0,1847.0,846.0,2910.0,2614.0,146.0,136.3,359.0,344.6,276.0,552.0,277.2,346.7,799.0,75.0,358.0,144.0,294.0,280.0,281.0,139.0,724.0,507.0,712.0,712.0,216.0,590.0,435.4,435.2,284.0,409.8,2645.0,2642.0,218.5,855.0,568.3,568.4,849.3,279.7,576.1,1484.0,1765.0,1778.0,1837.0,355.0,280.0,2327.0,1884.0,421.2,146.0,73.0,512.0,643.2,629.0,142.0,1539.0,1539.0,288.0,293.0,950.0,1276.0,69.0,204.0,268.0,138.0,346.0,143.5,1683.0,1688.9,1590.0,615.6,556.0,276.3,910.0,204.60000000000002,285.4,74.0,69.0,349.0,140.0,140.0,201.0,583.0,481.20000000000005,357.0,572.0,437.0,436.0,435.0,71.0,71.0,572.2,432.0,1359.0,280.0,1066.0,429.0,136.0,138.0,356.0,571.0,782.0,147.0,140.0,364.0,368.0,642.0,363.0,708.0,148.7,214.5,147.0,286.20000000000005,2685.0,142.0,438.0,1013.0,1955.0,1956.0,1883.0,283.0,513.0,73.0,1067.8,364.0,1273.0,352.0,352.0,140.0,355.0,355.0,216.10000000000002,215.0,286.0,357.0,356.0,570.0,642.0,583.0,289.1,285.1,1124.0,1176.0,74.0,74.0,1417.0,989.0,1071.0,996.0,431.0,149.0,149.0,140.0,73.0,73.0,72.5,925.0,74.0,297.0,370.0,284.0,213.0,72.8,70.0,215.8,272.0,1120.0,708.0,708.0,72.0,843.0,72.0,500.0,501.0,431.0,366.0,209.0,353.0,507.2,75.0,724.0,75.0,430.0,616.0,213.0,1088.0,1101.0,659.0,494.0,570.0,1385.0,875.0,580.0,287.0,289.0,140.0,284.0,713.0,71.0,581.0,434.0,291.0,148.0,214.0,656.0,802.0,1014.8,950.5,36457.0,1072.0,42959.5,3650.0,5514.3,1020.8,3265.3,736.0,3509.4,25486.8,2490.0,3540.0,2580.8,2751.2,11013.0,143.10000000000002,1872.0,3772.6,73.0,412.1,2778.5,31462.0,11985.0,781.0,1327.0,3707.7,6938.7,7476.0,6190.7,568.0,9009.6,16056.0,1156.0,2355.4,1550.8,1698.6,6776.9,14648.0,24115.0,5936.0,8544.0],\"type\":\"sunburst\"}],                        {\"template\":{\"data\":{\"histogram2dcontour\":[{\"type\":\"histogram2dcontour\",\"colorbar\":{\"outlinewidth\":0,\"ticks\":\"\"},\"colorscale\":[[0.0,\"#0d0887\"],[0.1111111111111111,\"#46039f\"],[0.2222222222222222,\"#7201a8\"],[0.3333333333333333,\"#9c179e\"],[0.4444444444444444,\"#bd3786\"],[0.5555555555555556,\"#d8576b\"],[0.6666666666666666,\"#ed7953\"],[0.7777777777777778,\"#fb9f3a\"],[0.8888888888888888,\"#fdca26\"],[1.0,\"#f0f921\"]]}],\"choropleth\":[{\"type\":\"choropleth\",\"colorbar\":{\"outlinewidth\":0,\"ticks\":\"\"}}],\"histogram2d\":[{\"type\":\"histogram2d\",\"colorbar\":{\"outlinewidth\":0,\"ticks\":\"\"},\"colorscale\":[[0.0,\"#0d0887\"],[0.1111111111111111,\"#46039f\"],[0.2222222222222222,\"#7201a8\"],[0.3333333333333333,\"#9c179e\"],[0.4444444444444444,\"#bd3786\"],[0.5555555555555556,\"#d8576b\"],[0.6666666666666666,\"#ed7953\"],[0.7777777777777778,\"#fb9f3a\"],[0.8888888888888888,\"#fdca26\"],[1.0,\"#f0f921\"]]}],\"heatmap\":[{\"type\":\"heatmap\",\"colorbar\":{\"outlinewidth\":0,\"ticks\":\"\"},\"colorscale\":[[0.0,\"#0d0887\"],[0.1111111111111111,\"#46039f\"],[0.2222222222222222,\"#7201a8\"],[0.3333333333333333,\"#9c179e\"],[0.4444444444444444,\"#bd3786\"],[0.5555555555555556,\"#d8576b\"],[0.6666666666666666,\"#ed7953\"],[0.7777777777777778,\"#fb9f3a\"],[0.8888888888888888,\"#fdca26\"],[1.0,\"#f0f921\"]]}],\"heatmapgl\":[{\"type\":\"heatmapgl\",\"colorbar\":{\"outlinewidth\":0,\"ticks\":\"\"},\"colorscale\":[[0.0,\"#0d0887\"],[0.1111111111111111,\"#46039f\"],[0.2222222222222222,\"#7201a8\"],[0.3333333333333333,\"#9c179e\"],[0.4444444444444444,\"#bd3786\"],[0.5555555555555556,\"#d8576b\"],[0.6666666666666666,\"#ed7953\"],[0.7777777777777778,\"#fb9f3a\"],[0.8888888888888888,\"#fdca26\"],[1.0,\"#f0f921\"]]}],\"contourcarpet\":[{\"type\":\"contourcarpet\",\"colorbar\":{\"outlinewidth\":0,\"ticks\":\"\"}}],\"contour\":[{\"type\":\"contour\",\"colorbar\":{\"outlinewidth\":0,\"ticks\":\"\"},\"colorscale\":[[0.0,\"#0d0887\"],[0.1111111111111111,\"#46039f\"],[0.2222222222222222,\"#7201a8\"],[0.3333333333333333,\"#9c179e\"],[0.4444444444444444,\"#bd3786\"],[0.5555555555555556,\"#d8576b\"],[0.6666666666666666,\"#ed7953\"],[0.7777777777777778,\"#fb9f3a\"],[0.8888888888888888,\"#fdca26\"],[1.0,\"#f0f921\"]]}],\"surface\":[{\"type\":\"surface\",\"colorbar\":{\"outlinewidth\":0,\"ticks\":\"\"},\"colorscale\":[[0.0,\"#0d0887\"],[0.1111111111111111,\"#46039f\"],[0.2222222222222222,\"#7201a8\"],[0.3333333333333333,\"#9c179e\"],[0.4444444444444444,\"#bd3786\"],[0.5555555555555556,\"#d8576b\"],[0.6666666666666666,\"#ed7953\"],[0.7777777777777778,\"#fb9f3a\"],[0.8888888888888888,\"#fdca26\"],[1.0,\"#f0f921\"]]}],\"mesh3d\":[{\"type\":\"mesh3d\",\"colorbar\":{\"outlinewidth\":0,\"ticks\":\"\"}}],\"scatter\":[{\"fillpattern\":{\"fillmode\":\"overlay\",\"size\":10,\"solidity\":0.2},\"type\":\"scatter\"}],\"parcoords\":[{\"type\":\"parcoords\",\"line\":{\"colorbar\":{\"outlinewidth\":0,\"ticks\":\"\"}}}],\"scatterpolargl\":[{\"type\":\"scatterpolargl\",\"marker\":{\"colorbar\":{\"outlinewidth\":0,\"ticks\":\"\"}}}],\"bar\":[{\"error_x\":{\"color\":\"#2a3f5f\"},\"error_y\":{\"color\":\"#2a3f5f\"},\"marker\":{\"line\":{\"color\":\"#E5ECF6\",\"width\":0.5},\"pattern\":{\"fillmode\":\"overlay\",\"size\":10,\"solidity\":0.2}},\"type\":\"bar\"}],\"scattergeo\":[{\"type\":\"scattergeo\",\"marker\":{\"colorbar\":{\"outlinewidth\":0,\"ticks\":\"\"}}}],\"scatterpolar\":[{\"type\":\"scatterpolar\",\"marker\":{\"colorbar\":{\"outlinewidth\":0,\"ticks\":\"\"}}}],\"histogram\":[{\"marker\":{\"pattern\":{\"fillmode\":\"overlay\",\"size\":10,\"solidity\":0.2}},\"type\":\"histogram\"}],\"scattergl\":[{\"type\":\"scattergl\",\"marker\":{\"colorbar\":{\"outlinewidth\":0,\"ticks\":\"\"}}}],\"scatter3d\":[{\"type\":\"scatter3d\",\"line\":{\"colorbar\":{\"outlinewidth\":0,\"ticks\":\"\"}},\"marker\":{\"colorbar\":{\"outlinewidth\":0,\"ticks\":\"\"}}}],\"scattermapbox\":[{\"type\":\"scattermapbox\",\"marker\":{\"colorbar\":{\"outlinewidth\":0,\"ticks\":\"\"}}}],\"scatterternary\":[{\"type\":\"scatterternary\",\"marker\":{\"colorbar\":{\"outlinewidth\":0,\"ticks\":\"\"}}}],\"scattercarpet\":[{\"type\":\"scattercarpet\",\"marker\":{\"colorbar\":{\"outlinewidth\":0,\"ticks\":\"\"}}}],\"carpet\":[{\"aaxis\":{\"endlinecolor\":\"#2a3f5f\",\"gridcolor\":\"white\",\"linecolor\":\"white\",\"minorgridcolor\":\"white\",\"startlinecolor\":\"#2a3f5f\"},\"baxis\":{\"endlinecolor\":\"#2a3f5f\",\"gridcolor\":\"white\",\"linecolor\":\"white\",\"minorgridcolor\":\"white\",\"startlinecolor\":\"#2a3f5f\"},\"type\":\"carpet\"}],\"table\":[{\"cells\":{\"fill\":{\"color\":\"#EBF0F8\"},\"line\":{\"color\":\"white\"}},\"header\":{\"fill\":{\"color\":\"#C8D4E3\"},\"line\":{\"color\":\"white\"}},\"type\":\"table\"}],\"barpolar\":[{\"marker\":{\"line\":{\"color\":\"#E5ECF6\",\"width\":0.5},\"pattern\":{\"fillmode\":\"overlay\",\"size\":10,\"solidity\":0.2}},\"type\":\"barpolar\"}],\"pie\":[{\"automargin\":true,\"type\":\"pie\"}]},\"layout\":{\"autotypenumbers\":\"strict\",\"colorway\":[\"#636efa\",\"#EF553B\",\"#00cc96\",\"#ab63fa\",\"#FFA15A\",\"#19d3f3\",\"#FF6692\",\"#B6E880\",\"#FF97FF\",\"#FECB52\"],\"font\":{\"color\":\"#2a3f5f\"},\"hovermode\":\"closest\",\"hoverlabel\":{\"align\":\"left\"},\"paper_bgcolor\":\"white\",\"plot_bgcolor\":\"#E5ECF6\",\"polar\":{\"bgcolor\":\"#E5ECF6\",\"angularaxis\":{\"gridcolor\":\"white\",\"linecolor\":\"white\",\"ticks\":\"\"},\"radialaxis\":{\"gridcolor\":\"white\",\"linecolor\":\"white\",\"ticks\":\"\"}},\"ternary\":{\"bgcolor\":\"#E5ECF6\",\"aaxis\":{\"gridcolor\":\"white\",\"linecolor\":\"white\",\"ticks\":\"\"},\"baxis\":{\"gridcolor\":\"white\",\"linecolor\":\"white\",\"ticks\":\"\"},\"caxis\":{\"gridcolor\":\"white\",\"linecolor\":\"white\",\"ticks\":\"\"}},\"coloraxis\":{\"colorbar\":{\"outlinewidth\":0,\"ticks\":\"\"}},\"colorscale\":{\"sequential\":[[0.0,\"#0d0887\"],[0.1111111111111111,\"#46039f\"],[0.2222222222222222,\"#7201a8\"],[0.3333333333333333,\"#9c179e\"],[0.4444444444444444,\"#bd3786\"],[0.5555555555555556,\"#d8576b\"],[0.6666666666666666,\"#ed7953\"],[0.7777777777777778,\"#fb9f3a\"],[0.8888888888888888,\"#fdca26\"],[1.0,\"#f0f921\"]],\"sequentialminus\":[[0.0,\"#0d0887\"],[0.1111111111111111,\"#46039f\"],[0.2222222222222222,\"#7201a8\"],[0.3333333333333333,\"#9c179e\"],[0.4444444444444444,\"#bd3786\"],[0.5555555555555556,\"#d8576b\"],[0.6666666666666666,\"#ed7953\"],[0.7777777777777778,\"#fb9f3a\"],[0.8888888888888888,\"#fdca26\"],[1.0,\"#f0f921\"]],\"diverging\":[[0,\"#8e0152\"],[0.1,\"#c51b7d\"],[0.2,\"#de77ae\"],[0.3,\"#f1b6da\"],[0.4,\"#fde0ef\"],[0.5,\"#f7f7f7\"],[0.6,\"#e6f5d0\"],[0.7,\"#b8e186\"],[0.8,\"#7fbc41\"],[0.9,\"#4d9221\"],[1,\"#276419\"]]},\"xaxis\":{\"gridcolor\":\"white\",\"linecolor\":\"white\",\"ticks\":\"\",\"title\":{\"standoff\":15},\"zerolinecolor\":\"white\",\"automargin\":true,\"zerolinewidth\":2},\"yaxis\":{\"gridcolor\":\"white\",\"linecolor\":\"white\",\"ticks\":\"\",\"title\":{\"standoff\":15},\"zerolinecolor\":\"white\",\"automargin\":true,\"zerolinewidth\":2},\"scene\":{\"xaxis\":{\"backgroundcolor\":\"#E5ECF6\",\"gridcolor\":\"white\",\"linecolor\":\"white\",\"showbackground\":true,\"ticks\":\"\",\"zerolinecolor\":\"white\",\"gridwidth\":2},\"yaxis\":{\"backgroundcolor\":\"#E5ECF6\",\"gridcolor\":\"white\",\"linecolor\":\"white\",\"showbackground\":true,\"ticks\":\"\",\"zerolinecolor\":\"white\",\"gridwidth\":2},\"zaxis\":{\"backgroundcolor\":\"#E5ECF6\",\"gridcolor\":\"white\",\"linecolor\":\"white\",\"showbackground\":true,\"ticks\":\"\",\"zerolinecolor\":\"white\",\"gridwidth\":2}},\"shapedefaults\":{\"line\":{\"color\":\"#2a3f5f\"}},\"annotationdefaults\":{\"arrowcolor\":\"#2a3f5f\",\"arrowhead\":0,\"arrowwidth\":1},\"geo\":{\"bgcolor\":\"white\",\"landcolor\":\"#E5ECF6\",\"subunitcolor\":\"white\",\"showland\":true,\"showlakes\":true,\"lakecolor\":\"white\"},\"title\":{\"x\":0.05},\"mapbox\":{\"style\":\"light\"}}},\"coloraxis\":{\"colorbar\":{\"title\":{\"text\":\"DECIBELIOS\"}},\"colorscale\":[[0.0,\"#0d0887\"],[0.1111111111111111,\"#46039f\"],[0.2222222222222222,\"#7201a8\"],[0.3333333333333333,\"#9c179e\"],[0.4444444444444444,\"#bd3786\"],[0.5555555555555556,\"#d8576b\"],[0.6666666666666666,\"#ed7953\"],[0.7777777777777778,\"#fb9f3a\"],[0.8888888888888888,\"#fdca26\"],[1.0,\"#f0f921\"]]},\"legend\":{\"tracegroupgap\":0},\"title\":{\"text\":\"CONTAMINACI\\u00d3N AC\\u00daSTICA - DECIBELIOS POR MARCA Y MODELO\"},\"height\":800,\"width\":800},                        {\"responsive\": true}                    ).then(function(){\n",
              "                            \n",
              "var gd = document.getElementById('02ad5768-bff6-4c1f-9e54-54bc0c5a3ddf');\n",
              "var x = new MutationObserver(function (mutations, observer) {{\n",
              "        var display = window.getComputedStyle(gd).display;\n",
              "        if (!display || display === 'none') {{\n",
              "            console.log([gd, 'removed!']);\n",
              "            Plotly.purge(gd);\n",
              "            observer.disconnect();\n",
              "        }}\n",
              "}});\n",
              "\n",
              "// Listen for the removal of the full notebook cells\n",
              "var notebookContainer = gd.closest('#notebook-container');\n",
              "if (notebookContainer) {{\n",
              "    x.observe(notebookContainer, {childList: true});\n",
              "}}\n",
              "\n",
              "// Listen for the clearing of the current output cell\n",
              "var outputEl = gd.closest('.output');\n",
              "if (outputEl) {{\n",
              "    x.observe(outputEl, {childList: true});\n",
              "}}\n",
              "\n",
              "                        })                };                            </script>        </div>\n",
              "</body>\n",
              "</html>"
            ]
          },
          "metadata": {}
        }
      ],
      "source": [
        "data = datosCoches\n",
        "fig = px.sunburst(data,\n",
        "                  title=(\"CONTAMINACIÓN ACÚSTICA - DECIBELIOS POR MARCA Y MODELO\"),\n",
        "                  height=800,\n",
        "                  width=800,\n",
        "                  path=['Manufacturer',\n",
        "                        'Model'],\n",
        "                  values='NoiseLeveldBA',\n",
        "                  color='NoiseLeveldBA',\n",
        "                  labels={'NoiseLeveldBA':'DECIBELIOS'})\n",
        "fig.show()"
      ]
    },
    {
      "cell_type": "code",
      "execution_count": null,
      "id": "aef2c839",
      "metadata": {
        "scrolled": true,
        "id": "aef2c839",
        "outputId": "7b6873a1-93dd-478c-bb1c-713a51081f68"
      },
      "outputs": [
        {
          "data": {
            "application/vnd.plotly.v1+json": {
              "config": {
                "plotlyServerURL": "https://plot.ly"
              },
              "data": [
                {
                  "branchvalues": "total",
                  "customdata": [
                    [
                      25.24561403508772
                    ],
                    [
                      46.36196319018405
                    ],
                    [
                      34.05810397553517
                    ],
                    [
                      34.00523560209424
                    ],
                    [
                      54.69345818702042
                    ],
                    [
                      33.80073431241656
                    ],
                    [
                      26.6
                    ],
                    [
                      32.57938144329897
                    ],
                    [
                      41.502747252747255
                    ],
                    [
                      28.1007371007371
                    ],
                    [
                      8.977777777777778
                    ],
                    [
                      64.74695863746959
                    ],
                    [
                      71.72761904761904
                    ],
                    [
                      54.5058611361587
                    ],
                    [
                      29.237244897959183
                    ],
                    [
                      38.96774193548387
                    ],
                    [
                      26.27710843373494
                    ],
                    [
                      51.71584699453552
                    ],
                    [
                      21.793427230046948
                    ],
                    [
                      65
                    ],
                    [
                      32.4375
                    ],
                    [
                      64.71972098922004
                    ],
                    [
                      31.31728045325779
                    ],
                    [
                      58.31994261119082
                    ],
                    [
                      32.602409638554214
                    ],
                    [
                      62.0480109739369
                    ],
                    [
                      8.585365853658537
                    ],
                    [
                      44.84602368866328
                    ],
                    [
                      19.397306397306398
                    ],
                    [
                      50.80246913580247
                    ],
                    [
                      54.3588110403397
                    ],
                    [
                      28.873417721518987
                    ],
                    [
                      63.24465355004277
                    ],
                    [
                      12.282608695652174
                    ],
                    [
                      44.63795899720176
                    ],
                    [
                      20.54102861562258
                    ],
                    [
                      25.697674418604652
                    ],
                    [
                      61.15873015873016
                    ],
                    [
                      11.757281553398059
                    ],
                    [
                      67
                    ],
                    [
                      47.401028277634964
                    ],
                    [
                      23.012448132780083
                    ],
                    [
                      44
                    ],
                    [
                      50
                    ],
                    [
                      27.796296296296298
                    ],
                    [
                      58.5572733661279
                    ],
                    [
                      11.19047619047619
                    ],
                    [
                      61.2599782574934
                    ],
                    [
                      35.85367569468871
                    ],
                    [
                      59.83582089552239
                    ],
                    [
                      48.55140186915888
                    ],
                    [
                      27.82937181663837
                    ],
                    [
                      57.69714285714286
                    ],
                    [
                      29.305084745762713
                    ],
                    [
                      3
                    ],
                    [
                      30.64074074074074
                    ],
                    [
                      38.78875171467764
                    ],
                    [
                      21.69022869022869
                    ],
                    [
                      52.10349554489376
                    ],
                    [
                      26.149553571428573
                    ],
                    [
                      53.85
                    ],
                    [
                      25.49954586739328
                    ],
                    [
                      10.714285714285714
                    ],
                    [
                      45.5781741867786
                    ],
                    [
                      28.008810572687224
                    ],
                    [
                      37
                    ],
                    [
                      62.23099501027297
                    ],
                    [
                      35.324298160697
                    ],
                    [
                      58.574312955692655
                    ],
                    [
                      33.311816578483246
                    ],
                    [
                      25.026058631921824
                    ],
                    [
                      60.60589970501475
                    ],
                    [
                      31.8
                    ],
                    [
                      68.17027027027027
                    ],
                    [
                      24.08490566037736
                    ],
                    [
                      13.307692307692308
                    ],
                    [
                      24.857988165680474
                    ],
                    [
                      35.083224967490246
                    ],
                    [
                      21.11190817790531
                    ],
                    [
                      9.470588235294118
                    ],
                    [
                      48.20690846286701
                    ],
                    [
                      26.43581081081081
                    ],
                    [
                      53.71522111413317
                    ],
                    [
                      32.62007343941249
                    ],
                    [
                      13.347826086956522
                    ],
                    [
                      56.76869439769175
                    ],
                    [
                      32.734939759036145
                    ],
                    [
                      46.70451579222135
                    ],
                    [
                      23.926470588235293
                    ],
                    [
                      21.307692307692307
                    ],
                    [
                      53.950258100022836
                    ],
                    [
                      31.070473109645942
                    ],
                    [
                      38.11584415584416
                    ]
                  ],
                  "domain": {
                    "x": [
                      0,
                      1
                    ],
                    "y": [
                      0,
                      1
                    ]
                  },
                  "hovertemplate": "labels=%{label}<br>EmissionsNOxmgkm_sum=%{value}<br>parent=%{parent}<br>id=%{id}<br>Emisiones NOx=%{color}<extra></extra>",
                  "ids": [
                    "Gasolina/ABARTH",
                    "Diesel/ALFA ROMEO",
                    "Gasolina/ALFA ROMEO",
                    "Gasolina/ASTON MARTIN LAGONDA",
                    "Diesel/AUDI",
                    "Gasolina/AUDI",
                    "HEV/AUDI",
                    "Gasolina/BENTLEY MOTORS",
                    "Diesel/BMW",
                    "Gasolina/BMW",
                    "HEV/BMW",
                    "Diesel/CHRYSLER JEEP",
                    "Gasolina/CHRYSLER JEEP",
                    "Diesel/CITROEN",
                    "Gasolina/CITROEN",
                    "Diesel/DACIA",
                    "Gasolina/DACIA",
                    "Diesel/DS",
                    "Gasolina/DS",
                    "HEV/DS",
                    "Gasolina/FERRARI",
                    "Diesel/FIAT",
                    "Gasolina/FIAT",
                    "Diesel/FORD",
                    "Gasolina/FORD",
                    "Diesel/HONDA",
                    "Gasolina/HONDA",
                    "Diesel/HYUNDAI",
                    "Gasolina/HYUNDAI",
                    "Diesel/INFINITI",
                    "Gasolina/INFINITI",
                    "HEV/INFINITI",
                    "Diesel/JAGUAR",
                    "Gasolina/JAGUAR",
                    "Diesel/KIA",
                    "Gasolina/KIA",
                    "Gasolina/LAMBORGHINI",
                    "Diesel/LAND ROVER",
                    "Gasolina/LAND ROVER",
                    "HEV/LAND ROVER",
                    "Gasolina/LEXUS",
                    "HEV/LEXUS",
                    "Diesel/LONDON TAXI COMPANY",
                    "Diesel/MASERATI",
                    "Gasolina/MASERATI",
                    "Diesel/MAZDA",
                    "Gasolina/MAZDA",
                    "Diesel/MERCEDES-BENZ",
                    "Gasolina/MERCEDES-BENZ",
                    "HEV/MERCEDES-BENZ",
                    "Diesel/MINI",
                    "Gasolina/MINI",
                    "Diesel/MITSUBISHI",
                    "Gasolina/MITSUBISHI",
                    "HEV/MITSUBISHI",
                    "Gasolina/McLaren",
                    "Diesel/NISSAN",
                    "Gasolina/NISSAN",
                    "Diesel/PEUGEOT",
                    "Gasolina/PEUGEOT",
                    "Diesel/PORSCHE",
                    "Gasolina/PORSCHE",
                    "HEV/PORSCHE",
                    "Diesel/RENAULT",
                    "Gasolina/RENAULT",
                    "Gasolina/Rolls Royce",
                    "Diesel/SEAT",
                    "Gasolina/SEAT",
                    "Diesel/SKODA",
                    "Gasolina/SKODA",
                    "Gasolina/SMART",
                    "Diesel/SSANGYONG",
                    "Gasolina/SSANGYONG",
                    "Diesel/SUBARU",
                    "Gasolina/SUBARU",
                    "Diesel/SUZUKI",
                    "Gasolina/SUZUKI",
                    "Diesel/TOYOTA",
                    "Gasolina/TOYOTA",
                    "HEV/TOYOTA",
                    "Diesel/VAUXHALL",
                    "Gasolina/VAUXHALL",
                    "Diesel/VOLKSWAGEN",
                    "Gasolina/VOLKSWAGEN",
                    "HEV/VOLKSWAGEN",
                    "Diesel/VOLKSWAGEN C.V.",
                    "Gasolina/VOLKSWAGEN C.V.",
                    "Diesel/VOLVO",
                    "Gasolina/VOLVO",
                    "HEV/VOLVO",
                    "Diesel",
                    "Gasolina",
                    "HEV"
                  ],
                  "labels": [
                    "ABARTH",
                    "ALFA ROMEO",
                    "ALFA ROMEO",
                    "ASTON MARTIN LAGONDA",
                    "AUDI",
                    "AUDI",
                    "AUDI",
                    "BENTLEY MOTORS",
                    "BMW",
                    "BMW",
                    "BMW",
                    "CHRYSLER JEEP",
                    "CHRYSLER JEEP",
                    "CITROEN",
                    "CITROEN",
                    "DACIA",
                    "DACIA",
                    "DS",
                    "DS",
                    "DS",
                    "FERRARI",
                    "FIAT",
                    "FIAT",
                    "FORD",
                    "FORD",
                    "HONDA",
                    "HONDA",
                    "HYUNDAI",
                    "HYUNDAI",
                    "INFINITI",
                    "INFINITI",
                    "INFINITI",
                    "JAGUAR",
                    "JAGUAR",
                    "KIA",
                    "KIA",
                    "LAMBORGHINI",
                    "LAND ROVER",
                    "LAND ROVER",
                    "LAND ROVER",
                    "LEXUS",
                    "LEXUS",
                    "LONDON TAXI COMPANY",
                    "MASERATI",
                    "MASERATI",
                    "MAZDA",
                    "MAZDA",
                    "MERCEDES-BENZ",
                    "MERCEDES-BENZ",
                    "MERCEDES-BENZ",
                    "MINI",
                    "MINI",
                    "MITSUBISHI",
                    "MITSUBISHI",
                    "MITSUBISHI",
                    "McLaren",
                    "NISSAN",
                    "NISSAN",
                    "PEUGEOT",
                    "PEUGEOT",
                    "PORSCHE",
                    "PORSCHE",
                    "PORSCHE",
                    "RENAULT",
                    "RENAULT",
                    "Rolls Royce",
                    "SEAT",
                    "SEAT",
                    "SKODA",
                    "SKODA",
                    "SMART",
                    "SSANGYONG",
                    "SSANGYONG",
                    "SUBARU",
                    "SUBARU",
                    "SUZUKI",
                    "SUZUKI",
                    "TOYOTA",
                    "TOYOTA",
                    "TOYOTA",
                    "VAUXHALL",
                    "VAUXHALL",
                    "VOLKSWAGEN",
                    "VOLKSWAGEN",
                    "VOLKSWAGEN",
                    "VOLKSWAGEN C.V.",
                    "VOLKSWAGEN C.V.",
                    "VOLVO",
                    "VOLVO",
                    "VOLVO",
                    "Diesel",
                    "Gasolina",
                    "HEV"
                  ],
                  "marker": {
                    "coloraxis": "coloraxis",
                    "colors": [
                      25.24561403508772,
                      46.36196319018405,
                      34.05810397553517,
                      34.00523560209424,
                      54.69345818702042,
                      33.80073431241656,
                      26.6,
                      32.57938144329897,
                      41.502747252747255,
                      28.1007371007371,
                      8.977777777777778,
                      64.74695863746959,
                      71.72761904761904,
                      54.5058611361587,
                      29.237244897959183,
                      38.96774193548387,
                      26.27710843373494,
                      51.71584699453552,
                      21.793427230046948,
                      65,
                      32.4375,
                      64.71972098922004,
                      31.31728045325779,
                      58.31994261119082,
                      32.602409638554214,
                      62.0480109739369,
                      8.585365853658537,
                      44.84602368866328,
                      19.397306397306398,
                      50.80246913580247,
                      54.3588110403397,
                      28.873417721518987,
                      63.24465355004277,
                      12.282608695652174,
                      44.63795899720176,
                      20.54102861562258,
                      25.697674418604652,
                      61.15873015873016,
                      11.757281553398059,
                      67,
                      47.401028277634964,
                      23.012448132780083,
                      44,
                      50,
                      27.796296296296298,
                      58.5572733661279,
                      11.19047619047619,
                      61.2599782574934,
                      35.85367569468871,
                      59.83582089552239,
                      48.55140186915888,
                      27.82937181663837,
                      57.69714285714286,
                      29.305084745762713,
                      3,
                      30.64074074074074,
                      38.78875171467764,
                      21.69022869022869,
                      52.10349554489376,
                      26.149553571428573,
                      53.85,
                      25.49954586739328,
                      10.714285714285714,
                      45.5781741867786,
                      28.008810572687224,
                      37,
                      62.23099501027297,
                      35.324298160697,
                      58.574312955692655,
                      33.311816578483246,
                      25.026058631921824,
                      60.60589970501475,
                      31.8,
                      68.17027027027027,
                      24.08490566037736,
                      13.307692307692308,
                      24.857988165680474,
                      35.083224967490246,
                      21.11190817790531,
                      9.470588235294118,
                      48.20690846286701,
                      26.43581081081081,
                      53.71522111413317,
                      32.62007343941249,
                      13.347826086956522,
                      56.76869439769175,
                      32.734939759036145,
                      46.70451579222135,
                      23.926470588235293,
                      21.307692307692307,
                      53.950258100022836,
                      31.070473109645942,
                      38.11584415584416
                    ]
                  },
                  "name": "",
                  "parents": [
                    "Gasolina",
                    "Diesel",
                    "Gasolina",
                    "Gasolina",
                    "Diesel",
                    "Gasolina",
                    "HEV",
                    "Gasolina",
                    "Diesel",
                    "Gasolina",
                    "HEV",
                    "Diesel",
                    "Gasolina",
                    "Diesel",
                    "Gasolina",
                    "Diesel",
                    "Gasolina",
                    "Diesel",
                    "Gasolina",
                    "HEV",
                    "Gasolina",
                    "Diesel",
                    "Gasolina",
                    "Diesel",
                    "Gasolina",
                    "Diesel",
                    "Gasolina",
                    "Diesel",
                    "Gasolina",
                    "Diesel",
                    "Gasolina",
                    "HEV",
                    "Diesel",
                    "Gasolina",
                    "Diesel",
                    "Gasolina",
                    "Gasolina",
                    "Diesel",
                    "Gasolina",
                    "HEV",
                    "Gasolina",
                    "HEV",
                    "Diesel",
                    "Diesel",
                    "Gasolina",
                    "Diesel",
                    "Gasolina",
                    "Diesel",
                    "Gasolina",
                    "HEV",
                    "Diesel",
                    "Gasolina",
                    "Diesel",
                    "Gasolina",
                    "HEV",
                    "Gasolina",
                    "Diesel",
                    "Gasolina",
                    "Diesel",
                    "Gasolina",
                    "Diesel",
                    "Gasolina",
                    "HEV",
                    "Diesel",
                    "Gasolina",
                    "Gasolina",
                    "Diesel",
                    "Gasolina",
                    "Diesel",
                    "Gasolina",
                    "Gasolina",
                    "Diesel",
                    "Gasolina",
                    "Diesel",
                    "Gasolina",
                    "Diesel",
                    "Gasolina",
                    "Diesel",
                    "Gasolina",
                    "HEV",
                    "Diesel",
                    "Gasolina",
                    "Diesel",
                    "Gasolina",
                    "HEV",
                    "Diesel",
                    "Gasolina",
                    "Diesel",
                    "Gasolina",
                    "HEV",
                    "",
                    "",
                    ""
                  ],
                  "type": "sunburst",
                  "values": [
                    228,
                    163,
                    327,
                    382,
                    15378,
                    5992,
                    80,
                    485,
                    12376,
                    6512,
                    90,
                    1644,
                    525,
                    2218,
                    784,
                    186,
                    166,
                    1098,
                    426,
                    65,
                    320,
                    1577,
                    706,
                    11849,
                    4150,
                    729,
                    164,
                    1182,
                    297,
                    891,
                    471,
                    79,
                    1169,
                    184,
                    3502.2,
                    1034.4,
                    43,
                    945,
                    103,
                    67,
                    389,
                    482,
                    44,
                    100,
                    108,
                    1423,
                    147,
                    12878,
                    5686,
                    737,
                    2996,
                    2356,
                    350,
                    59,
                    3,
                    540,
                    729,
                    481,
                    2918,
                    896,
                    160,
                    2202,
                    21,
                    1906,
                    908,
                    296,
                    3407,
                    2066,
                    7132,
                    2835,
                    307,
                    1695,
                    150,
                    740,
                    212,
                    52,
                    338,
                    769,
                    697,
                    187,
                    2895,
                    2960,
                    9927,
                    4085,
                    23,
                    4159,
                    249,
                    3831,
                    544,
                    91,
                    113018.2,
                    51810.4,
                    1925
                  ]
                }
              ],
              "layout": {
                "coloraxis": {
                  "colorbar": {
                    "title": {
                      "text": "Emisiones NOx"
                    }
                  },
                  "colorscale": [
                    [
                      0,
                      "#0d0887"
                    ],
                    [
                      0.1111111111111111,
                      "#46039f"
                    ],
                    [
                      0.2222222222222222,
                      "#7201a8"
                    ],
                    [
                      0.3333333333333333,
                      "#9c179e"
                    ],
                    [
                      0.4444444444444444,
                      "#bd3786"
                    ],
                    [
                      0.5555555555555556,
                      "#d8576b"
                    ],
                    [
                      0.6666666666666666,
                      "#ed7953"
                    ],
                    [
                      0.7777777777777778,
                      "#fb9f3a"
                    ],
                    [
                      0.8888888888888888,
                      "#fdca26"
                    ],
                    [
                      1,
                      "#f0f921"
                    ]
                  ]
                },
                "height": 800,
                "legend": {
                  "tracegroupgap": 0
                },
                "template": {
                  "data": {
                    "bar": [
                      {
                        "error_x": {
                          "color": "#2a3f5f"
                        },
                        "error_y": {
                          "color": "#2a3f5f"
                        },
                        "marker": {
                          "line": {
                            "color": "#E5ECF6",
                            "width": 0.5
                          },
                          "pattern": {
                            "fillmode": "overlay",
                            "size": 10,
                            "solidity": 0.2
                          }
                        },
                        "type": "bar"
                      }
                    ],
                    "barpolar": [
                      {
                        "marker": {
                          "line": {
                            "color": "#E5ECF6",
                            "width": 0.5
                          },
                          "pattern": {
                            "fillmode": "overlay",
                            "size": 10,
                            "solidity": 0.2
                          }
                        },
                        "type": "barpolar"
                      }
                    ],
                    "carpet": [
                      {
                        "aaxis": {
                          "endlinecolor": "#2a3f5f",
                          "gridcolor": "white",
                          "linecolor": "white",
                          "minorgridcolor": "white",
                          "startlinecolor": "#2a3f5f"
                        },
                        "baxis": {
                          "endlinecolor": "#2a3f5f",
                          "gridcolor": "white",
                          "linecolor": "white",
                          "minorgridcolor": "white",
                          "startlinecolor": "#2a3f5f"
                        },
                        "type": "carpet"
                      }
                    ],
                    "choropleth": [
                      {
                        "colorbar": {
                          "outlinewidth": 0,
                          "ticks": ""
                        },
                        "type": "choropleth"
                      }
                    ],
                    "contour": [
                      {
                        "colorbar": {
                          "outlinewidth": 0,
                          "ticks": ""
                        },
                        "colorscale": [
                          [
                            0,
                            "#0d0887"
                          ],
                          [
                            0.1111111111111111,
                            "#46039f"
                          ],
                          [
                            0.2222222222222222,
                            "#7201a8"
                          ],
                          [
                            0.3333333333333333,
                            "#9c179e"
                          ],
                          [
                            0.4444444444444444,
                            "#bd3786"
                          ],
                          [
                            0.5555555555555556,
                            "#d8576b"
                          ],
                          [
                            0.6666666666666666,
                            "#ed7953"
                          ],
                          [
                            0.7777777777777778,
                            "#fb9f3a"
                          ],
                          [
                            0.8888888888888888,
                            "#fdca26"
                          ],
                          [
                            1,
                            "#f0f921"
                          ]
                        ],
                        "type": "contour"
                      }
                    ],
                    "contourcarpet": [
                      {
                        "colorbar": {
                          "outlinewidth": 0,
                          "ticks": ""
                        },
                        "type": "contourcarpet"
                      }
                    ],
                    "heatmap": [
                      {
                        "colorbar": {
                          "outlinewidth": 0,
                          "ticks": ""
                        },
                        "colorscale": [
                          [
                            0,
                            "#0d0887"
                          ],
                          [
                            0.1111111111111111,
                            "#46039f"
                          ],
                          [
                            0.2222222222222222,
                            "#7201a8"
                          ],
                          [
                            0.3333333333333333,
                            "#9c179e"
                          ],
                          [
                            0.4444444444444444,
                            "#bd3786"
                          ],
                          [
                            0.5555555555555556,
                            "#d8576b"
                          ],
                          [
                            0.6666666666666666,
                            "#ed7953"
                          ],
                          [
                            0.7777777777777778,
                            "#fb9f3a"
                          ],
                          [
                            0.8888888888888888,
                            "#fdca26"
                          ],
                          [
                            1,
                            "#f0f921"
                          ]
                        ],
                        "type": "heatmap"
                      }
                    ],
                    "heatmapgl": [
                      {
                        "colorbar": {
                          "outlinewidth": 0,
                          "ticks": ""
                        },
                        "colorscale": [
                          [
                            0,
                            "#0d0887"
                          ],
                          [
                            0.1111111111111111,
                            "#46039f"
                          ],
                          [
                            0.2222222222222222,
                            "#7201a8"
                          ],
                          [
                            0.3333333333333333,
                            "#9c179e"
                          ],
                          [
                            0.4444444444444444,
                            "#bd3786"
                          ],
                          [
                            0.5555555555555556,
                            "#d8576b"
                          ],
                          [
                            0.6666666666666666,
                            "#ed7953"
                          ],
                          [
                            0.7777777777777778,
                            "#fb9f3a"
                          ],
                          [
                            0.8888888888888888,
                            "#fdca26"
                          ],
                          [
                            1,
                            "#f0f921"
                          ]
                        ],
                        "type": "heatmapgl"
                      }
                    ],
                    "histogram": [
                      {
                        "marker": {
                          "pattern": {
                            "fillmode": "overlay",
                            "size": 10,
                            "solidity": 0.2
                          }
                        },
                        "type": "histogram"
                      }
                    ],
                    "histogram2d": [
                      {
                        "colorbar": {
                          "outlinewidth": 0,
                          "ticks": ""
                        },
                        "colorscale": [
                          [
                            0,
                            "#0d0887"
                          ],
                          [
                            0.1111111111111111,
                            "#46039f"
                          ],
                          [
                            0.2222222222222222,
                            "#7201a8"
                          ],
                          [
                            0.3333333333333333,
                            "#9c179e"
                          ],
                          [
                            0.4444444444444444,
                            "#bd3786"
                          ],
                          [
                            0.5555555555555556,
                            "#d8576b"
                          ],
                          [
                            0.6666666666666666,
                            "#ed7953"
                          ],
                          [
                            0.7777777777777778,
                            "#fb9f3a"
                          ],
                          [
                            0.8888888888888888,
                            "#fdca26"
                          ],
                          [
                            1,
                            "#f0f921"
                          ]
                        ],
                        "type": "histogram2d"
                      }
                    ],
                    "histogram2dcontour": [
                      {
                        "colorbar": {
                          "outlinewidth": 0,
                          "ticks": ""
                        },
                        "colorscale": [
                          [
                            0,
                            "#0d0887"
                          ],
                          [
                            0.1111111111111111,
                            "#46039f"
                          ],
                          [
                            0.2222222222222222,
                            "#7201a8"
                          ],
                          [
                            0.3333333333333333,
                            "#9c179e"
                          ],
                          [
                            0.4444444444444444,
                            "#bd3786"
                          ],
                          [
                            0.5555555555555556,
                            "#d8576b"
                          ],
                          [
                            0.6666666666666666,
                            "#ed7953"
                          ],
                          [
                            0.7777777777777778,
                            "#fb9f3a"
                          ],
                          [
                            0.8888888888888888,
                            "#fdca26"
                          ],
                          [
                            1,
                            "#f0f921"
                          ]
                        ],
                        "type": "histogram2dcontour"
                      }
                    ],
                    "mesh3d": [
                      {
                        "colorbar": {
                          "outlinewidth": 0,
                          "ticks": ""
                        },
                        "type": "mesh3d"
                      }
                    ],
                    "parcoords": [
                      {
                        "line": {
                          "colorbar": {
                            "outlinewidth": 0,
                            "ticks": ""
                          }
                        },
                        "type": "parcoords"
                      }
                    ],
                    "pie": [
                      {
                        "automargin": true,
                        "type": "pie"
                      }
                    ],
                    "scatter": [
                      {
                        "fillpattern": {
                          "fillmode": "overlay",
                          "size": 10,
                          "solidity": 0.2
                        },
                        "type": "scatter"
                      }
                    ],
                    "scatter3d": [
                      {
                        "line": {
                          "colorbar": {
                            "outlinewidth": 0,
                            "ticks": ""
                          }
                        },
                        "marker": {
                          "colorbar": {
                            "outlinewidth": 0,
                            "ticks": ""
                          }
                        },
                        "type": "scatter3d"
                      }
                    ],
                    "scattercarpet": [
                      {
                        "marker": {
                          "colorbar": {
                            "outlinewidth": 0,
                            "ticks": ""
                          }
                        },
                        "type": "scattercarpet"
                      }
                    ],
                    "scattergeo": [
                      {
                        "marker": {
                          "colorbar": {
                            "outlinewidth": 0,
                            "ticks": ""
                          }
                        },
                        "type": "scattergeo"
                      }
                    ],
                    "scattergl": [
                      {
                        "marker": {
                          "colorbar": {
                            "outlinewidth": 0,
                            "ticks": ""
                          }
                        },
                        "type": "scattergl"
                      }
                    ],
                    "scattermapbox": [
                      {
                        "marker": {
                          "colorbar": {
                            "outlinewidth": 0,
                            "ticks": ""
                          }
                        },
                        "type": "scattermapbox"
                      }
                    ],
                    "scatterpolar": [
                      {
                        "marker": {
                          "colorbar": {
                            "outlinewidth": 0,
                            "ticks": ""
                          }
                        },
                        "type": "scatterpolar"
                      }
                    ],
                    "scatterpolargl": [
                      {
                        "marker": {
                          "colorbar": {
                            "outlinewidth": 0,
                            "ticks": ""
                          }
                        },
                        "type": "scatterpolargl"
                      }
                    ],
                    "scatterternary": [
                      {
                        "marker": {
                          "colorbar": {
                            "outlinewidth": 0,
                            "ticks": ""
                          }
                        },
                        "type": "scatterternary"
                      }
                    ],
                    "surface": [
                      {
                        "colorbar": {
                          "outlinewidth": 0,
                          "ticks": ""
                        },
                        "colorscale": [
                          [
                            0,
                            "#0d0887"
                          ],
                          [
                            0.1111111111111111,
                            "#46039f"
                          ],
                          [
                            0.2222222222222222,
                            "#7201a8"
                          ],
                          [
                            0.3333333333333333,
                            "#9c179e"
                          ],
                          [
                            0.4444444444444444,
                            "#bd3786"
                          ],
                          [
                            0.5555555555555556,
                            "#d8576b"
                          ],
                          [
                            0.6666666666666666,
                            "#ed7953"
                          ],
                          [
                            0.7777777777777778,
                            "#fb9f3a"
                          ],
                          [
                            0.8888888888888888,
                            "#fdca26"
                          ],
                          [
                            1,
                            "#f0f921"
                          ]
                        ],
                        "type": "surface"
                      }
                    ],
                    "table": [
                      {
                        "cells": {
                          "fill": {
                            "color": "#EBF0F8"
                          },
                          "line": {
                            "color": "white"
                          }
                        },
                        "header": {
                          "fill": {
                            "color": "#C8D4E3"
                          },
                          "line": {
                            "color": "white"
                          }
                        },
                        "type": "table"
                      }
                    ]
                  },
                  "layout": {
                    "annotationdefaults": {
                      "arrowcolor": "#2a3f5f",
                      "arrowhead": 0,
                      "arrowwidth": 1
                    },
                    "autotypenumbers": "strict",
                    "coloraxis": {
                      "colorbar": {
                        "outlinewidth": 0,
                        "ticks": ""
                      }
                    },
                    "colorscale": {
                      "diverging": [
                        [
                          0,
                          "#8e0152"
                        ],
                        [
                          0.1,
                          "#c51b7d"
                        ],
                        [
                          0.2,
                          "#de77ae"
                        ],
                        [
                          0.3,
                          "#f1b6da"
                        ],
                        [
                          0.4,
                          "#fde0ef"
                        ],
                        [
                          0.5,
                          "#f7f7f7"
                        ],
                        [
                          0.6,
                          "#e6f5d0"
                        ],
                        [
                          0.7,
                          "#b8e186"
                        ],
                        [
                          0.8,
                          "#7fbc41"
                        ],
                        [
                          0.9,
                          "#4d9221"
                        ],
                        [
                          1,
                          "#276419"
                        ]
                      ],
                      "sequential": [
                        [
                          0,
                          "#0d0887"
                        ],
                        [
                          0.1111111111111111,
                          "#46039f"
                        ],
                        [
                          0.2222222222222222,
                          "#7201a8"
                        ],
                        [
                          0.3333333333333333,
                          "#9c179e"
                        ],
                        [
                          0.4444444444444444,
                          "#bd3786"
                        ],
                        [
                          0.5555555555555556,
                          "#d8576b"
                        ],
                        [
                          0.6666666666666666,
                          "#ed7953"
                        ],
                        [
                          0.7777777777777778,
                          "#fb9f3a"
                        ],
                        [
                          0.8888888888888888,
                          "#fdca26"
                        ],
                        [
                          1,
                          "#f0f921"
                        ]
                      ],
                      "sequentialminus": [
                        [
                          0,
                          "#0d0887"
                        ],
                        [
                          0.1111111111111111,
                          "#46039f"
                        ],
                        [
                          0.2222222222222222,
                          "#7201a8"
                        ],
                        [
                          0.3333333333333333,
                          "#9c179e"
                        ],
                        [
                          0.4444444444444444,
                          "#bd3786"
                        ],
                        [
                          0.5555555555555556,
                          "#d8576b"
                        ],
                        [
                          0.6666666666666666,
                          "#ed7953"
                        ],
                        [
                          0.7777777777777778,
                          "#fb9f3a"
                        ],
                        [
                          0.8888888888888888,
                          "#fdca26"
                        ],
                        [
                          1,
                          "#f0f921"
                        ]
                      ]
                    },
                    "colorway": [
                      "#636efa",
                      "#EF553B",
                      "#00cc96",
                      "#ab63fa",
                      "#FFA15A",
                      "#19d3f3",
                      "#FF6692",
                      "#B6E880",
                      "#FF97FF",
                      "#FECB52"
                    ],
                    "font": {
                      "color": "#2a3f5f"
                    },
                    "geo": {
                      "bgcolor": "white",
                      "lakecolor": "white",
                      "landcolor": "#E5ECF6",
                      "showlakes": true,
                      "showland": true,
                      "subunitcolor": "white"
                    },
                    "hoverlabel": {
                      "align": "left"
                    },
                    "hovermode": "closest",
                    "mapbox": {
                      "style": "light"
                    },
                    "paper_bgcolor": "white",
                    "plot_bgcolor": "#E5ECF6",
                    "polar": {
                      "angularaxis": {
                        "gridcolor": "white",
                        "linecolor": "white",
                        "ticks": ""
                      },
                      "bgcolor": "#E5ECF6",
                      "radialaxis": {
                        "gridcolor": "white",
                        "linecolor": "white",
                        "ticks": ""
                      }
                    },
                    "scene": {
                      "xaxis": {
                        "backgroundcolor": "#E5ECF6",
                        "gridcolor": "white",
                        "gridwidth": 2,
                        "linecolor": "white",
                        "showbackground": true,
                        "ticks": "",
                        "zerolinecolor": "white"
                      },
                      "yaxis": {
                        "backgroundcolor": "#E5ECF6",
                        "gridcolor": "white",
                        "gridwidth": 2,
                        "linecolor": "white",
                        "showbackground": true,
                        "ticks": "",
                        "zerolinecolor": "white"
                      },
                      "zaxis": {
                        "backgroundcolor": "#E5ECF6",
                        "gridcolor": "white",
                        "gridwidth": 2,
                        "linecolor": "white",
                        "showbackground": true,
                        "ticks": "",
                        "zerolinecolor": "white"
                      }
                    },
                    "shapedefaults": {
                      "line": {
                        "color": "#2a3f5f"
                      }
                    },
                    "ternary": {
                      "aaxis": {
                        "gridcolor": "white",
                        "linecolor": "white",
                        "ticks": ""
                      },
                      "baxis": {
                        "gridcolor": "white",
                        "linecolor": "white",
                        "ticks": ""
                      },
                      "bgcolor": "#E5ECF6",
                      "caxis": {
                        "gridcolor": "white",
                        "linecolor": "white",
                        "ticks": ""
                      }
                    },
                    "title": {
                      "x": 0.05
                    },
                    "xaxis": {
                      "automargin": true,
                      "gridcolor": "white",
                      "linecolor": "white",
                      "ticks": "",
                      "title": {
                        "standoff": 15
                      },
                      "zerolinecolor": "white",
                      "zerolinewidth": 2
                    },
                    "yaxis": {
                      "automargin": true,
                      "gridcolor": "white",
                      "linecolor": "white",
                      "ticks": "",
                      "title": {
                        "standoff": 15
                      },
                      "zerolinecolor": "white",
                      "zerolinewidth": 2
                    }
                  }
                },
                "title": {
                  "text": "NOx"
                },
                "width": 600
              }
            },
            "text/html": [
              "<div>                            <div id=\"a160d28c-af62-4b8a-ab3a-469678c9f4e8\" class=\"plotly-graph-div\" style=\"height:800px; width:600px;\"></div>            <script type=\"text/javascript\">                require([\"plotly\"], function(Plotly) {                    window.PLOTLYENV=window.PLOTLYENV || {};                                    if (document.getElementById(\"a160d28c-af62-4b8a-ab3a-469678c9f4e8\")) {                    Plotly.newPlot(                        \"a160d28c-af62-4b8a-ab3a-469678c9f4e8\",                        [{\"branchvalues\":\"total\",\"customdata\":[[25.24561403508772],[46.36196319018405],[34.05810397553517],[34.00523560209424],[54.69345818702042],[33.80073431241656],[26.6],[32.57938144329897],[41.502747252747255],[28.1007371007371],[8.977777777777778],[64.74695863746959],[71.72761904761904],[54.5058611361587],[29.237244897959183],[38.96774193548387],[26.27710843373494],[51.71584699453552],[21.793427230046948],[65.0],[32.4375],[64.71972098922004],[31.31728045325779],[58.31994261119082],[32.602409638554214],[62.0480109739369],[8.585365853658537],[44.84602368866328],[19.397306397306398],[50.80246913580247],[54.3588110403397],[28.873417721518987],[63.24465355004277],[12.282608695652174],[44.63795899720176],[20.54102861562258],[25.697674418604652],[61.15873015873016],[11.757281553398059],[67.0],[47.401028277634964],[23.012448132780083],[44.0],[50.0],[27.796296296296298],[58.5572733661279],[11.19047619047619],[61.2599782574934],[35.85367569468871],[59.83582089552239],[48.55140186915888],[27.82937181663837],[57.69714285714286],[29.305084745762713],[3.0],[30.64074074074074],[38.78875171467764],[21.69022869022869],[52.10349554489376],[26.149553571428573],[53.85],[25.49954586739328],[10.714285714285714],[45.5781741867786],[28.008810572687224],[37.0],[62.23099501027297],[35.324298160697],[58.574312955692655],[33.311816578483246],[25.026058631921824],[60.60589970501475],[31.8],[68.17027027027027],[24.08490566037736],[13.307692307692308],[24.857988165680474],[35.083224967490246],[21.11190817790531],[9.470588235294118],[48.20690846286701],[26.43581081081081],[53.71522111413317],[32.62007343941249],[13.347826086956522],[56.76869439769175],[32.734939759036145],[46.70451579222135],[23.926470588235293],[21.307692307692307],[53.950258100022836],[31.070473109645942],[38.11584415584416]],\"domain\":{\"x\":[0.0,1.0],\"y\":[0.0,1.0]},\"hovertemplate\":\"labels=%{label}<br>EmissionsNOxmgkm_sum=%{value}<br>parent=%{parent}<br>id=%{id}<br>Emisiones NOx=%{color}<extra></extra>\",\"ids\":[\"Gasolina/ABARTH\",\"Diesel/ALFA ROMEO\",\"Gasolina/ALFA ROMEO\",\"Gasolina/ASTON MARTIN LAGONDA\",\"Diesel/AUDI\",\"Gasolina/AUDI\",\"HEV/AUDI\",\"Gasolina/BENTLEY MOTORS\",\"Diesel/BMW\",\"Gasolina/BMW\",\"HEV/BMW\",\"Diesel/CHRYSLER JEEP\",\"Gasolina/CHRYSLER JEEP\",\"Diesel/CITROEN\",\"Gasolina/CITROEN\",\"Diesel/DACIA\",\"Gasolina/DACIA\",\"Diesel/DS\",\"Gasolina/DS\",\"HEV/DS\",\"Gasolina/FERRARI\",\"Diesel/FIAT\",\"Gasolina/FIAT\",\"Diesel/FORD\",\"Gasolina/FORD\",\"Diesel/HONDA\",\"Gasolina/HONDA\",\"Diesel/HYUNDAI\",\"Gasolina/HYUNDAI\",\"Diesel/INFINITI\",\"Gasolina/INFINITI\",\"HEV/INFINITI\",\"Diesel/JAGUAR\",\"Gasolina/JAGUAR\",\"Diesel/KIA\",\"Gasolina/KIA\",\"Gasolina/LAMBORGHINI\",\"Diesel/LAND ROVER\",\"Gasolina/LAND ROVER\",\"HEV/LAND ROVER\",\"Gasolina/LEXUS\",\"HEV/LEXUS\",\"Diesel/LONDON TAXI COMPANY\",\"Diesel/MASERATI\",\"Gasolina/MASERATI\",\"Diesel/MAZDA\",\"Gasolina/MAZDA\",\"Diesel/MERCEDES-BENZ\",\"Gasolina/MERCEDES-BENZ\",\"HEV/MERCEDES-BENZ\",\"Diesel/MINI\",\"Gasolina/MINI\",\"Diesel/MITSUBISHI\",\"Gasolina/MITSUBISHI\",\"HEV/MITSUBISHI\",\"Gasolina/McLaren\",\"Diesel/NISSAN\",\"Gasolina/NISSAN\",\"Diesel/PEUGEOT\",\"Gasolina/PEUGEOT\",\"Diesel/PORSCHE\",\"Gasolina/PORSCHE\",\"HEV/PORSCHE\",\"Diesel/RENAULT\",\"Gasolina/RENAULT\",\"Gasolina/Rolls Royce\",\"Diesel/SEAT\",\"Gasolina/SEAT\",\"Diesel/SKODA\",\"Gasolina/SKODA\",\"Gasolina/SMART\",\"Diesel/SSANGYONG\",\"Gasolina/SSANGYONG\",\"Diesel/SUBARU\",\"Gasolina/SUBARU\",\"Diesel/SUZUKI\",\"Gasolina/SUZUKI\",\"Diesel/TOYOTA\",\"Gasolina/TOYOTA\",\"HEV/TOYOTA\",\"Diesel/VAUXHALL\",\"Gasolina/VAUXHALL\",\"Diesel/VOLKSWAGEN\",\"Gasolina/VOLKSWAGEN\",\"HEV/VOLKSWAGEN\",\"Diesel/VOLKSWAGEN C.V.\",\"Gasolina/VOLKSWAGEN C.V.\",\"Diesel/VOLVO\",\"Gasolina/VOLVO\",\"HEV/VOLVO\",\"Diesel\",\"Gasolina\",\"HEV\"],\"labels\":[\"ABARTH\",\"ALFA ROMEO\",\"ALFA ROMEO\",\"ASTON MARTIN LAGONDA\",\"AUDI\",\"AUDI\",\"AUDI\",\"BENTLEY MOTORS\",\"BMW\",\"BMW\",\"BMW\",\"CHRYSLER JEEP\",\"CHRYSLER JEEP\",\"CITROEN\",\"CITROEN\",\"DACIA\",\"DACIA\",\"DS\",\"DS\",\"DS\",\"FERRARI\",\"FIAT\",\"FIAT\",\"FORD\",\"FORD\",\"HONDA\",\"HONDA\",\"HYUNDAI\",\"HYUNDAI\",\"INFINITI\",\"INFINITI\",\"INFINITI\",\"JAGUAR\",\"JAGUAR\",\"KIA\",\"KIA\",\"LAMBORGHINI\",\"LAND ROVER\",\"LAND ROVER\",\"LAND ROVER\",\"LEXUS\",\"LEXUS\",\"LONDON TAXI COMPANY\",\"MASERATI\",\"MASERATI\",\"MAZDA\",\"MAZDA\",\"MERCEDES-BENZ\",\"MERCEDES-BENZ\",\"MERCEDES-BENZ\",\"MINI\",\"MINI\",\"MITSUBISHI\",\"MITSUBISHI\",\"MITSUBISHI\",\"McLaren\",\"NISSAN\",\"NISSAN\",\"PEUGEOT\",\"PEUGEOT\",\"PORSCHE\",\"PORSCHE\",\"PORSCHE\",\"RENAULT\",\"RENAULT\",\"Rolls Royce\",\"SEAT\",\"SEAT\",\"SKODA\",\"SKODA\",\"SMART\",\"SSANGYONG\",\"SSANGYONG\",\"SUBARU\",\"SUBARU\",\"SUZUKI\",\"SUZUKI\",\"TOYOTA\",\"TOYOTA\",\"TOYOTA\",\"VAUXHALL\",\"VAUXHALL\",\"VOLKSWAGEN\",\"VOLKSWAGEN\",\"VOLKSWAGEN\",\"VOLKSWAGEN C.V.\",\"VOLKSWAGEN C.V.\",\"VOLVO\",\"VOLVO\",\"VOLVO\",\"Diesel\",\"Gasolina\",\"HEV\"],\"marker\":{\"coloraxis\":\"coloraxis\",\"colors\":[25.24561403508772,46.36196319018405,34.05810397553517,34.00523560209424,54.69345818702042,33.80073431241656,26.6,32.57938144329897,41.502747252747255,28.1007371007371,8.977777777777778,64.74695863746959,71.72761904761904,54.5058611361587,29.237244897959183,38.96774193548387,26.27710843373494,51.71584699453552,21.793427230046948,65.0,32.4375,64.71972098922004,31.31728045325779,58.31994261119082,32.602409638554214,62.0480109739369,8.585365853658537,44.84602368866328,19.397306397306398,50.80246913580247,54.3588110403397,28.873417721518987,63.24465355004277,12.282608695652174,44.63795899720176,20.54102861562258,25.697674418604652,61.15873015873016,11.757281553398059,67.0,47.401028277634964,23.012448132780083,44.0,50.0,27.796296296296298,58.5572733661279,11.19047619047619,61.2599782574934,35.85367569468871,59.83582089552239,48.55140186915888,27.82937181663837,57.69714285714286,29.305084745762713,3.0,30.64074074074074,38.78875171467764,21.69022869022869,52.10349554489376,26.149553571428573,53.85,25.49954586739328,10.714285714285714,45.5781741867786,28.008810572687224,37.0,62.23099501027297,35.324298160697,58.574312955692655,33.311816578483246,25.026058631921824,60.60589970501475,31.8,68.17027027027027,24.08490566037736,13.307692307692308,24.857988165680474,35.083224967490246,21.11190817790531,9.470588235294118,48.20690846286701,26.43581081081081,53.71522111413317,32.62007343941249,13.347826086956522,56.76869439769175,32.734939759036145,46.70451579222135,23.926470588235293,21.307692307692307,53.950258100022836,31.070473109645942,38.11584415584416]},\"name\":\"\",\"parents\":[\"Gasolina\",\"Diesel\",\"Gasolina\",\"Gasolina\",\"Diesel\",\"Gasolina\",\"HEV\",\"Gasolina\",\"Diesel\",\"Gasolina\",\"HEV\",\"Diesel\",\"Gasolina\",\"Diesel\",\"Gasolina\",\"Diesel\",\"Gasolina\",\"Diesel\",\"Gasolina\",\"HEV\",\"Gasolina\",\"Diesel\",\"Gasolina\",\"Diesel\",\"Gasolina\",\"Diesel\",\"Gasolina\",\"Diesel\",\"Gasolina\",\"Diesel\",\"Gasolina\",\"HEV\",\"Diesel\",\"Gasolina\",\"Diesel\",\"Gasolina\",\"Gasolina\",\"Diesel\",\"Gasolina\",\"HEV\",\"Gasolina\",\"HEV\",\"Diesel\",\"Diesel\",\"Gasolina\",\"Diesel\",\"Gasolina\",\"Diesel\",\"Gasolina\",\"HEV\",\"Diesel\",\"Gasolina\",\"Diesel\",\"Gasolina\",\"HEV\",\"Gasolina\",\"Diesel\",\"Gasolina\",\"Diesel\",\"Gasolina\",\"Diesel\",\"Gasolina\",\"HEV\",\"Diesel\",\"Gasolina\",\"Gasolina\",\"Diesel\",\"Gasolina\",\"Diesel\",\"Gasolina\",\"Gasolina\",\"Diesel\",\"Gasolina\",\"Diesel\",\"Gasolina\",\"Diesel\",\"Gasolina\",\"Diesel\",\"Gasolina\",\"HEV\",\"Diesel\",\"Gasolina\",\"Diesel\",\"Gasolina\",\"HEV\",\"Diesel\",\"Gasolina\",\"Diesel\",\"Gasolina\",\"HEV\",\"\",\"\",\"\"],\"values\":[228.0,163.0,327.0,382.0,15378.0,5992.0,80.0,485.0,12376.0,6512.0,90.0,1644.0,525.0,2218.0,784.0,186.0,166.0,1098.0,426.0,65.0,320.0,1577.0,706.0,11849.0,4150.0,729.0,164.0,1182.0,297.0,891.0,471.0,79.0,1169.0,184.0,3502.2,1034.4,43.0,945.0,103.0,67.0,389.0,482.0,44.0,100.0,108.0,1423.0,147.0,12878.0,5686.0,737.0,2996.0,2356.0,350.0,59.0,3.0,540.0,729.0,481.0,2918.0,896.0,160.0,2202.0,21.0,1906.0,908.0,296.0,3407.0,2066.0,7132.0,2835.0,307.0,1695.0,150.0,740.0,212.0,52.0,338.0,769.0,697.0,187.0,2895.0,2960.0,9927.0,4085.0,23.0,4159.0,249.0,3831.0,544.0,91.0,113018.2,51810.4,1925.0],\"type\":\"sunburst\"}],                        {\"template\":{\"data\":{\"histogram2dcontour\":[{\"type\":\"histogram2dcontour\",\"colorbar\":{\"outlinewidth\":0,\"ticks\":\"\"},\"colorscale\":[[0.0,\"#0d0887\"],[0.1111111111111111,\"#46039f\"],[0.2222222222222222,\"#7201a8\"],[0.3333333333333333,\"#9c179e\"],[0.4444444444444444,\"#bd3786\"],[0.5555555555555556,\"#d8576b\"],[0.6666666666666666,\"#ed7953\"],[0.7777777777777778,\"#fb9f3a\"],[0.8888888888888888,\"#fdca26\"],[1.0,\"#f0f921\"]]}],\"choropleth\":[{\"type\":\"choropleth\",\"colorbar\":{\"outlinewidth\":0,\"ticks\":\"\"}}],\"histogram2d\":[{\"type\":\"histogram2d\",\"colorbar\":{\"outlinewidth\":0,\"ticks\":\"\"},\"colorscale\":[[0.0,\"#0d0887\"],[0.1111111111111111,\"#46039f\"],[0.2222222222222222,\"#7201a8\"],[0.3333333333333333,\"#9c179e\"],[0.4444444444444444,\"#bd3786\"],[0.5555555555555556,\"#d8576b\"],[0.6666666666666666,\"#ed7953\"],[0.7777777777777778,\"#fb9f3a\"],[0.8888888888888888,\"#fdca26\"],[1.0,\"#f0f921\"]]}],\"heatmap\":[{\"type\":\"heatmap\",\"colorbar\":{\"outlinewidth\":0,\"ticks\":\"\"},\"colorscale\":[[0.0,\"#0d0887\"],[0.1111111111111111,\"#46039f\"],[0.2222222222222222,\"#7201a8\"],[0.3333333333333333,\"#9c179e\"],[0.4444444444444444,\"#bd3786\"],[0.5555555555555556,\"#d8576b\"],[0.6666666666666666,\"#ed7953\"],[0.7777777777777778,\"#fb9f3a\"],[0.8888888888888888,\"#fdca26\"],[1.0,\"#f0f921\"]]}],\"heatmapgl\":[{\"type\":\"heatmapgl\",\"colorbar\":{\"outlinewidth\":0,\"ticks\":\"\"},\"colorscale\":[[0.0,\"#0d0887\"],[0.1111111111111111,\"#46039f\"],[0.2222222222222222,\"#7201a8\"],[0.3333333333333333,\"#9c179e\"],[0.4444444444444444,\"#bd3786\"],[0.5555555555555556,\"#d8576b\"],[0.6666666666666666,\"#ed7953\"],[0.7777777777777778,\"#fb9f3a\"],[0.8888888888888888,\"#fdca26\"],[1.0,\"#f0f921\"]]}],\"contourcarpet\":[{\"type\":\"contourcarpet\",\"colorbar\":{\"outlinewidth\":0,\"ticks\":\"\"}}],\"contour\":[{\"type\":\"contour\",\"colorbar\":{\"outlinewidth\":0,\"ticks\":\"\"},\"colorscale\":[[0.0,\"#0d0887\"],[0.1111111111111111,\"#46039f\"],[0.2222222222222222,\"#7201a8\"],[0.3333333333333333,\"#9c179e\"],[0.4444444444444444,\"#bd3786\"],[0.5555555555555556,\"#d8576b\"],[0.6666666666666666,\"#ed7953\"],[0.7777777777777778,\"#fb9f3a\"],[0.8888888888888888,\"#fdca26\"],[1.0,\"#f0f921\"]]}],\"surface\":[{\"type\":\"surface\",\"colorbar\":{\"outlinewidth\":0,\"ticks\":\"\"},\"colorscale\":[[0.0,\"#0d0887\"],[0.1111111111111111,\"#46039f\"],[0.2222222222222222,\"#7201a8\"],[0.3333333333333333,\"#9c179e\"],[0.4444444444444444,\"#bd3786\"],[0.5555555555555556,\"#d8576b\"],[0.6666666666666666,\"#ed7953\"],[0.7777777777777778,\"#fb9f3a\"],[0.8888888888888888,\"#fdca26\"],[1.0,\"#f0f921\"]]}],\"mesh3d\":[{\"type\":\"mesh3d\",\"colorbar\":{\"outlinewidth\":0,\"ticks\":\"\"}}],\"scatter\":[{\"fillpattern\":{\"fillmode\":\"overlay\",\"size\":10,\"solidity\":0.2},\"type\":\"scatter\"}],\"parcoords\":[{\"type\":\"parcoords\",\"line\":{\"colorbar\":{\"outlinewidth\":0,\"ticks\":\"\"}}}],\"scatterpolargl\":[{\"type\":\"scatterpolargl\",\"marker\":{\"colorbar\":{\"outlinewidth\":0,\"ticks\":\"\"}}}],\"bar\":[{\"error_x\":{\"color\":\"#2a3f5f\"},\"error_y\":{\"color\":\"#2a3f5f\"},\"marker\":{\"line\":{\"color\":\"#E5ECF6\",\"width\":0.5},\"pattern\":{\"fillmode\":\"overlay\",\"size\":10,\"solidity\":0.2}},\"type\":\"bar\"}],\"scattergeo\":[{\"type\":\"scattergeo\",\"marker\":{\"colorbar\":{\"outlinewidth\":0,\"ticks\":\"\"}}}],\"scatterpolar\":[{\"type\":\"scatterpolar\",\"marker\":{\"colorbar\":{\"outlinewidth\":0,\"ticks\":\"\"}}}],\"histogram\":[{\"marker\":{\"pattern\":{\"fillmode\":\"overlay\",\"size\":10,\"solidity\":0.2}},\"type\":\"histogram\"}],\"scattergl\":[{\"type\":\"scattergl\",\"marker\":{\"colorbar\":{\"outlinewidth\":0,\"ticks\":\"\"}}}],\"scatter3d\":[{\"type\":\"scatter3d\",\"line\":{\"colorbar\":{\"outlinewidth\":0,\"ticks\":\"\"}},\"marker\":{\"colorbar\":{\"outlinewidth\":0,\"ticks\":\"\"}}}],\"scattermapbox\":[{\"type\":\"scattermapbox\",\"marker\":{\"colorbar\":{\"outlinewidth\":0,\"ticks\":\"\"}}}],\"scatterternary\":[{\"type\":\"scatterternary\",\"marker\":{\"colorbar\":{\"outlinewidth\":0,\"ticks\":\"\"}}}],\"scattercarpet\":[{\"type\":\"scattercarpet\",\"marker\":{\"colorbar\":{\"outlinewidth\":0,\"ticks\":\"\"}}}],\"carpet\":[{\"aaxis\":{\"endlinecolor\":\"#2a3f5f\",\"gridcolor\":\"white\",\"linecolor\":\"white\",\"minorgridcolor\":\"white\",\"startlinecolor\":\"#2a3f5f\"},\"baxis\":{\"endlinecolor\":\"#2a3f5f\",\"gridcolor\":\"white\",\"linecolor\":\"white\",\"minorgridcolor\":\"white\",\"startlinecolor\":\"#2a3f5f\"},\"type\":\"carpet\"}],\"table\":[{\"cells\":{\"fill\":{\"color\":\"#EBF0F8\"},\"line\":{\"color\":\"white\"}},\"header\":{\"fill\":{\"color\":\"#C8D4E3\"},\"line\":{\"color\":\"white\"}},\"type\":\"table\"}],\"barpolar\":[{\"marker\":{\"line\":{\"color\":\"#E5ECF6\",\"width\":0.5},\"pattern\":{\"fillmode\":\"overlay\",\"size\":10,\"solidity\":0.2}},\"type\":\"barpolar\"}],\"pie\":[{\"automargin\":true,\"type\":\"pie\"}]},\"layout\":{\"autotypenumbers\":\"strict\",\"colorway\":[\"#636efa\",\"#EF553B\",\"#00cc96\",\"#ab63fa\",\"#FFA15A\",\"#19d3f3\",\"#FF6692\",\"#B6E880\",\"#FF97FF\",\"#FECB52\"],\"font\":{\"color\":\"#2a3f5f\"},\"hovermode\":\"closest\",\"hoverlabel\":{\"align\":\"left\"},\"paper_bgcolor\":\"white\",\"plot_bgcolor\":\"#E5ECF6\",\"polar\":{\"bgcolor\":\"#E5ECF6\",\"angularaxis\":{\"gridcolor\":\"white\",\"linecolor\":\"white\",\"ticks\":\"\"},\"radialaxis\":{\"gridcolor\":\"white\",\"linecolor\":\"white\",\"ticks\":\"\"}},\"ternary\":{\"bgcolor\":\"#E5ECF6\",\"aaxis\":{\"gridcolor\":\"white\",\"linecolor\":\"white\",\"ticks\":\"\"},\"baxis\":{\"gridcolor\":\"white\",\"linecolor\":\"white\",\"ticks\":\"\"},\"caxis\":{\"gridcolor\":\"white\",\"linecolor\":\"white\",\"ticks\":\"\"}},\"coloraxis\":{\"colorbar\":{\"outlinewidth\":0,\"ticks\":\"\"}},\"colorscale\":{\"sequential\":[[0.0,\"#0d0887\"],[0.1111111111111111,\"#46039f\"],[0.2222222222222222,\"#7201a8\"],[0.3333333333333333,\"#9c179e\"],[0.4444444444444444,\"#bd3786\"],[0.5555555555555556,\"#d8576b\"],[0.6666666666666666,\"#ed7953\"],[0.7777777777777778,\"#fb9f3a\"],[0.8888888888888888,\"#fdca26\"],[1.0,\"#f0f921\"]],\"sequentialminus\":[[0.0,\"#0d0887\"],[0.1111111111111111,\"#46039f\"],[0.2222222222222222,\"#7201a8\"],[0.3333333333333333,\"#9c179e\"],[0.4444444444444444,\"#bd3786\"],[0.5555555555555556,\"#d8576b\"],[0.6666666666666666,\"#ed7953\"],[0.7777777777777778,\"#fb9f3a\"],[0.8888888888888888,\"#fdca26\"],[1.0,\"#f0f921\"]],\"diverging\":[[0,\"#8e0152\"],[0.1,\"#c51b7d\"],[0.2,\"#de77ae\"],[0.3,\"#f1b6da\"],[0.4,\"#fde0ef\"],[0.5,\"#f7f7f7\"],[0.6,\"#e6f5d0\"],[0.7,\"#b8e186\"],[0.8,\"#7fbc41\"],[0.9,\"#4d9221\"],[1,\"#276419\"]]},\"xaxis\":{\"gridcolor\":\"white\",\"linecolor\":\"white\",\"ticks\":\"\",\"title\":{\"standoff\":15},\"zerolinecolor\":\"white\",\"automargin\":true,\"zerolinewidth\":2},\"yaxis\":{\"gridcolor\":\"white\",\"linecolor\":\"white\",\"ticks\":\"\",\"title\":{\"standoff\":15},\"zerolinecolor\":\"white\",\"automargin\":true,\"zerolinewidth\":2},\"scene\":{\"xaxis\":{\"backgroundcolor\":\"#E5ECF6\",\"gridcolor\":\"white\",\"linecolor\":\"white\",\"showbackground\":true,\"ticks\":\"\",\"zerolinecolor\":\"white\",\"gridwidth\":2},\"yaxis\":{\"backgroundcolor\":\"#E5ECF6\",\"gridcolor\":\"white\",\"linecolor\":\"white\",\"showbackground\":true,\"ticks\":\"\",\"zerolinecolor\":\"white\",\"gridwidth\":2},\"zaxis\":{\"backgroundcolor\":\"#E5ECF6\",\"gridcolor\":\"white\",\"linecolor\":\"white\",\"showbackground\":true,\"ticks\":\"\",\"zerolinecolor\":\"white\",\"gridwidth\":2}},\"shapedefaults\":{\"line\":{\"color\":\"#2a3f5f\"}},\"annotationdefaults\":{\"arrowcolor\":\"#2a3f5f\",\"arrowhead\":0,\"arrowwidth\":1},\"geo\":{\"bgcolor\":\"white\",\"landcolor\":\"#E5ECF6\",\"subunitcolor\":\"white\",\"showland\":true,\"showlakes\":true,\"lakecolor\":\"white\"},\"title\":{\"x\":0.05},\"mapbox\":{\"style\":\"light\"}}},\"coloraxis\":{\"colorbar\":{\"title\":{\"text\":\"Emisiones NOx\"}},\"colorscale\":[[0.0,\"#0d0887\"],[0.1111111111111111,\"#46039f\"],[0.2222222222222222,\"#7201a8\"],[0.3333333333333333,\"#9c179e\"],[0.4444444444444444,\"#bd3786\"],[0.5555555555555556,\"#d8576b\"],[0.6666666666666666,\"#ed7953\"],[0.7777777777777778,\"#fb9f3a\"],[0.8888888888888888,\"#fdca26\"],[1.0,\"#f0f921\"]]},\"legend\":{\"tracegroupgap\":0},\"title\":{\"text\":\"NOx\"},\"height\":800,\"width\":600},                        {\"responsive\": true}                    ).then(function(){\n",
              "                            \n",
              "var gd = document.getElementById('a160d28c-af62-4b8a-ab3a-469678c9f4e8');\n",
              "var x = new MutationObserver(function (mutations, observer) {{\n",
              "        var display = window.getComputedStyle(gd).display;\n",
              "        if (!display || display === 'none') {{\n",
              "            console.log([gd, 'removed!']);\n",
              "            Plotly.purge(gd);\n",
              "            observer.disconnect();\n",
              "        }}\n",
              "}});\n",
              "\n",
              "// Listen for the removal of the full notebook cells\n",
              "var notebookContainer = gd.closest('#notebook-container');\n",
              "if (notebookContainer) {{\n",
              "    x.observe(notebookContainer, {childList: true});\n",
              "}}\n",
              "\n",
              "// Listen for the clearing of the current output cell\n",
              "var outputEl = gd.closest('.output');\n",
              "if (outputEl) {{\n",
              "    x.observe(outputEl, {childList: true});\n",
              "}}\n",
              "\n",
              "                        })                };                });            </script>        </div>"
            ]
          },
          "metadata": {},
          "output_type": "display_data"
        }
      ],
      "source": [
        "data = datosCoches\n",
        "fig = px.sunburst(data,\n",
        "                  title=(\"NOx\"),\n",
        "                  height=800,\n",
        "                  width=600,\n",
        "                  path=['Tipo',\n",
        "                        'Manufacturer'],\n",
        "                  values='EmissionsNOxmgkm',\n",
        "                  color='EmissionsNOxmgkm',\n",
        "                  labels={'EmissionsNOxmgkm':'Emisiones NOx'})\n",
        "fig.show()"
      ]
    },
    {
      "cell_type": "code",
      "execution_count": null,
      "id": "049f50b5",
      "metadata": {
        "id": "049f50b5"
      },
      "outputs": [],
      "source": []
    }
  ],
  "metadata": {
    "kernelspec": {
      "display_name": "Python 3 (ipykernel)",
      "language": "python",
      "name": "python3"
    },
    "language_info": {
      "codemirror_mode": {
        "name": "ipython",
        "version": 3
      },
      "file_extension": ".py",
      "mimetype": "text/x-python",
      "name": "python",
      "nbconvert_exporter": "python",
      "pygments_lexer": "ipython3",
      "version": "3.10.6"
    },
    "colab": {
      "provenance": []
    }
  },
  "nbformat": 4,
  "nbformat_minor": 5
}